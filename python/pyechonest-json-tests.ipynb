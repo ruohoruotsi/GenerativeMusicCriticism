{
 "metadata": {
  "name": "",
  "signature": "sha256:4130690d2a81c18da0fe364363e0830b12b01e06ea42872eee3f85a0df204397"
 },
 "nbformat": 3,
 "nbformat_minor": 0,
 "worksheets": [
  {
   "cells": [
    {
     "cell_type": "code",
     "collapsed": false,
     "input": [
      "from pyechonest import artist\n",
      "from pyechonest import song\n",
      "\n",
      "def get_tempo(artist):\n",
      "    \"gets the tempo for a song\"\n",
      "    results = song.search(artist=artist, results=1, buckets=['audio_summary'])\n",
      "    if len(results) > 0:\n",
      "        return results[0].audio_summary['tempo']\n",
      "    else:\n",
      "        return None\n",
      "\n",
      "for hottt_artist in artist.top_hottt(results=1):\n",
      "    # print hottt_artist.name, hottt_artist.id, hottt_artist.hotttnesss\n",
      "    print hottt_artist.name, get_tempo(hottt_artist.name)\n",
      "    a = artist.Artist(hottt_artist.name)\n",
      "    images = a.get_images(results=1)\n",
      "    print images[0]['url']"
     ],
     "language": "python",
     "metadata": {},
     "outputs": [
      {
       "output_type": "stream",
       "stream": "stdout",
       "text": [
        "Katy Perry "
       ]
      },
      {
       "output_type": "stream",
       "stream": "stdout",
       "text": [
        "183.72\n",
        "http://upload.wikimedia.org/wikipedia/commons/f/f6/Katy_Perry_YouTube.jpg"
       ]
      },
      {
       "output_type": "stream",
       "stream": "stdout",
       "text": [
        "\n"
       ]
      }
     ],
     "prompt_number": 2
    },
    {
     "cell_type": "code",
     "collapsed": false,
     "input": [
      "import time\n",
      "import json\n",
      "from pyechonest import config\n",
      "from pyechonest import artist\n",
      "\n",
      "config.ECHO_NEST_API_KEY=\"2VN1LKJEQUBPUKXEC\"\n",
      "hotttArtistsCache = []\n",
      "faveArtistsCache = []\n",
      "\n",
      "faveArtistsList = [\n",
      "    'Moby', 'Donna Summer', 'Robbie Williams', \n",
      "    'Pet Shop Boys', 'Prince', 'Sly and the Family Stone',\n",
      "    'David Bowie', 'Marvin Gaye', 'Aretha Franklin', \n",
      "    'Juan Atkins', 'Michael Jackson', 'Stevie Wonder', \n",
      "    'Led Zeppelin', 'Pink Floyd', 'Rihanna', 'Tina Turner',\n",
      "    'Johnny Hallyday', 'Gloria Estefan', 'Tupac Shakur', \n",
      "    'Depeche Mode', 'Bj\u00f6rk', 'Daft Punk', 'Aphex Twin', \n",
      "    'Prodigy', 'Kraftwerk', 'Massive Attack',\n",
      "    'DJ Shadow', 'Radiohead', 'The Orb', 'Jean-Michel Jarre',\n",
      "    'R\u00f6yksopp', 'LCD Soundsystem', 'Faithless', 'Ruoho Ruotsi',\n",
      "    'Ratatat', 'Postal Service', 'Wilco', 'The Avett Brothers',\n",
      "    'Tangerine Dream', 'Leftfield', 'Frivolous', 'Basement Jaxx',\n",
      "    'Boards of Canada', 'Amon Tobin', 'Glitch Mob', \n",
      "    'Hollis P. Monroe', 'Frankie Knuckles', 'Francois K',\n",
      "    'Trentem\u00f8ller', 'Chelonis R. Jones', 'Steve Bug', \n",
      "    'Lawrence', 'Jimpster', 'Jeff Samuel', 'Ian Pooley',\n",
      "    'Omar-S', 'Luomo', 'Kerri Chandler', 'Charles Webster',\n",
      "    'Roy Davis Jr.', 'Robert Owens', 'Cajmere feat. Dajae',\n",
      "    'Black Science Orchestra', 'Mr. Fingers', 'Saint Etienne',\n",
      "    'Masters at Work', 'Theo Parrish', 'Moodymann', \n",
      "    'Pepe Bradock', 'Chez N Trent', 'Basic Channel', \n",
      "    'Rhythm & Sound', 'Roman Fl\u00fcgel', 'Joe Lewis', 'DJ Said', \n",
      "    'Recloose', 'Kate Simko', 'Aschka', 'Ikonika', 'Maya Jane Coles'\n",
      "    ]\n",
      "\n",
      "\n",
      "def packArtist(name, id, images, urls, terms, twitter_id):    \n",
      "    currentArtist = { \"name\": name,\n",
      "                      \"id\" : id,\n",
      "                      \"images\": images, \n",
      "                      \"URLs\": urls,\n",
      "                      \"genres\": terms,\n",
      "                      \"twitter_id\": twitter_id\n",
      "                    }\n",
      "    return currentArtist\n",
      "\n",
      "\n",
      "def writeArtistsCaches():\n",
      "    \n",
      "    # HOTTT artists\n",
      "    for hottt_artist in artist.top_hottt(results=50):\n",
      "        a = artist.Artist(hottt_artist.id, buckets=['images', 'urls', 'terms'])\n",
      "        print a.name, a.id\n",
      "        currentHotttness = packArtist(a.name, a.id, a.images, a.urls, a.terms, a.get_twitter_id())\n",
      "        hotttArtistsCache.append(currentHotttness)\n",
      "        time.sleep(20) # delays for 20 seconds\n",
      "\n",
      "    # FAVE artists\n",
      "    for fave_artist in faveArtistsList:\n",
      "        a = artist.Artist(fave_artist, buckets=['images', 'urls', 'terms'])\n",
      "        print a.name, a.id\n",
      "        currentFave = packArtist(a.name, a.id, a.images, a.urls, a.terms, a.get_twitter_id())\n",
      "        hotttArtistsCache.append(currentFave)\n",
      "        time.sleep(20) # delays for 20 seconds\n",
      "    \n",
      "    with open('artistMetaData.js', 'w') as outfile:\n",
      "        outfile.write(\"var hotttArtistsCache = \")\n",
      "        json.dump(hotttArtistsCache, outfile)\n",
      "        outfile.write(\";\")\n",
      "        outfile.close()\n",
      "\n",
      "    print \"\\n\" + \"Fini - writeArtistsCaches\"    \n",
      "    \n",
      "\n",
      "######################    \n",
      "writeArtistsCaches()    "
     ],
     "language": "python",
     "metadata": {},
     "outputs": [
      {
       "output_type": "stream",
       "stream": "stdout",
       "text": [
        "Katy Perry AR0IVTL1187B9AD520\n",
        "Avicii"
       ]
      },
      {
       "output_type": "stream",
       "stream": "stdout",
       "text": [
        " ARWLAEE122BCFCA245\n",
        "Pharrell Williams"
       ]
      },
      {
       "output_type": "stream",
       "stream": "stdout",
       "text": [
        " ARLIWDY1456895A560\n",
        "Coldplay"
       ]
      },
      {
       "output_type": "stream",
       "stream": "stdout",
       "text": [
        " ARJ7KF01187B98D717\n",
        "Lily Allen"
       ]
      },
      {
       "output_type": "stream",
       "stream": "stdout",
       "text": [
        " ARKZJ301187FB521B2\n",
        "Beyonc\u00e9"
       ]
      },
      {
       "output_type": "stream",
       "stream": "stdout",
       "text": [
        " AR65K7A1187FB4DAA4\n",
        "Imagine Dragons"
       ]
      },
      {
       "output_type": "stream",
       "stream": "stdout",
       "text": [
        " ARRVRFP126FE025327\n",
        "Shakira"
       ]
      },
      {
       "output_type": "stream",
       "stream": "stdout",
       "text": [
        " AR6PJ8R1187FB5AD70\n",
        "The Black Keys"
       ]
      },
      {
       "output_type": "stream",
       "stream": "stdout",
       "text": [
        " ARS8GNX1187B9B5141\n",
        "Calvin Harris"
       ]
      },
      {
       "output_type": "stream",
       "stream": "stdout",
       "text": [
        " ARJRB241187FB556A3\n",
        "David Guetta"
       ]
      },
      {
       "output_type": "stream",
       "stream": "stdout",
       "text": [
        " ARH2QI91187FB3788D\n",
        "Pitbull"
       ]
      },
      {
       "output_type": "stream",
       "stream": "stdout",
       "text": [
        " ARK9BHE1187FB3AC9D\n",
        "Lorde"
       ]
      },
      {
       "output_type": "stream",
       "stream": "stdout",
       "text": [
        " ARUXAKW13D610B0A9B\n",
        "Eminem"
       ]
      },
      {
       "output_type": "stream",
       "stream": "stdout",
       "text": [
        " ARTH9041187FB43E1F\n",
        "Justin Timberlake"
       ]
      },
      {
       "output_type": "stream",
       "stream": "stdout",
       "text": [
        " ARWK5QH1187B9A9B7F\n",
        "Iggy Azalea"
       ]
      },
      {
       "output_type": "stream",
       "stream": "stdout",
       "text": [
        " ARBJMMW136E570FA06\n",
        "Lana Del Rey"
       ]
      },
      {
       "output_type": "stream",
       "stream": "stdout",
       "text": [
        " ARICLSK131AAE25F5E\n",
        "John Legend"
       ]
      },
      {
       "output_type": "stream",
       "stream": "stdout",
       "text": [
        " ARHDI7O1187B9B6850\n",
        "OneRepublic"
       ]
      },
      {
       "output_type": "stream",
       "stream": "stdout",
       "text": [
        " AR73S4G1187B9A03C2\n",
        "Bastille"
       ]
      },
      {
       "output_type": "stream",
       "stream": "stdout",
       "text": [
        " ARZT6MQ1187FB56487\n",
        "Michael Jackson"
       ]
      },
      {
       "output_type": "stream",
       "stream": "stdout",
       "text": [
        " ARXPPEY1187FB51DF4\n",
        "Jason Der\u00fclo"
       ]
      },
      {
       "output_type": "stream",
       "stream": "stdout",
       "text": [
        " ARICFET123E29C2452\n",
        "Ellie Goulding"
       ]
      },
      {
       "output_type": "stream",
       "stream": "stdout",
       "text": [
        " ARKTTJV12592CDA07F\n",
        "Ed Sheeran"
       ]
      },
      {
       "output_type": "stream",
       "stream": "stdout",
       "text": [
        " ARSDWSZ122ECCB706A\n",
        "Daft Punk"
       ]
      },
      {
       "output_type": "stream",
       "stream": "stdout",
       "text": [
        " ARF8HTQ1187B9AE693\n",
        "Arctic Monkeys"
       ]
      },
      {
       "output_type": "stream",
       "stream": "stdout",
       "text": [
        " ARM0P6Z1187FB4D466\n",
        "One Direction"
       ]
      },
      {
       "output_type": "stream",
       "stream": "stdout",
       "text": [
        " ARZHFAY130708EE366\n",
        "Demi Lovato"
       ]
      },
      {
       "output_type": "stream",
       "stream": "stdout",
       "text": [
        " ARUCF6P11A348F0B17\n",
        "Ti\u00ebsto"
       ]
      },
      {
       "output_type": "stream",
       "stream": "stdout",
       "text": [
        " ARIW30O1187FB5A29A\n",
        "Passenger"
       ]
      },
      {
       "output_type": "stream",
       "stream": "stdout",
       "text": [
        " ARMTZR11187B9AD0C2\n",
        "Enrique Iglesias"
       ]
      },
      {
       "output_type": "stream",
       "stream": "stdout",
       "text": [
        " ARDCFNZ1187FB3DDB0\n",
        "Aloe Blacc"
       ]
      },
      {
       "output_type": "stream",
       "stream": "stdout",
       "text": [
        " ARKS0051187FB43934\n",
        "Clean Bandit"
       ]
      },
      {
       "output_type": "stream",
       "stream": "stdout",
       "text": [
        " ARIRBAA133D0D26D78\n",
        "Bruno Mars"
       ]
      },
      {
       "output_type": "stream",
       "stream": "stdout",
       "text": [
        " ARJHCSL123E29C21E8\n",
        "Lykke Li"
       ]
      },
      {
       "output_type": "stream",
       "stream": "stdout",
       "text": [
        " ARGHEC01187FB597B0\n",
        "The Chainsmokers"
       ]
      },
      {
       "output_type": "stream",
       "stream": "stdout",
       "text": [
        " ARSUSSG13B864F22D8\n",
        "Sam Smith"
       ]
      },
      {
       "output_type": "stream",
       "stream": "stdout",
       "text": [
        " ARUZM8A11C8A41519C\n",
        "Zedd"
       ]
      },
      {
       "output_type": "stream",
       "stream": "stdout",
       "text": [
        " ARTQFNZ12E2A671BBF\n",
        "Martin Garrix"
       ]
      },
      {
       "output_type": "stream",
       "stream": "stdout",
       "text": [
        " ARAGGUA136E57105F8\n",
        "Chris Brown"
       ]
      },
      {
       "output_type": "stream",
       "stream": "stdout",
       "text": [
        " ARXOTQH1187FB57084\n",
        "Stromae"
       ]
      },
      {
       "output_type": "stream",
       "stream": "stdout",
       "text": [
        " ARLGNCZ1269FCD4F62\n",
        "Mr. Probz"
       ]
      },
      {
       "output_type": "stream",
       "stream": "stdout",
       "text": [
        " ARMTPRF1269FCD5C94\n",
        "Rihanna"
       ]
      },
      {
       "output_type": "stream",
       "stream": "stdout",
       "text": [
        " ARKU3Z61187FB51DCA\n",
        "Miley Cyrus"
       ]
      },
      {
       "output_type": "stream",
       "stream": "stdout",
       "text": [
        " ARYAVBS1187FB5B46C\n",
        "Lady Gaga"
       ]
      },
      {
       "output_type": "stream",
       "stream": "stdout",
       "text": [
        " ARX6TAQ11C8A415850\n",
        "American Authors"
       ]
      },
      {
       "output_type": "stream",
       "stream": "stdout",
       "text": [
        " ARECGUA13B4C995FC8\n",
        "Drake"
       ]
      },
      {
       "output_type": "stream",
       "stream": "stdout",
       "text": [
        " ARODZUF11F4C841E1F\n",
        "Skrillex"
       ]
      },
      {
       "output_type": "stream",
       "stream": "stdout",
       "text": [
        " ARUAMGA123E29C15AD\n",
        "5 Seconds Of Summer"
       ]
      },
      {
       "output_type": "stream",
       "stream": "stdout",
       "text": [
        " AREXQVQ13B20C75202\n",
        "Ariana Grande"
       ]
      },
      {
       "output_type": "stream",
       "stream": "stdout",
       "text": [
        " AROHQCR13244CF7152\n",
        "Moby"
       ]
      },
      {
       "output_type": "stream",
       "stream": "stdout",
       "text": [
        " ARPT0RR1187FB527E1\n",
        "Donna Summer"
       ]
      },
      {
       "output_type": "stream",
       "stream": "stdout",
       "text": [
        " ARVU2XO1187B9893DB\n",
        "Robbie Williams"
       ]
      },
      {
       "output_type": "stream",
       "stream": "stdout",
       "text": [
        " ARENMIP1187FB5638D\n",
        "Pet Shop Boys"
       ]
      },
      {
       "output_type": "stream",
       "stream": "stdout",
       "text": [
        " ARA60941187B9AD4A3\n",
        "Prince"
       ]
      },
      {
       "output_type": "stream",
       "stream": "stdout",
       "text": [
        " ARZQ7QA1187B9AD08B\n",
        "Sly & The Family Stone"
       ]
      },
      {
       "output_type": "stream",
       "stream": "stdout",
       "text": [
        " ARDJZ181187B9B7FBF\n",
        "David Bowie"
       ]
      },
      {
       "output_type": "stream",
       "stream": "stdout",
       "text": [
        " ARJA1841187FB3A029\n",
        "Marvin Gaye"
       ]
      },
      {
       "output_type": "stream",
       "stream": "stdout",
       "text": [
        " ARVNNXD1187B9AE50D\n",
        "Aretha Franklin"
       ]
      },
      {
       "output_type": "stream",
       "stream": "stdout",
       "text": [
        " AR7BGWD1187FB59CCB\n",
        "Juan Atkins"
       ]
      },
      {
       "output_type": "stream",
       "stream": "stdout",
       "text": [
        " ARFEZLZ1187B9AEEED\n",
        "Michael Jackson"
       ]
      },
      {
       "output_type": "stream",
       "stream": "stdout",
       "text": [
        " ARXPPEY1187FB51DF4\n",
        "Stevie Wonder"
       ]
      },
      {
       "output_type": "stream",
       "stream": "stdout",
       "text": [
        " ARUM60L1187B9A7E1F\n",
        "Led Zeppelin"
       ]
      },
      {
       "output_type": "stream",
       "stream": "stdout",
       "text": [
        " ARDIBRT1187B9AF176\n",
        "Pink Floyd"
       ]
      },
      {
       "output_type": "stream",
       "stream": "stdout",
       "text": [
        " ARD4C1I1187FB4B0C3\n",
        "Rihanna"
       ]
      },
      {
       "output_type": "stream",
       "stream": "stdout",
       "text": [
        " ARKU3Z61187FB51DCA\n",
        "Tina Turner"
       ]
      },
      {
       "output_type": "stream",
       "stream": "stdout",
       "text": [
        " AR6001N1187B9A8632\n",
        "Johnny Hallyday"
       ]
      },
      {
       "output_type": "stream",
       "stream": "stdout",
       "text": [
        " ARZB0M41187B991E6B\n",
        "Gloria Estefan"
       ]
      },
      {
       "output_type": "stream",
       "stream": "stdout",
       "text": [
        " AR1TIS71187FB37160\n",
        "Tupac Shakur"
       ]
      },
      {
       "output_type": "stream",
       "stream": "stdout",
       "text": [
        " ARTFRUV13A23CCFE81\n",
        "Depeche Mode"
       ]
      },
      {
       "output_type": "stream",
       "stream": "stdout",
       "text": [
        " AR6LZB61187B9AF431\n",
        "Bj\u00f6rk"
       ]
      },
      {
       "output_type": "stream",
       "stream": "stdout",
       "text": [
        " ARAOQ5T1187FB435AB\n",
        "Daft Punk"
       ]
      },
      {
       "output_type": "stream",
       "stream": "stdout",
       "text": [
        " ARF8HTQ1187B9AE693\n",
        "Aphex Twin"
       ]
      },
      {
       "output_type": "stream",
       "stream": "stdout",
       "text": [
        " ARYPTWE1187FB49D64\n",
        "The Prodigy"
       ]
      },
      {
       "output_type": "stream",
       "stream": "stdout",
       "text": [
        " AR4L4WQ1187FB51996\n",
        "Kraftwerk"
       ]
      },
      {
       "output_type": "stream",
       "stream": "stdout",
       "text": [
        " AR1ZKBE1187FB53629\n",
        "Massive Attack"
       ]
      },
      {
       "output_type": "stream",
       "stream": "stdout",
       "text": [
        " ARNF13I1187FB562A5\n",
        "DJ Shadow"
       ]
      },
      {
       "output_type": "stream",
       "stream": "stdout",
       "text": [
        " ARME7101187FB3ECDD\n",
        "Radiohead"
       ]
      },
      {
       "output_type": "stream",
       "stream": "stdout",
       "text": [
        " ARH6W4X1187B99274F\n",
        "The Orb"
       ]
      },
      {
       "output_type": "stream",
       "stream": "stdout",
       "text": [
        " AR414I51187B99D330\n",
        "Jean Michel Jarre"
       ]
      },
      {
       "output_type": "stream",
       "stream": "stdout",
       "text": [
        " ARGCQH71187B9B6921\n",
        "R\u00f6yksopp"
       ]
      },
      {
       "output_type": "stream",
       "stream": "stdout",
       "text": [
        " ARDA9NZ1187FB3A825\n",
        "LCD Soundsystem"
       ]
      },
      {
       "output_type": "stream",
       "stream": "stdout",
       "text": [
        " ARFIU2R1187B9927F9\n",
        "Faithless"
       ]
      },
      {
       "output_type": "stream",
       "stream": "stdout",
       "text": [
        " ARXDQJB1187FB57154\n",
        "Ruoho Ruotsi"
       ]
      },
      {
       "output_type": "stream",
       "stream": "stdout",
       "text": [
        " ARPYOHF1257509B5C7\n",
        "Ratatat"
       ]
      },
      {
       "output_type": "stream",
       "stream": "stdout",
       "text": [
        " AREPZK61187B990670\n",
        "The Postal Service"
       ]
      },
      {
       "output_type": "stream",
       "stream": "stdout",
       "text": [
        " AR4ZYGI1187B995AA2\n",
        "Wilco"
       ]
      },
      {
       "output_type": "stream",
       "stream": "stdout",
       "text": [
        " AR6SPRZ1187FB4958B\n",
        "The Avett Brothers"
       ]
      },
      {
       "output_type": "stream",
       "stream": "stdout",
       "text": [
        " AR0QQGK1187FB4D5CB\n",
        "Tangerine Dream"
       ]
      },
      {
       "output_type": "stream",
       "stream": "stdout",
       "text": [
        " AR2L9A61187B9ADDBC\n",
        "Leftfield"
       ]
      },
      {
       "output_type": "stream",
       "stream": "stdout",
       "text": [
        " ARQLGB41187FB4F7EB\n",
        "Frivolous"
       ]
      },
      {
       "output_type": "stream",
       "stream": "stdout",
       "text": [
        " ARN1TD11187B9A38EB\n",
        "Basement Jaxx"
       ]
      },
      {
       "output_type": "stream",
       "stream": "stdout",
       "text": [
        " ARFSPOV1187B9B2363\n",
        "Boards of Canada"
       ]
      },
      {
       "output_type": "stream",
       "stream": "stdout",
       "text": [
        " AROG07L1187FB4C826\n",
        "Amon Tobin"
       ]
      },
      {
       "output_type": "stream",
       "stream": "stdout",
       "text": [
        " AR2AVSC1187B991634\n",
        "The Glitch Mob"
       ]
      },
      {
       "output_type": "stream",
       "stream": "stdout",
       "text": [
        " ARBBFJR126FE02537E\n",
        "Hollis P. Monroe"
       ]
      },
      {
       "output_type": "stream",
       "stream": "stdout",
       "text": [
        " AR5S2ZK1187B9B4C8F\n",
        "Frankie Knuckles"
       ]
      },
      {
       "output_type": "stream",
       "stream": "stdout",
       "text": [
        " AR3X0GS1187FB3F714\n",
        "Fran\u00e7ois K"
       ]
      },
      {
       "output_type": "stream",
       "stream": "stdout",
       "text": [
        " AREJDX21187FB42421\n",
        "Trentem\u00f8ller"
       ]
      },
      {
       "output_type": "stream",
       "stream": "stdout",
       "text": [
        " AR9S8551187FB3EA81\n",
        "Chelonis R. Jones"
       ]
      },
      {
       "output_type": "stream",
       "stream": "stdout",
       "text": [
        " ARNJWA01187FB4276C\n",
        "Steve Bug"
       ]
      },
      {
       "output_type": "stream",
       "stream": "stdout",
       "text": [
        " ARFJHZU1187B98ACA1\n",
        "Lawrence"
       ]
      },
      {
       "output_type": "stream",
       "stream": "stdout",
       "text": [
        " ARF3K2R1187B990072\n",
        "Jimpster"
       ]
      },
      {
       "output_type": "stream",
       "stream": "stdout",
       "text": [
        " AR5ZHV81187FB501C5\n",
        "Jeff Samuel"
       ]
      },
      {
       "output_type": "stream",
       "stream": "stdout",
       "text": [
        " AR9M3K01187FB381B2\n",
        "Ian Pooley"
       ]
      },
      {
       "output_type": "stream",
       "stream": "stdout",
       "text": [
        " AR7OO5F1187B9B84A3\n",
        "Omar S."
       ]
      },
      {
       "output_type": "stream",
       "stream": "stdout",
       "text": [
        " ARHWQTH11F50C4E648\n",
        "Luomo"
       ]
      },
      {
       "output_type": "stream",
       "stream": "stdout",
       "text": [
        " AREKQXQ1187FB45D0E\n",
        "Kerri Chandler"
       ]
      },
      {
       "output_type": "stream",
       "stream": "stdout",
       "text": [
        " ARK0N891187B99BBC7\n",
        "Charles Webster"
       ]
      },
      {
       "output_type": "stream",
       "stream": "stdout",
       "text": [
        " AROM3UD1187FB37B35\n",
        "Roy Davis Jr."
       ]
      },
      {
       "output_type": "stream",
       "stream": "stdout",
       "text": [
        " AR9C5VS1187FB377FE\n",
        "Robert Owens"
       ]
      },
      {
       "output_type": "stream",
       "stream": "stdout",
       "text": [
        " ARZ2XLT1187B995BAE\n",
        "Cajmere Feat Dajae"
       ]
      },
      {
       "output_type": "stream",
       "stream": "stdout",
       "text": [
        " ARJFCWS12FE08790B5\n",
        "Black Science Orchestra"
       ]
      },
      {
       "output_type": "stream",
       "stream": "stdout",
       "text": [
        " ARAFW1Q1187FB49A74\n",
        "Mr. Fingers"
       ]
      },
      {
       "output_type": "stream",
       "stream": "stdout",
       "text": [
        " ARVNGQW1187FB4B235\n",
        "Saint Etienne"
       ]
      },
      {
       "output_type": "stream",
       "stream": "stdout",
       "text": [
        " ARJFNSC1187B9939BD\n",
        "Masters at Work"
       ]
      },
      {
       "output_type": "stream",
       "stream": "stdout",
       "text": [
        " ARFLL2D1187FB52A62\n",
        "Theo Parrish"
       ]
      },
      {
       "output_type": "stream",
       "stream": "stdout",
       "text": [
        " AR9ZGZK1187FB47228\n",
        "Moodymann"
       ]
      },
      {
       "output_type": "stream",
       "stream": "stdout",
       "text": [
        " ARYP9WB1187B98C639\n",
        "P\u00e9p\u00e9 Bradock"
       ]
      },
      {
       "output_type": "stream",
       "stream": "stdout",
       "text": [
        " AR43JM21187FB4BA28\n",
        "Chez N Trent"
       ]
      },
      {
       "output_type": "stream",
       "stream": "stdout",
       "text": [
        " AROLHXL1187FB57AFE\n",
        "Basic Channel"
       ]
      },
      {
       "output_type": "stream",
       "stream": "stdout",
       "text": [
        " AR2CM6U1187B999EB7\n",
        "Rhythm & Sound"
       ]
      },
      {
       "output_type": "stream",
       "stream": "stdout",
       "text": [
        " AR8UPM11187FB3B707\n",
        "Roman Fl\u00fcgel"
       ]
      },
      {
       "output_type": "stream",
       "stream": "stdout",
       "text": [
        " AR78FOI1187FB43573\n",
        "Joe Lewis"
       ]
      },
      {
       "output_type": "stream",
       "stream": "stdout",
       "text": [
        " ARXLXHL1187B9967D0\n",
        "DJ Said"
       ]
      },
      {
       "output_type": "stream",
       "stream": "stdout",
       "text": [
        " ARHGAZK12086C1493E\n",
        "Recloose"
       ]
      },
      {
       "output_type": "stream",
       "stream": "stdout",
       "text": [
        " AR7300X1187B99ABFD\n",
        "Kate Simko"
       ]
      },
      {
       "output_type": "stream",
       "stream": "stdout",
       "text": [
        " ARI799Z1187FB4AC71\n",
        "Aschka"
       ]
      },
      {
       "output_type": "stream",
       "stream": "stdout",
       "text": [
        " ARQFAJV11F4C8410C2\n",
        "Ikonika"
       ]
      },
      {
       "output_type": "stream",
       "stream": "stdout",
       "text": [
        " ARH9FYH11A348F0D1D\n",
        "Maya Jane Coles"
       ]
      },
      {
       "output_type": "stream",
       "stream": "stdout",
       "text": [
        " ARYVDGE123526A0EC0\n",
        "\n",
        "Fini - writeArtistsCaches"
       ]
      },
      {
       "output_type": "stream",
       "stream": "stdout",
       "text": [
        "\n"
       ]
      }
     ],
     "prompt_number": 15
    },
    {
     "cell_type": "code",
     "collapsed": false,
     "input": [],
     "language": "python",
     "metadata": {},
     "outputs": []
    }
   ],
   "metadata": {}
  }
 ]
}