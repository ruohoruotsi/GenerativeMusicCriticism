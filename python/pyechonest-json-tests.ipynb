{
 "metadata": {
  "name": "",
  "signature": "sha256:9b6e23ac367b14913007c6b26c985ca856b4a1b13c342df525a4bc91c100eb4a"
 },
 "nbformat": 3,
 "nbformat_minor": 0,
 "worksheets": [
  {
   "cells": [
    {
     "cell_type": "code",
     "collapsed": false,
     "input": [
      "from pyechonest import artist\n",
      "from pyechonest import song\n",
      "\n",
      "def get_tempo(artist):\n",
      "    \"gets the tempo for a song\"\n",
      "    results = song.search(artist=artist, results=1, buckets=['audio_summary'])\n",
      "    if len(results) > 0:\n",
      "        return results[0].audio_summary['tempo']\n",
      "    else:\n",
      "        return None\n",
      "\n",
      "for hottt_artist in artist.top_hottt(results=1):\n",
      "    # print hottt_artist.name, hottt_artist.id, hottt_artist.hotttnesss\n",
      "    print hottt_artist.name, get_tempo(hottt_artist.name)\n",
      "    a = artist.Artist(hottt_artist.name)\n",
      "    images = a.get_images(results=1)\n",
      "    print images[0]['url']"
     ],
     "language": "python",
     "metadata": {},
     "outputs": [
      {
       "output_type": "stream",
       "stream": "stdout",
       "text": [
        "Coldplay "
       ]
      },
      {
       "output_type": "stream",
       "stream": "stdout",
       "text": [
        "70.003\n",
        "http://userserve-ak.last.fm/serve/_/428846.jpg"
       ]
      },
      {
       "output_type": "stream",
       "stream": "stdout",
       "text": [
        "\n"
       ]
      }
     ],
     "prompt_number": 6
    },
    {
     "cell_type": "code",
     "collapsed": false,
     "input": [
      "import time\n",
      "import json\n",
      "from pyechonest import config\n",
      "from pyechonest import artist\n",
      "\n",
      "config.ECHO_NEST_API_KEY=\"2VN1LKJEQUBPUKXEC\"\n",
      "\n",
      "hotttArtistsCache = []\n",
      "\n",
      "for hottt_artist in artist.top_hottt(results=4):\n",
      "    a = artist.Artist(hottt_artist.id, buckets=['images', 'urls', 'terms'])\n",
      "    # print a.name, hottt_artist.id\n",
      "    # print a.images[0]['url']\n",
      "    # print a.urls['twitter_url']\n",
      "    # print \"\\n\"\n",
      "    # print a.terms[0]['name']\n",
      "    # print json.dumps(a.images, sort_keys=False, indent=4, separators=(',', ': '))\n",
      "    # print json.dumps(a.urls, sort_keys=False, indent=4, separators=(',', ': '))\n",
      "    # print a.get_years_active()\n",
      "    # print a.get_twitter_id()\n",
      "    \n",
      "    currentHotttness = {\"name\": a.name,\n",
      "                        \"id\" : a.id,\n",
      "                        \"images\": a.images, \n",
      "                        \"URLs\": a.urls,\n",
      "                        \"genres\": a.terms,\n",
      "                        \"twitter_id\": a.get_twitter_id()\n",
      "                        }\n",
      "    hotttArtistsCache.append(currentHotttness)\n",
      "    \n",
      "    # delays for 5 seconds\n",
      "    time.sleep(5) \n",
      "    \n",
      "with open('artistMetaData.js', 'w') as outfile:\n",
      "      outfile.write(\"var hotttArtistsCache = \")\n",
      "      json.dump(hotttArtistsCache, outfile)\n",
      "      outfile.write(\";\")\n",
      "\n",
      "print \"Fini\"        "
     ],
     "language": "python",
     "metadata": {},
     "outputs": [
      {
       "output_type": "stream",
       "stream": "stdout",
       "text": [
        "Fini\n"
       ]
      }
     ],
     "prompt_number": 1
    },
    {
     "cell_type": "code",
     "collapsed": false,
     "input": [],
     "language": "python",
     "metadata": {},
     "outputs": [],
     "prompt_number": 150
    }
   ],
   "metadata": {}
  }
 ]
}