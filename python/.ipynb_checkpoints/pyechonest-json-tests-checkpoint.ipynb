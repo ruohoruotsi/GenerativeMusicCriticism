{
 "metadata": {
  "name": "",
  "signature": "sha256:b6c1df32cef4e52a842a6a8b8028c0a79f7138461a333c8d3319f122ad04e374"
 },
 "nbformat": 3,
 "nbformat_minor": 0,
 "worksheets": [
  {
   "cells": [
    {
     "cell_type": "code",
     "collapsed": false,
     "input": [
      "from pyechonest import artist\n",
      "from pyechonest import song\n",
      "\n",
      "def get_tempo(artist):\n",
      "    \"gets the tempo for a song\"\n",
      "    results = song.search(artist=artist, results=1, buckets=['audio_summary'])\n",
      "    if len(results) > 0:\n",
      "        return results[0].audio_summary['tempo']\n",
      "    else:\n",
      "        return None\n",
      "\n",
      "for hottt_artist in artist.top_hottt(results=1):\n",
      "    # print hottt_artist.name, hottt_artist.id, hottt_artist.hotttnesss\n",
      "    print hottt_artist.name, get_tempo(hottt_artist.name)\n",
      "    a = artist.Artist(hottt_artist.name)\n",
      "    images = a.get_images(results=1)\n",
      "    print images[0]['url']"
     ],
     "language": "python",
     "metadata": {},
     "outputs": [
      {
       "output_type": "stream",
       "stream": "stdout",
       "text": [
        "Katy Perry "
       ]
      },
      {
       "output_type": "stream",
       "stream": "stdout",
       "text": [
        "183.72\n",
        "http://upload.wikimedia.org/wikipedia/commons/f/f6/Katy_Perry_YouTube.jpg"
       ]
      },
      {
       "output_type": "stream",
       "stream": "stdout",
       "text": [
        "\n"
       ]
      }
     ],
     "prompt_number": 2
    },
    {
     "cell_type": "code",
     "collapsed": false,
     "input": [
      "import time\n",
      "import json\n",
      "from pyechonest import config\n",
      "from pyechonest import artist\n",
      "\n",
      "config.ECHO_NEST_API_KEY=\"2VN1LKJEQUBPUKXEC\"\n",
      "hotttArtistsCache = []\n",
      "\n",
      "fave4x4ArtistsList = [\n",
      "    'Juan Atkins','Faithless', 'Ruoho Ruotsi', 'Maurice Fulton',\n",
      "    'Leftfield', 'Frivolous', 'Basement Jaxx','Glitch Mob', \n",
      "    'Hollis P. Monroe', 'Frankie Knuckles', 'Francois K',\n",
      "    'Trentem\u00f8ller', 'Chelonis R. Jones', 'Steve Bug', \n",
      "    'Jimpster', 'Jeff Samuel', 'Ian Pooley',\n",
      "    'Omar-S', 'Luomo', 'Kerri Chandler', 'Charles Webster',\n",
      "    'Roy Davis Jr.', 'Robert Owens', 'Cajmere feat. Dajae',\n",
      "    'Black Science Orchestra', 'Mr. Fingers', 'Saint Etienne',\n",
      "    'Masters at Work', 'Theo Parrish', 'Moodymann', \n",
      "    'Basic Channel', 'Rhythm & Sound', 'Roman Fl\u00fcgel', \n",
      "    'Joe Lewis', 'DJ Said', 'Recloose', 'Kate Simko', 'Aschka', \n",
      "    'Maya Jane Coles', 'Gys', 'Deadbeat', 'Soultek',\n",
      "    'DeepChord', 'Vladislav Delay', 'Andy Stott', 'Intrusion', \n",
      "    'Rod Modell', 'Kassem Mosse', 'Murcof', 'Marc Leclair',\n",
      "    'Thomas Fehlman', 'Fax', 'Monolake', 'Kit Clayton', \n",
      "    'Bvdub', 'Swayzak', 'Wookie', 'Artful Dodger', 'MJ Cole',\n",
      "    'Les Rythmes Digitales', 'Fischerspooner', 'Cassius',\n",
      "    'Miguel Migs', 'Osunlade', 'Metro Area', 'Dennis Ferrer',\n",
      "    'Ron Trent', 'Larry Heard', 'Alton Miller', 'King Britt',\n",
      "    'Bougie Soliterre', 'Todd Terry', 'Black Coffee', \n",
      "    'Richie Hawtin', 'Speedy J', 'Kenny Larkin', 'Laurent Garnier',\n",
      "    'Carl Craig', 'Robert Hood', 'John Tejada', 'Thomas P. Heckmann',\n",
      "    'Aril Brikha', 'Tiefschwarz', 'Funk D\\'Void', 'A Guy Called Gerald',\n",
      "    'Jeff Mills', 'Aaron Carl', 'Josh Wink', 'Derrick May', \n",
      "    'Frankie Bones',  'DJ Assault', 'AUX 88', 'Fumiya Tanaka',\n",
      "    'The Lady Blacktronika', 'Junior Lopez', 'Someone Else', 'Noah Pred',\n",
      "    'Danny Tenaglia', 'Pete Tong', 'Booka Shade', 'Paul Kalkbrenner',\n",
      "    'Dapayk & Padberg', 'Igor O. Vlasov', 'Dreem Teem', 'Todd Edwards',\n",
      "    '187 Lockdown',  'Serious Danger', 'Deep Dish', 'Ellen Allien',\n",
      "    'Matias Aguayo', 'Alex Smoke', 'Modeselektor', 'Mike Shannon', \n",
      "    'Radio Slave', 'Jonas Bering', 'Glitterbug', 'Justus K\u00f6hncke',\n",
      "    'Wolfgang Voigt', 'Ripperton', 'Pantytec', 'Isol\u00e9e', 'Alex Under',\n",
      "    'Phonique', 'James Holden', 'Minilogue', 'Michael Mayer', \n",
      "    'Pantha Du Prince', 'H\u00e5kan Lidbo', 'Lusine', 'Kalabrese', \n",
      "    'Matthew Herbert', 'Jan Jelinek', 'Lucien-N-Luciano', 'Closer Musik',\n",
      "    'Apparat', 'Guillaume & The Coutu Dumonts', 'Thomas Brinkmann',\n",
      "    'The Soft Pink Truth', 'Ada', 'Wighnomy Brothers', 'Ricardo Villalobos',\n",
      "    'Jesse Somfay','Falko Brocksieper', 'Damian Lazarus', 'Superpitcher',\n",
      "    'Catz N\\' Dogz', 'Pan/Tone', 'Broker/Dealer', 'Dinky', 'T.Raumschmiere',\n",
      "    'Stephen Beaupr\u00e9', 'Konrad Black', 'Claude VonStroke', 'DJ Koze',\n",
      "    'Cobblestone Jazz', 'Robag Wruhme', 'Seth Troxler', 'Stewart Walker', \n",
      "    'Farben', 'Pier Bucci', 'Mathew Jonson', 'LoSoul', 'Safety Scissors',\n",
      "    'Anja Schneider', 'Markus Guentner', 'Fuckpony', 'Onur \u00d6zer', 'Mossa',\n",
      "    'Kenneth James Gibson', 'Butane', 'Mikael Stav\u00f6strand', 'Franklin de Costa',\n",
      "    'Quantec', 'Jin Choi', 'The Mountain People', 'Ch\u00e2teau Flight', 'Havantepe',\n",
      "    'Tomas Jirku', 'Lima\u00e7on', 'Redshape', 'Mike Huckaby',  'Taylor Deupree', \n",
      "    'Substance & Vainqueur'\n",
      "    ]\n",
      "\n",
      "faveBassArtistsList = [ \n",
      "    'Photek', 'Zomby', 'Kode9', 'Vex\\'d', 'Plastician', 'Joy Orbison', \n",
      "    'Eskmo', 'Tes La Rok', 'DFRNT', 'Africa HiTech', 'King Midas Sound',\n",
      "    'Skream', 'Djunya', '2562', 'Fantastic Mr. Fox', 'Ikonika', \n",
      "    'Timeblind', 'Mark Pritchard', 'Appleblim', 'Ramadanman', 'D1', \n",
      "    'Matty G',  'Peverelist', 'Untold',  'Roska',  'El-B',  'Mala', \n",
      "    'Coki',' Hijak', 'Mount Kimbie',  'Chrissy Murderbot', 'Scuba',\n",
      "    'Kush Arora', 'Meesha'\n",
      "    ]\n",
      "\n",
      "faveClassicArtistsList = [\n",
      "    'Bj\u00f6rk', 'Kraftwerk', 'DJ Shadow', 'Radiohead', 'The Orb', \n",
      "    'Jean-Michel Jarre', 'Aphex Twin', 'Tangerine Dream', \n",
      "    'Boards of Canada', 'Amon Tobin', 'Ratatat', 'Massive Attack',\n",
      "    'R\u00f6yksopp', 'LCD Soundsystem', 'Gotan Project', 'Layo & Bushwacka!', \n",
      "    'Gus-Gus', 'Everything but the Girl', 'Ursula 1000', 'Llorca',\n",
      "    'UNKLE', 'The Future Sound of London', 'The Avalanches', \n",
      "    'Laika', 'Thievery Corporation', 'Groove Armada', 'Bonobo', \n",
      "    'DJ Food','Tricky', 'Dirty Vegas', 'T\u00e9l\u00e9popmusik', 'Hooverphonic', \n",
      "    'dZihan & Kamien', 'Talvin Singh', 'DJ Vadim', 'Cibo Matto', \n",
      "    'Esthero', 'Martina Topley-Bird', 'Dimitri From Paris', \n",
      "    'Coldcut', 'Death in Vegas', 'R\u00f3is\u00edn Murphy', 'Nitin Sawhney',\n",
      "    'Jos\u00e9 Padilla', 'Jimi Tenor', 'Mr. Scruff', 'Dub Pistols', \n",
      "    'Morcheeba', 'Supreme Beings of Leisure', 'Air', 'DJ Krush', 'RJD2',\n",
      "    'Underworld', 'jenn mierau'\n",
      "    ]\n",
      "\n",
      "favedubArtistsList = [\n",
      "    'King Tubby', 'Scientist', 'Lee \"Scratch\" Perry', 'Augustus Pablo', \n",
      "    'Prince Jammy', 'Mad Professor', 'Roots Radics', 'The Upsetters', \n",
      "    'Sly Dunbar', 'Robbie Shakespeare', 'Keith Hudson', 'Tappa Zukie', 'Big Youth', \n",
      "    'The Aggrovators', 'U-Roy', 'Prince Far I', \n",
      "    'Black Uhuru', 'Horace Andy', 'I-Roy', 'The Abyssinians', \n",
      "    'Pablo Moses', 'Max Romeo', 'The Heptones', 'Burning Spear',\n",
      "    'Dennis Brown', 'Jacob Miller', 'Barrington Levy', 'Sugar Minnot',\n",
      "    'Yellowman', 'Gregory Isaacs', 'John Holt', 'Alton Ellis',\n",
      "    'Ken Boothe', 'The Ethiopians', 'Joe Higgs', 'Tommy McCook', \n",
      "    'The Melodians', 'Delroy Wilson', 'Isaac Haile Selassie', 'Polycubist'\n",
      "    ]\n",
      "\n",
      "faveAfricanArtistsList = [\n",
      "    'Manu Dibango', 'Baaba Maal',\n",
      "    'Antibalas Afrobeat Orchestra', 'Orlando Julius', 'William Onyeabor', \n",
      "    'T.P. Orchestre Poly-Rythmo', 'Sir Victor Uwaifo & His Melody Maestroes', \n",
      "    'Tony Allen & His Afro Messengers', 'Sahara All Stars Band Jos', \n",
      "    'Lijadu Sisters', 'King Sunny Ade & His African Beats', 'Ebo Taylor', \n",
      "    'Gasper Lawal', 'Tunji Oyelana and the Benders', '2 Face', 'P Square',\n",
      "    'Shina Williams & His African Percussionists', 'Weird MC', 'Plantashun Boiz',\n",
      "    'Paul I.K. Dairo', 'D\\'banj', 'Ruggedman', 'Eedris Abdulkareem', \n",
      "    'Styl-Plus', 'Tony Tetuila', 'JJC & 419 Squad', 'Ebenezer Obey', \n",
      "    'Haruna Ishola', 'L\u00e1gb\u00e1j\u00e1', 'Prince Nico Mbarga', 'West African Highlife Band',\n",
      "    'Modenine', 'Terry tha Rapman', 'Olu Maintain', 'Majek Fashek', 'Konono N\u00b01',\n",
      "    'Koffi Olomid\u00e9', 'Les Bantous de la Capitale', 'Thomas Mapfumo', 'Oliver Mtukudzi',\n",
      "    'Chiwoniso Maraire', 'Thomas Mapfumo & The Blacks Unlimited', 'Ang\u00e9lique Kidjo',\n",
      "    'Oumou Sangare', 'Isma\u00ebl L\u00f4', 'Geoffrey Oryema', 'Salif Keita', 'Amadou & Mariam',\n",
      "    'Orchestra Baobab', 'Bembeya Jazz National'\n",
      "    ]\n",
      "\n",
      "\n",
      "def addArtist(artist):\n",
      "        print artist.name, artist.id\n",
      "        artistToAdd = { \"name\": artist.name,\n",
      "                        \"id\": artist.id,\n",
      "                        \"images\": artist.images, \n",
      "                        \"URLs\": artist.urls,\n",
      "                        \"genres\": artist.terms,\n",
      "                        \"twitter_id\": artist.get_twitter_id()\n",
      "                        }\n",
      "        \n",
      "        hotttArtistsCache.append(artistToAdd)\n",
      "        time.sleep(10) # delays for 20 seconds\n",
      "\n",
      "        \n",
      "def addFaveArtistList(artistList):\n",
      "    for fave_artist in artistList:\n",
      "        a = artist.Artist(fave_artist, buckets=['images', 'urls', 'terms'])\n",
      "        addArtist(a)\n",
      "        \n",
      "        \n",
      "def writeArtistsCaches():\n",
      "    \n",
      "    # HOTTT artists\n",
      "    for hottt_artist in artist.top_hottt(results=100):\n",
      "        a = artist.Artist(hottt_artist.id, buckets=['images', 'urls', 'terms'])\n",
      "        addArtist(a)\n",
      "\n",
      "    # FAVE 4x4 artists\n",
      "    addFaveArtistList(fave4x4ArtistsList)\n",
      "\n",
      "    # FAVE Bass artists\n",
      "    addFaveArtistList(faveBassArtistsList)\n",
      "        \n",
      "     # FAVE Classic artists\n",
      "    addFaveArtistList(faveClassicArtistsList)\n",
      "\n",
      "     # FAVE Dub artists\n",
      "    addFaveArtistList(favedubArtistsList)\n",
      "        \n",
      "    # FAVE African artists\n",
      "    addFaveArtistList(faveAfricanArtistsList)\n",
      "\n",
      "    \n",
      "    with open('artistMetaData.js', 'w') as outfile:\n",
      "        outfile.write(\"var hotttArtistsCache = \")\n",
      "        json.dump(hotttArtistsCache, outfile)\n",
      "        outfile.write(\";\")\n",
      "        outfile.close()\n",
      "\n",
      "    print \"\\n\" + \"Fini - writeArtistsCaches\"    \n",
      "    \n",
      "\n",
      "######################    \n",
      "print 'fave4x4ArtistsList: ' + str(len(fave4x4ArtistsList))\n",
      "print 'faveBassArtistsList: ' + str(len(faveBassArtistsList))\n",
      "print 'faveClassicArtistsList: ' + str(len(faveClassicArtistsList))\n",
      "print 'favedubArtistsList: ' + str(len(favedubArtistsList))\n",
      "print 'faveAfricanArtistsList: ' + str(len(faveAfricanArtistsList))\n",
      "\n",
      "writeArtistsCaches()    "
     ],
     "language": "python",
     "metadata": {},
     "outputs": [
      {
       "output_type": "stream",
       "stream": "stdout",
       "text": [
        "fave4x4ArtistsList: 183\n",
        "faveBassArtistsList: 34\n",
        "faveClassicArtistsList: 54\n",
        "favedubArtistsList: 40\n",
        "faveAfricanArtistsList: 53\n",
        "Coldplay"
       ]
      },
      {
       "output_type": "stream",
       "stream": "stdout",
       "text": [
        " ARJ7KF01187B98D717\n",
        "Calvin Harris"
       ]
      },
      {
       "output_type": "stream",
       "stream": "stdout",
       "text": [
        " ARJRB241187FB556A3\n",
        "Jack White"
       ]
      },
      {
       "output_type": "stream",
       "stream": "stdout",
       "text": [
        " AR5LCG21187FB41C6A\n",
        "Pitbull"
       ]
      },
      {
       "output_type": "stream",
       "stream": "stdout",
       "text": [
        " ARK9BHE1187FB3AC9D\n",
        "Lana Del Rey"
       ]
      },
      {
       "output_type": "stream",
       "stream": "stdout",
       "text": [
        " ARICLSK131AAE25F5E\n",
        "David Guetta"
       ]
      },
      {
       "output_type": "stream",
       "stream": "stdout",
       "text": [
        " ARH2QI91187FB3788D\n",
        "Michael Jackson"
       ]
      },
      {
       "output_type": "stream",
       "stream": "stdout",
       "text": [
        " ARXPPEY1187FB51DF4\n",
        "John Legend"
       ]
      },
      {
       "output_type": "stream",
       "stream": "stdout",
       "text": [
        " ARHDI7O1187B9B6850\n",
        "Shakira"
       ]
      },
      {
       "output_type": "stream",
       "stream": "stdout",
       "text": [
        " AR6PJ8R1187FB5AD70\n",
        "Lorde"
       ]
      },
      {
       "output_type": "stream",
       "stream": "stdout",
       "text": [
        " ARUXAKW13D610B0A9B\n",
        "Jason Der\u00fclo"
       ]
      },
      {
       "output_type": "stream",
       "stream": "stdout",
       "text": [
        " ARICFET123E29C2452\n",
        "Pharrell Williams"
       ]
      },
      {
       "output_type": "stream",
       "stream": "stdout",
       "text": [
        " ARLIWDY1456895A560\n",
        "Katy Perry"
       ]
      },
      {
       "output_type": "stream",
       "stream": "stdout",
       "text": [
        " AR0IVTL1187B9AD520\n",
        "Clean Bandit"
       ]
      },
      {
       "output_type": "stream",
       "stream": "stdout",
       "text": [
        " ARIRBAA133D0D26D78\n",
        "Avicii"
       ]
      },
      {
       "output_type": "stream",
       "stream": "stdout",
       "text": [
        " ARWLAEE122BCFCA245\n",
        "Ariana Grande"
       ]
      },
      {
       "output_type": "stream",
       "stream": "stdout",
       "text": [
        " AROHQCR13244CF7152\n",
        "Beyonc\u00e9"
       ]
      },
      {
       "output_type": "stream",
       "stream": "stdout",
       "text": [
        " AR65K7A1187FB4DAA4\n",
        "Bastille"
       ]
      },
      {
       "output_type": "stream",
       "stream": "stdout",
       "text": [
        " ARZT6MQ1187FB56487\n",
        "Enrique Iglesias"
       ]
      },
      {
       "output_type": "stream",
       "stream": "stdout",
       "text": [
        " ARDCFNZ1187FB3DDB0\n",
        "Sam Smith"
       ]
      },
      {
       "output_type": "stream",
       "stream": "stdout",
       "text": [
        " ARUZM8A11C8A41519C\n",
        "Ed Sheeran"
       ]
      },
      {
       "output_type": "stream",
       "stream": "stdout",
       "text": [
        " ARSDWSZ122ECCB706A\n",
        "Iggy Azalea"
       ]
      },
      {
       "output_type": "stream",
       "stream": "stdout",
       "text": [
        " ARBJMMW136E570FA06\n",
        "Imagine Dragons"
       ]
      },
      {
       "output_type": "stream",
       "stream": "stdout",
       "text": [
        " ARRVRFP126FE025327\n",
        "Passenger"
       ]
      },
      {
       "output_type": "stream",
       "stream": "stdout",
       "text": [
        " ARMTZR11187B9AD0C2\n",
        "Sia"
       ]
      },
      {
       "output_type": "stream",
       "stream": "stdout",
       "text": [
        " AR6ENUY1187B994158\n",
        "Linkin Park"
       ]
      },
      {
       "output_type": "stream",
       "stream": "stdout",
       "text": [
        " ARQUMH41187B9AF699\n",
        "American Authors"
       ]
      },
      {
       "output_type": "stream",
       "stream": "stdout",
       "text": [
        " ARECGUA13B4C995FC8\n",
        "Arctic Monkeys"
       ]
      },
      {
       "output_type": "stream",
       "stream": "stdout",
       "text": [
        " ARM0P6Z1187FB4D466\n",
        "Disclosure"
       ]
      },
      {
       "output_type": "stream",
       "stream": "stdout",
       "text": [
        " ARPCATO12B3B3540E2\n",
        "Aloe Blacc"
       ]
      },
      {
       "output_type": "stream",
       "stream": "stdout",
       "text": [
        " ARKS0051187FB43934\n",
        "OneRepublic"
       ]
      },
      {
       "output_type": "stream",
       "stream": "stdout",
       "text": [
        " AR73S4G1187B9A03C2\n",
        "Justin Timberlake"
       ]
      },
      {
       "output_type": "stream",
       "stream": "stdout",
       "text": [
        " ARWK5QH1187B9A9B7F\n",
        "Nico & Vinz"
       ]
      },
      {
       "output_type": "stream",
       "stream": "stdout",
       "text": [
        " ARPYLSV143823E2416\n",
        "Daft Punk"
       ]
      },
      {
       "output_type": "stream",
       "stream": "stdout",
       "text": [
        " ARF8HTQ1187B9AE693\n",
        "The Chainsmokers"
       ]
      },
      {
       "output_type": "stream",
       "stream": "stdout",
       "text": [
        " ARSUSSG13B864F22D8\n",
        "Ti\u00ebsto"
       ]
      },
      {
       "output_type": "stream",
       "stream": "stdout",
       "text": [
        " ARIW30O1187FB5A29A\n",
        "Martin Garrix"
       ]
      },
      {
       "output_type": "stream",
       "stream": "stdout",
       "text": [
        " ARAGGUA136E57105F8\n",
        "Zedd"
       ]
      },
      {
       "output_type": "stream",
       "stream": "stdout",
       "text": [
        " ARTQFNZ12E2A671BBF\n",
        "Rihanna"
       ]
      },
      {
       "output_type": "stream",
       "stream": "stdout",
       "text": [
        " ARKU3Z61187FB51DCA\n",
        "Duke Dumont"
       ]
      },
      {
       "output_type": "stream",
       "stream": "stdout",
       "text": [
        " ARZNPPG1187FB4C845\n",
        "Kiesza"
       ]
      },
      {
       "output_type": "stream",
       "stream": "stdout",
       "text": [
        " ARHJSZQ11EBCD7BE27\n",
        "Bruno Mars"
       ]
      },
      {
       "output_type": "stream",
       "stream": "stdout",
       "text": [
        " ARJHCSL123E29C21E8\n",
        "Drake"
       ]
      },
      {
       "output_type": "stream",
       "stream": "stdout",
       "text": [
        " ARODZUF11F4C841E1F\n",
        "Skrillex"
       ]
      },
      {
       "output_type": "stream",
       "stream": "stdout",
       "text": [
        " ARUAMGA123E29C15AD\n",
        "Afrojack"
       ]
      },
      {
       "output_type": "stream",
       "stream": "stdout",
       "text": [
        " ARX6MR511C8A42C159\n",
        "Paramore"
       ]
      },
      {
       "output_type": "stream",
       "stream": "stdout",
       "text": [
        " AR4OU721187FB4549D\n",
        "Chris Brown"
       ]
      },
      {
       "output_type": "stream",
       "stream": "stdout",
       "text": [
        " ARXOTQH1187FB57084\n",
        "One Direction"
       ]
      },
      {
       "output_type": "stream",
       "stream": "stdout",
       "text": [
        " ARZHFAY130708EE366\n",
        "Demi Lovato"
       ]
      },
      {
       "output_type": "stream",
       "stream": "stdout",
       "text": [
        " ARUCF6P11A348F0B17\n",
        "Led Zeppelin"
       ]
      },
      {
       "output_type": "stream",
       "stream": "stdout",
       "text": [
        " ARDIBRT1187B9AF176\n",
        "Jennifer Lopez"
       ]
      },
      {
       "output_type": "stream",
       "stream": "stdout",
       "text": [
        " AR7C6G11187B9B4C1E\n",
        "Lady Gaga"
       ]
      },
      {
       "output_type": "stream",
       "stream": "stdout",
       "text": [
        " ARX6TAQ11C8A415850\n",
        "Rita Ora"
       ]
      },
      {
       "output_type": "stream",
       "stream": "stdout",
       "text": [
        " ARLXLHI134198E77C6\n",
        "5 Seconds Of Summer"
       ]
      },
      {
       "output_type": "stream",
       "stream": "stdout",
       "text": [
        " AREXQVQ13B20C75202\n",
        "Mr. Probz"
       ]
      },
      {
       "output_type": "stream",
       "stream": "stdout",
       "text": [
        " ARMTPRF1269FCD5C94\n",
        "Eminem"
       ]
      },
      {
       "output_type": "stream",
       "stream": "stdout",
       "text": [
        " ARTH9041187FB43E1F\n",
        "Deadmau5"
       ]
      },
      {
       "output_type": "stream",
       "stream": "stdout",
       "text": [
        " ARJS9GN1187FB578C4\n",
        "Idina Menzel"
       ]
      },
      {
       "output_type": "stream",
       "stream": "stdout",
       "text": [
        " AR83LT51187FB3E073\n",
        "Nicki Minaj"
       ]
      },
      {
       "output_type": "stream",
       "stream": "stdout",
       "text": [
        " ARDYVEQ122BCFCC19E\n",
        "Romeo Santos"
       ]
      },
      {
       "output_type": "stream",
       "stream": "stdout",
       "text": [
        " AREUJEI12FE0876ED5\n",
        "Vance Joy"
       ]
      },
      {
       "output_type": "stream",
       "stream": "stdout",
       "text": [
        " ARXGKXE13CABFC507C\n",
        "Tove Lo"
       ]
      },
      {
       "output_type": "stream",
       "stream": "stdout",
       "text": [
        " ARBUIGY13A709C567F\n",
        "Luke Bryan"
       ]
      },
      {
       "output_type": "stream",
       "stream": "stdout",
       "text": [
        " ARNNM56119B86686EA\n",
        "Mariah Carey"
       ]
      },
      {
       "output_type": "stream",
       "stream": "stdout",
       "text": [
        " ARKSZW81187B9B695D\n",
        "Ellie Goulding"
       ]
      },
      {
       "output_type": "stream",
       "stream": "stdout",
       "text": [
        " ARKTTJV12592CDA07F\n",
        "Miley Cyrus"
       ]
      },
      {
       "output_type": "stream",
       "stream": "stdout",
       "text": [
        " ARYAVBS1187FB5B46C\n",
        "The Black Keys"
       ]
      },
      {
       "output_type": "stream",
       "stream": "stdout",
       "text": [
        " ARS8GNX1187B9B5141\n",
        "Lily Allen"
       ]
      },
      {
       "output_type": "stream",
       "stream": "stdout",
       "text": [
        " ARKZJ301187FB521B2\n",
        "Sigma"
       ]
      },
      {
       "output_type": "stream",
       "stream": "stdout",
       "text": [
        " ARMM06Q1187FB37202\n",
        "Milky Chance"
       ]
      },
      {
       "output_type": "stream",
       "stream": "stdout",
       "text": [
        " ARMDNNP13D610B088F\n",
        "Rixton"
       ]
      },
      {
       "output_type": "stream",
       "stream": "stdout",
       "text": [
        " ARVSBMZ141E66AF00B\n",
        "Miranda Lambert"
       ]
      },
      {
       "output_type": "stream",
       "stream": "stdout",
       "text": [
        " AREEQPY1187FB5B9E3\n",
        "Taylor Swift"
       ]
      },
      {
       "output_type": "stream",
       "stream": "stdout",
       "text": [
        " ARS54I31187FB46721\n",
        "Adele"
       ]
      },
      {
       "output_type": "stream",
       "stream": "stdout",
       "text": [
        " AR7J9AP1187FB5BD64\n",
        "Cris Cab"
       ]
      },
      {
       "output_type": "stream",
       "stream": "stdout",
       "text": [
        " ARZESWU1309DFD4249\n",
        "Cro"
       ]
      },
      {
       "output_type": "stream",
       "stream": "stdout",
       "text": [
        " ARIGDMX1269FCD4CFB\n",
        "Kasabian"
       ]
      },
      {
       "output_type": "stream",
       "stream": "stdout",
       "text": [
        " ARCAQ8K1187FB437B0\n",
        "Macklemore & Ryan Lewis"
       ]
      },
      {
       "output_type": "stream",
       "stream": "stdout",
       "text": [
        " ARZEHLK12DDD1882BF\n",
        "Armin van Buuren"
       ]
      },
      {
       "output_type": "stream",
       "stream": "stdout",
       "text": [
        " AR0W7561187FB57131\n",
        "First Aid Kit"
       ]
      },
      {
       "output_type": "stream",
       "stream": "stdout",
       "text": [
        " ARBDKOI12086C14B65\n",
        "Future"
       ]
      },
      {
       "output_type": "stream",
       "stream": "stdout",
       "text": [
        " ARP6DKX1187FB55C12\n",
        "Prince Royce"
       ]
      },
      {
       "output_type": "stream",
       "stream": "stdout",
       "text": [
        " ARASIMV1257509D792\n",
        "Stromae"
       ]
      },
      {
       "output_type": "stream",
       "stream": "stdout",
       "text": [
        " ARLGNCZ1269FCD4F62\n",
        "Kollegah"
       ]
      },
      {
       "output_type": "stream",
       "stream": "stdout",
       "text": [
        " ARZ4B4U1187B9A8C86\n",
        "Robin Thicke"
       ]
      },
      {
       "output_type": "stream",
       "stream": "stdout",
       "text": [
        " AROETUE1187FB4A677\n",
        "Usher"
       ]
      },
      {
       "output_type": "stream",
       "stream": "stdout",
       "text": [
        " ARPDVPJ1187B9ADBE9\n",
        "Kid Ink"
       ]
      },
      {
       "output_type": "stream",
       "stream": "stdout",
       "text": [
        " ARFJXBN12F0DAC3E88\n",
        "Route 94"
       ]
      },
      {
       "output_type": "stream",
       "stream": "stdout",
       "text": [
        " ARGBMCI13F1A00A3EB\n",
        "Lil Jon"
       ]
      },
      {
       "output_type": "stream",
       "stream": "stdout",
       "text": [
        " ARHLGDG11F4C846A37\n",
        "Justin Bieber"
       ]
      },
      {
       "output_type": "stream",
       "stream": "stdout",
       "text": [
        " ARFCWSZ123526A0AFD\n",
        "London Grammar"
       ]
      },
      {
       "output_type": "stream",
       "stream": "stdout",
       "text": [
        " ARNKHIF13D3E92728E\n",
        "Christina Perri"
       ]
      },
      {
       "output_type": "stream",
       "stream": "stdout",
       "text": [
        " ARFDKIH129F1DDFB09\n",
        "Naughty Boy"
       ]
      },
      {
       "output_type": "stream",
       "stream": "stdout",
       "text": [
        " ARDWQVL1187FB3771D\n",
        "Jason Mraz"
       ]
      },
      {
       "output_type": "stream",
       "stream": "stdout",
       "text": [
        " ARML3X41187FB35F2E\n",
        "Chromeo"
       ]
      },
      {
       "output_type": "stream",
       "stream": "stdout",
       "text": [
        " ARAGT961187FB4193B\n",
        "Lykke Li"
       ]
      },
      {
       "output_type": "stream",
       "stream": "stdout",
       "text": [
        " ARGHEC01187FB597B0\n",
        "A Great Big World"
       ]
      },
      {
       "output_type": "stream",
       "stream": "stdout",
       "text": [
        " ARGPAWB13B0169D793\n",
        "50 Cent"
       ]
      },
      {
       "output_type": "stream",
       "stream": "stdout",
       "text": [
        " AR23C041187FB4D534\n",
        "Alicia Keys"
       ]
      },
      {
       "output_type": "stream",
       "stream": "stdout",
       "text": [
        " AR52EZT1187B9900BF\n",
        "Klingande"
       ]
      },
      {
       "output_type": "stream",
       "stream": "stdout",
       "text": [
        " ARFRFJX13DFF684D25\n",
        "Juan Atkins"
       ]
      },
      {
       "output_type": "stream",
       "stream": "stdout",
       "text": [
        " ARFEZLZ1187B9AEEED\n",
        "Faithless"
       ]
      },
      {
       "output_type": "stream",
       "stream": "stdout",
       "text": [
        " ARXDQJB1187FB57154\n",
        "Ruoho Ruotsi"
       ]
      },
      {
       "output_type": "stream",
       "stream": "stdout",
       "text": [
        " ARPYOHF1257509B5C7\n",
        "Maurice Fulton"
       ]
      },
      {
       "output_type": "stream",
       "stream": "stdout",
       "text": [
        " ARRWMKN1187FB43F91\n",
        "Leftfield"
       ]
      },
      {
       "output_type": "stream",
       "stream": "stdout",
       "text": [
        " ARQLGB41187FB4F7EB\n",
        "Frivolous"
       ]
      },
      {
       "output_type": "stream",
       "stream": "stdout",
       "text": [
        " ARN1TD11187B9A38EB\n",
        "Basement Jaxx"
       ]
      },
      {
       "output_type": "stream",
       "stream": "stdout",
       "text": [
        " ARFSPOV1187B9B2363\n",
        "The Glitch Mob"
       ]
      },
      {
       "output_type": "stream",
       "stream": "stdout",
       "text": [
        " ARBBFJR126FE02537E\n",
        "Hollis P. Monroe"
       ]
      },
      {
       "output_type": "stream",
       "stream": "stdout",
       "text": [
        " AR5S2ZK1187B9B4C8F\n",
        "Frankie Knuckles"
       ]
      },
      {
       "output_type": "stream",
       "stream": "stdout",
       "text": [
        " AR3X0GS1187FB3F714\n",
        "Fran\u00e7ois K"
       ]
      },
      {
       "output_type": "stream",
       "stream": "stdout",
       "text": [
        " AREJDX21187FB42421\n",
        "Trentem\u00f8ller"
       ]
      },
      {
       "output_type": "stream",
       "stream": "stdout",
       "text": [
        " AR9S8551187FB3EA81\n",
        "Chelonis R. Jones"
       ]
      },
      {
       "output_type": "stream",
       "stream": "stdout",
       "text": [
        " ARNJWA01187FB4276C\n",
        "Steve Bug"
       ]
      },
      {
       "output_type": "stream",
       "stream": "stdout",
       "text": [
        " ARFJHZU1187B98ACA1\n",
        "Jimpster"
       ]
      },
      {
       "output_type": "stream",
       "stream": "stdout",
       "text": [
        " AR5ZHV81187FB501C5\n",
        "Jeff Samuel"
       ]
      },
      {
       "output_type": "stream",
       "stream": "stdout",
       "text": [
        " AR9M3K01187FB381B2\n",
        "Ian Pooley"
       ]
      },
      {
       "output_type": "stream",
       "stream": "stdout",
       "text": [
        " AR7OO5F1187B9B84A3\n",
        "Omar S."
       ]
      },
      {
       "output_type": "stream",
       "stream": "stdout",
       "text": [
        " ARHWQTH11F50C4E648\n",
        "Luomo"
       ]
      },
      {
       "output_type": "stream",
       "stream": "stdout",
       "text": [
        " AREKQXQ1187FB45D0E\n",
        "Kerri Chandler"
       ]
      },
      {
       "output_type": "stream",
       "stream": "stdout",
       "text": [
        " ARK0N891187B99BBC7\n",
        "Charles Webster"
       ]
      },
      {
       "output_type": "stream",
       "stream": "stdout",
       "text": [
        " AROM3UD1187FB37B35\n",
        "Roy Davis Jr."
       ]
      },
      {
       "output_type": "stream",
       "stream": "stdout",
       "text": [
        " AR9C5VS1187FB377FE\n",
        "Robert Owens"
       ]
      },
      {
       "output_type": "stream",
       "stream": "stdout",
       "text": [
        " ARZ2XLT1187B995BAE\n",
        "Cajmere Feat Dajae"
       ]
      },
      {
       "output_type": "stream",
       "stream": "stdout",
       "text": [
        " ARJFCWS12FE08790B5\n",
        "Black Science Orchestra"
       ]
      },
      {
       "output_type": "stream",
       "stream": "stdout",
       "text": [
        " ARAFW1Q1187FB49A74\n",
        "Mr. Fingers"
       ]
      },
      {
       "output_type": "stream",
       "stream": "stdout",
       "text": [
        " ARVNGQW1187FB4B235\n",
        "Saint Etienne"
       ]
      },
      {
       "output_type": "stream",
       "stream": "stdout",
       "text": [
        " ARJFNSC1187B9939BD\n",
        "Masters at Work"
       ]
      },
      {
       "output_type": "stream",
       "stream": "stdout",
       "text": [
        " ARFLL2D1187FB52A62\n",
        "Theo Parrish"
       ]
      },
      {
       "output_type": "stream",
       "stream": "stdout",
       "text": [
        " AR9ZGZK1187FB47228\n",
        "Moodymann"
       ]
      },
      {
       "output_type": "stream",
       "stream": "stdout",
       "text": [
        " ARYP9WB1187B98C639\n",
        "Basic Channel"
       ]
      },
      {
       "output_type": "stream",
       "stream": "stdout",
       "text": [
        " AR2CM6U1187B999EB7\n",
        "Rhythm & Sound"
       ]
      },
      {
       "output_type": "stream",
       "stream": "stdout",
       "text": [
        " AR8UPM11187FB3B707\n",
        "Roman Fl\u00fcgel"
       ]
      },
      {
       "output_type": "stream",
       "stream": "stdout",
       "text": [
        " AR78FOI1187FB43573\n",
        "Joe Lewis"
       ]
      },
      {
       "output_type": "stream",
       "stream": "stdout",
       "text": [
        " ARXLXHL1187B9967D0\n",
        "DJ Said"
       ]
      },
      {
       "output_type": "stream",
       "stream": "stdout",
       "text": [
        " ARHGAZK12086C1493E\n",
        "Recloose"
       ]
      },
      {
       "output_type": "stream",
       "stream": "stdout",
       "text": [
        " AR7300X1187B99ABFD\n",
        "Kate Simko"
       ]
      },
      {
       "output_type": "stream",
       "stream": "stdout",
       "text": [
        " ARI799Z1187FB4AC71\n",
        "Aschka"
       ]
      },
      {
       "output_type": "stream",
       "stream": "stdout",
       "text": [
        " ARQFAJV11F4C8410C2\n",
        "Maya Jane Coles"
       ]
      },
      {
       "output_type": "stream",
       "stream": "stdout",
       "text": [
        " ARYVDGE123526A0EC0\n",
        "Gys"
       ]
      },
      {
       "output_type": "stream",
       "stream": "stdout",
       "text": [
        " AR75CQ71187B991C70\n",
        "Deadbeat"
       ]
      },
      {
       "output_type": "stream",
       "stream": "stdout",
       "text": [
        " ARB3JMR1187FB4227B\n",
        "Soultek"
       ]
      },
      {
       "output_type": "stream",
       "stream": "stdout",
       "text": [
        " ARU6K871187B9962B7\n",
        "DeepChord"
       ]
      },
      {
       "output_type": "stream",
       "stream": "stdout",
       "text": [
        " ARP0AFR1187FB4BBB9\n",
        "Vladislav Delay"
       ]
      },
      {
       "output_type": "stream",
       "stream": "stdout",
       "text": [
        " ARRKV0P1187B98D4FE\n",
        "Andy Stott"
       ]
      },
      {
       "output_type": "stream",
       "stream": "stdout",
       "text": [
        " AROEOHN1187B9B2736\n",
        "Intrusion"
       ]
      },
      {
       "output_type": "stream",
       "stream": "stdout",
       "text": [
        " ARAIQJH11C8A421D75\n",
        "Rod Modell"
       ]
      },
      {
       "output_type": "stream",
       "stream": "stdout",
       "text": [
        " ARHM80M1187FB3713C\n",
        "Kassem Mosse"
       ]
      },
      {
       "output_type": "stream",
       "stream": "stdout",
       "text": [
        " AR6PAIJ119B8667EEB\n",
        "Murcof"
       ]
      },
      {
       "output_type": "stream",
       "stream": "stdout",
       "text": [
        " AR6RHW31187B9A9698\n",
        "Marc Leclair"
       ]
      },
      {
       "output_type": "stream",
       "stream": "stdout",
       "text": [
        " ARU1WAP1187B9AA0FA\n",
        "Thomas Fehlman"
       ]
      },
      {
       "output_type": "stream",
       "stream": "stdout",
       "text": [
        " ARCEN7Q1187FB532FF\n",
        "Fax"
       ]
      },
      {
       "output_type": "stream",
       "stream": "stdout",
       "text": [
        " AR13E8A1187FB3931D\n",
        "Monolake"
       ]
      },
      {
       "output_type": "stream",
       "stream": "stdout",
       "text": [
        " AROVIZH1187FB37B1A\n",
        "Kit Clayton"
       ]
      },
      {
       "output_type": "stream",
       "stream": "stdout",
       "text": [
        " AROI7W91187B9AFD08\n",
        "Bvdub"
       ]
      },
      {
       "output_type": "stream",
       "stream": "stdout",
       "text": [
        " ARZLWJ21187FB57513\n",
        "Swayzak"
       ]
      },
      {
       "output_type": "stream",
       "stream": "stdout",
       "text": [
        " AR36ITB1187B9A636D\n",
        "Wookie"
       ]
      },
      {
       "output_type": "stream",
       "stream": "stdout",
       "text": [
        " AR7SVON1187B9A7FEC\n",
        "Artful Dodger"
       ]
      },
      {
       "output_type": "stream",
       "stream": "stdout",
       "text": [
        " AR18XYZ1187FB4CD22\n",
        "MJ Cole"
       ]
      },
      {
       "output_type": "stream",
       "stream": "stdout",
       "text": [
        " ARK5MMZ1187FB466D1\n",
        "Les Rythmes Digitales"
       ]
      },
      {
       "output_type": "stream",
       "stream": "stdout",
       "text": [
        " AR3NPVS1187FB5108F\n",
        "Fischerspooner"
       ]
      },
      {
       "output_type": "stream",
       "stream": "stdout",
       "text": [
        " AR9Z2O31187B9B49F9\n",
        "Cassius"
       ]
      },
      {
       "output_type": "stream",
       "stream": "stdout",
       "text": [
        " ARCGHBU1187FB4B637\n",
        "Miguel Migs"
       ]
      },
      {
       "output_type": "stream",
       "stream": "stdout",
       "text": [
        " ARY2ZUX1187B9A266C\n",
        "Osunlade"
       ]
      },
      {
       "output_type": "stream",
       "stream": "stdout",
       "text": [
        " ARM29941187FB42945\n",
        "Metro Area"
       ]
      },
      {
       "output_type": "stream",
       "stream": "stdout",
       "text": [
        " ARXX2TR1187FB5B420\n",
        "Dennis Ferrer"
       ]
      },
      {
       "output_type": "stream",
       "stream": "stdout",
       "text": [
        " AR31Y6Y1187B99A541\n",
        "Ron Trent"
       ]
      },
      {
       "output_type": "stream",
       "stream": "stdout",
       "text": [
        " AR62SFY1187FB49528\n",
        "Larry Heard"
       ]
      },
      {
       "output_type": "stream",
       "stream": "stdout",
       "text": [
        " ARA1SZ31187FB3F149\n",
        "Alton Miller"
       ]
      },
      {
       "output_type": "stream",
       "stream": "stdout",
       "text": [
        " ARM625W1187FB53403\n",
        "King Britt"
       ]
      },
      {
       "output_type": "stream",
       "stream": "stdout",
       "text": [
        " ARCKUD71187FB3BC0A\n",
        "Bougie Soliterre"
       ]
      },
      {
       "output_type": "stream",
       "stream": "stdout",
       "text": [
        " ARA52PX1187B9971A0\n",
        "Todd Terry"
       ]
      },
      {
       "output_type": "stream",
       "stream": "stdout",
       "text": [
        " ARERYQ81187FB46B0C\n",
        "Black Coffee"
       ]
      },
      {
       "output_type": "stream",
       "stream": "stdout",
       "text": [
        " AREQQCV12472CE3116\n",
        "Richie Hawtin"
       ]
      },
      {
       "output_type": "stream",
       "stream": "stdout",
       "text": [
        " AR2LV0Q1187B9AA3B1\n",
        "Speedy J"
       ]
      },
      {
       "output_type": "stream",
       "stream": "stdout",
       "text": [
        " ARJZX6S1187B9927C6\n",
        "Kenny Larkin"
       ]
      },
      {
       "output_type": "stream",
       "stream": "stdout",
       "text": [
        " ARKRUMS1187B9BA1B6\n",
        "Laurent Garnier"
       ]
      },
      {
       "output_type": "stream",
       "stream": "stdout",
       "text": [
        " ARRYBYF1187FB3929E\n",
        "Carl Craig"
       ]
      },
      {
       "output_type": "stream",
       "stream": "stdout",
       "text": [
        " ARQ3EJL1187B98BF06\n",
        "Robert Hood"
       ]
      },
      {
       "output_type": "stream",
       "stream": "stdout",
       "text": [
        " ARDNSXI1187B993545\n",
        "John Tejada"
       ]
      },
      {
       "output_type": "stream",
       "stream": "stdout",
       "text": [
        " ARFO65E1187B9ACA27\n",
        "Thomas P. Heckmann"
       ]
      },
      {
       "output_type": "stream",
       "stream": "stdout",
       "text": [
        " ARON6EK1187B9AEE57\n",
        "Aril Brikha"
       ]
      },
      {
       "output_type": "stream",
       "stream": "stdout",
       "text": [
        " ARX0RMO1187B99425D\n",
        "Tiefschwarz"
       ]
      },
      {
       "output_type": "stream",
       "stream": "stdout",
       "text": [
        " ARBSSV01187FB3A0C4\n",
        "Funk D'Void"
       ]
      },
      {
       "output_type": "stream",
       "stream": "stdout",
       "text": [
        " ARJH2B61187B9B9465\n",
        "A Guy Called Gerald"
       ]
      },
      {
       "output_type": "stream",
       "stream": "stdout",
       "text": [
        " AR3V8ZM1187FB4CFA5\n",
        "Jeff Mills"
       ]
      },
      {
       "output_type": "stream",
       "stream": "stdout",
       "text": [
        " ARVLHYF1187B9BA2DA\n",
        "Aaron Carl"
       ]
      },
      {
       "output_type": "stream",
       "stream": "stdout",
       "text": [
        " ARIMXIP11F4C8425C0\n",
        "Josh Wink"
       ]
      },
      {
       "output_type": "stream",
       "stream": "stdout",
       "text": [
        " ARAAZN9119B86688D9\n",
        "Derrick May"
       ]
      },
      {
       "output_type": "stream",
       "stream": "stdout",
       "text": [
        " AR08VFK1187FB505A3\n",
        "Frankie Bones"
       ]
      },
      {
       "output_type": "stream",
       "stream": "stdout",
       "text": [
        " ARZ4DLQ1187B9B9106\n",
        "DJ Assault"
       ]
      },
      {
       "output_type": "stream",
       "stream": "stdout",
       "text": [
        " ARHODHZ1187B9AF76A\n",
        "AUX 88"
       ]
      },
      {
       "output_type": "stream",
       "stream": "stdout",
       "text": [
        " ARE7BYR1187FB4CCB3\n",
        "Fumiya Tanaka"
       ]
      },
      {
       "output_type": "stream",
       "stream": "stdout",
       "text": [
        " ARE7QZJ1187FB560DA\n",
        "The Lady Blacktronika"
       ]
      },
      {
       "output_type": "stream",
       "stream": "stdout",
       "text": [
        " ARDTRSA1269FB32C51\n",
        "Junior Lopez"
       ]
      },
      {
       "output_type": "stream",
       "stream": "stdout",
       "text": [
        " ARZFYWS1241B9C8AE5\n",
        "Someone Else"
       ]
      },
      {
       "output_type": "stream",
       "stream": "stdout",
       "text": [
        " ARMQJOP1187B98CFD6\n",
        "Noah Pred"
       ]
      },
      {
       "output_type": "stream",
       "stream": "stdout",
       "text": [
        " AR7YZ221187FB3B9A3\n",
        "Danny Tenaglia"
       ]
      },
      {
       "output_type": "stream",
       "stream": "stdout",
       "text": [
        " ARYSPFJ1187B99B6F1\n",
        "Pete Tong"
       ]
      },
      {
       "output_type": "stream",
       "stream": "stdout",
       "text": [
        " ARIDID61187B99B31A\n",
        "Booka Shade"
       ]
      },
      {
       "output_type": "stream",
       "stream": "stdout",
       "text": [
        " ARAPRD01187FB52527\n",
        "Paul Kalkbrenner"
       ]
      },
      {
       "output_type": "stream",
       "stream": "stdout",
       "text": [
        " ARH33CP1187FB3836B\n",
        "Dapayk & Padberg"
       ]
      },
      {
       "output_type": "stream",
       "stream": "stdout",
       "text": [
        " ARK4U291187FB3A297\n",
        "Igor O. Vlasov"
       ]
      },
      {
       "output_type": "stream",
       "stream": "stdout",
       "text": [
        " AR9VKG21187B9B7492\n",
        "Dreem Teem"
       ]
      },
      {
       "output_type": "stream",
       "stream": "stdout",
       "text": [
        " ARSLFJI1187B9B344D\n",
        "Todd Edwards"
       ]
      },
      {
       "output_type": "stream",
       "stream": "stdout",
       "text": [
        " ARZ6G0I1187FB47969\n",
        "187 Lockdown"
       ]
      },
      {
       "output_type": "stream",
       "stream": "stdout",
       "text": [
        " ARYH88P1187FB4D19E\n",
        "Serious Danger"
       ]
      },
      {
       "output_type": "stream",
       "stream": "stdout",
       "text": [
        " ARXZPGN1187B9959A3\n",
        "Deep Dish"
       ]
      },
      {
       "output_type": "stream",
       "stream": "stdout",
       "text": [
        " ARVPLEV1187B9AEBF1\n",
        "Ellen Allien"
       ]
      },
      {
       "output_type": "stream",
       "stream": "stdout",
       "text": [
        " AR5HM7D1187FB4D2B7\n",
        "Matias Aguayo"
       ]
      },
      {
       "output_type": "stream",
       "stream": "stdout",
       "text": [
        " ARXDV6O1187B9B635F\n",
        "Alex Smoke"
       ]
      },
      {
       "output_type": "stream",
       "stream": "stdout",
       "text": [
        " AR1WEZI1187B9AA902\n",
        "Modeselektor"
       ]
      },
      {
       "output_type": "stream",
       "stream": "stdout",
       "text": [
        " ARA6BH81187B98F3AF\n",
        "Mike Shannon"
       ]
      },
      {
       "output_type": "stream",
       "stream": "stdout",
       "text": [
        " ARUTPVX1187B9B15A2\n",
        "Radio Slave"
       ]
      },
      {
       "output_type": "stream",
       "stream": "stdout",
       "text": [
        " ARKVKKG1187FB3B49A\n",
        "Jonas Bering"
       ]
      },
      {
       "output_type": "stream",
       "stream": "stdout",
       "text": [
        " ARUIVWJ1187B99C325\n",
        "Glitterbug"
       ]
      },
      {
       "output_type": "stream",
       "stream": "stdout",
       "text": [
        " ARJYWGI12086C14F6F\n",
        "Justus K\u00f6hncke"
       ]
      },
      {
       "output_type": "stream",
       "stream": "stdout",
       "text": [
        " ARDZXJ01187FB4FA1C\n",
        "Wolfgang Voigt"
       ]
      },
      {
       "output_type": "stream",
       "stream": "stdout",
       "text": [
        " ARO6SRC1187FB4DC59\n",
        "Ripperton"
       ]
      },
      {
       "output_type": "stream",
       "stream": "stdout",
       "text": [
        " AR82IDY1187FB4979A\n",
        "Pantytec"
       ]
      },
      {
       "output_type": "stream",
       "stream": "stdout",
       "text": [
        " ARS2UFD1187FB42CDF\n",
        "Isol\u00e9e"
       ]
      },
      {
       "output_type": "stream",
       "stream": "stdout",
       "text": [
        " ARVYGJF1187B9A9555\n",
        "Alex Under"
       ]
      },
      {
       "output_type": "stream",
       "stream": "stdout",
       "text": [
        " ARR8ZE31187FB381C6\n",
        "Phonique"
       ]
      },
      {
       "output_type": "stream",
       "stream": "stdout",
       "text": [
        " ARJPEOF1187B998D00\n",
        "James Holden"
       ]
      },
      {
       "output_type": "stream",
       "stream": "stdout",
       "text": [
        " ARCU5PR1187B995F02\n",
        "Minilogue"
       ]
      },
      {
       "output_type": "stream",
       "stream": "stdout",
       "text": [
        " ARO9FTG1187FB49832\n",
        "Michael Mayer"
       ]
      },
      {
       "output_type": "stream",
       "stream": "stdout",
       "text": [
        " ARNNUFY1187FB58880\n",
        "Pantha Du Prince"
       ]
      },
      {
       "output_type": "stream",
       "stream": "stdout",
       "text": [
        " ARFDPOU1187FB36386\n",
        "H\u00e5kan Lidbo"
       ]
      },
      {
       "output_type": "stream",
       "stream": "stdout",
       "text": [
        " ARPLEU11187FB5ABF8\n",
        "Lusine"
       ]
      },
      {
       "output_type": "stream",
       "stream": "stdout",
       "text": [
        " ARBERAU1187FB45567\n",
        "Kalabrese"
       ]
      },
      {
       "output_type": "stream",
       "stream": "stdout",
       "text": [
        " AROM0O71187FB425D7\n",
        "Matthew Herbert"
       ]
      },
      {
       "output_type": "stream",
       "stream": "stdout",
       "text": [
        " ARG6SK51187B99A03C\n",
        "Jan Jelinek"
       ]
      },
      {
       "output_type": "stream",
       "stream": "stdout",
       "text": [
        " ARDPRO11187B9B0C61\n",
        "Lucien-N-Luciano"
       ]
      },
      {
       "output_type": "stream",
       "stream": "stdout",
       "text": [
        " ARGNUTA1187FB397C6\n",
        "Closer Musik"
       ]
      },
      {
       "output_type": "stream",
       "stream": "stdout",
       "text": [
        " ARAUI561187FB3CE99\n",
        "Apparat"
       ]
      },
      {
       "output_type": "stream",
       "stream": "stdout",
       "text": [
        " ARAKSQE1187B9AFE6C\n",
        "Guillaume & The Coutu Dumonts"
       ]
      },
      {
       "output_type": "stream",
       "stream": "stdout",
       "text": [
        " AR7QN2J1187FB4BE2D\n",
        "Thomas Brinkmann"
       ]
      },
      {
       "output_type": "stream",
       "stream": "stdout",
       "text": [
        " ARDD6EI1187B9AFC4E\n",
        "The Soft Pink Truth"
       ]
      },
      {
       "output_type": "stream",
       "stream": "stdout",
       "text": [
        " ARRGBU11187B98A7A3\n",
        "Ada"
       ]
      },
      {
       "output_type": "stream",
       "stream": "stdout",
       "text": [
        " ARWL02J1187FB38DA8\n",
        "Wighnomy Brothers"
       ]
      },
      {
       "output_type": "stream",
       "stream": "stdout",
       "text": [
        " ARB6R5V1187B9B65AD\n",
        "Ricardo Villalobos"
       ]
      },
      {
       "output_type": "stream",
       "stream": "stdout",
       "text": [
        " AR0LB821187B9B90F1\n",
        "Jesse Somfay"
       ]
      },
      {
       "output_type": "stream",
       "stream": "stdout",
       "text": [
        " ARUTCX41187FB43DF8\n",
        "Falko Brocksieper"
       ]
      },
      {
       "output_type": "stream",
       "stream": "stdout",
       "text": [
        " ARXT4DN1187FB389C1\n",
        "Damian Lazarus"
       ]
      },
      {
       "output_type": "stream",
       "stream": "stdout",
       "text": [
        " ARLDECI1187B9B89E1\n",
        "Superpitcher"
       ]
      },
      {
       "output_type": "stream",
       "stream": "stdout",
       "text": [
        " ARB4AWX1187B9B0563\n",
        "Catz N' Dogz"
       ]
      },
      {
       "output_type": "stream",
       "stream": "stdout",
       "text": [
        " AR5YPV81187FB5B7E4\n",
        "Pan/Tone"
       ]
      },
      {
       "output_type": "stream",
       "stream": "stdout",
       "text": [
        " ARTRD4D1187FB38CBD\n",
        "Broker/Dealer"
       ]
      },
      {
       "output_type": "stream",
       "stream": "stdout",
       "text": [
        " ARTE3YT1187FB42D1A\n",
        "Dinky"
       ]
      },
      {
       "output_type": "stream",
       "stream": "stdout",
       "text": [
        " ARVL7X81187B989EED\n",
        "T.Raumschmiere"
       ]
      },
      {
       "output_type": "stream",
       "stream": "stdout",
       "text": [
        " ARIW0KX1187FB5BA38\n",
        "Stephen Beaupr\u00e9"
       ]
      },
      {
       "output_type": "stream",
       "stream": "stdout",
       "text": [
        " AR942TI1187FB43470\n",
        "Konrad Black"
       ]
      },
      {
       "output_type": "stream",
       "stream": "stdout",
       "text": [
        " AR9YBRW1187B99A8DE\n",
        "Claude VonStroke"
       ]
      },
      {
       "output_type": "stream",
       "stream": "stdout",
       "text": [
        " AR7EWST1187FB45890\n",
        "DJ Koze"
       ]
      },
      {
       "output_type": "stream",
       "stream": "stdout",
       "text": [
        " AR3O2UJ1187FB38B8B\n",
        "Cobblestone Jazz"
       ]
      },
      {
       "output_type": "stream",
       "stream": "stdout",
       "text": [
        " AR5NYUD1187B988D9C\n",
        "Robag Wruhme"
       ]
      },
      {
       "output_type": "stream",
       "stream": "stdout",
       "text": [
        " ARW3CB71187B9B69FE\n",
        "Seth Troxler"
       ]
      },
      {
       "output_type": "stream",
       "stream": "stdout",
       "text": [
        " ARKSM3X1187FB4ADDA\n",
        "Stewart Walker"
       ]
      },
      {
       "output_type": "stream",
       "stream": "stdout",
       "text": [
        " ARWTENB1187B99E043\n",
        "Farben"
       ]
      },
      {
       "output_type": "stream",
       "stream": "stdout",
       "text": [
        " ARL1QN11187FB39407\n",
        "Pier Bucci"
       ]
      },
      {
       "output_type": "stream",
       "stream": "stdout",
       "text": [
        " ARM93971187FB42EED\n",
        "Mathew Jonson"
       ]
      },
      {
       "output_type": "stream",
       "stream": "stdout",
       "text": [
        " AR88M7P1187B9B7192\n",
        "LoSoul"
       ]
      },
      {
       "output_type": "stream",
       "stream": "stdout",
       "text": [
        " ARSM0321187FB567B0\n",
        "Safety Scissors"
       ]
      },
      {
       "output_type": "stream",
       "stream": "stdout",
       "text": [
        " ARG1UZV1187FB37E88\n",
        "Anja Schneider"
       ]
      },
      {
       "output_type": "stream",
       "stream": "stdout",
       "text": [
        " ARGRM841187B99D8A0\n",
        "Markus Guentner"
       ]
      },
      {
       "output_type": "stream",
       "stream": "stdout",
       "text": [
        " AR2NMDJ1187FB392B9\n",
        "Fuckpony"
       ]
      },
      {
       "output_type": "stream",
       "stream": "stdout",
       "text": [
        " ARVFCVA1187B992D8A\n",
        "Onur \u00d6zer"
       ]
      },
      {
       "output_type": "stream",
       "stream": "stdout",
       "text": [
        " AR07YJO1187FB3EA2F\n",
        "Mossa"
       ]
      },
      {
       "output_type": "stream",
       "stream": "stdout",
       "text": [
        " ARS68LC1187B9A3443\n",
        "Kenneth James Gibson"
       ]
      },
      {
       "output_type": "stream",
       "stream": "stdout",
       "text": [
        " ARUUNI81187FB51C80\n",
        "Butane"
       ]
      },
      {
       "output_type": "stream",
       "stream": "stdout",
       "text": [
        " ARC8SY01187FB49FC7\n",
        "Mikael Stav\u00f6strand"
       ]
      },
      {
       "output_type": "stream",
       "stream": "stdout",
       "text": [
        " ARIGP6W1187B99AF87\n",
        "Franklin de Costa"
       ]
      },
      {
       "output_type": "stream",
       "stream": "stdout",
       "text": [
        " ARUSA7K1187FB38211\n",
        "Quantec"
       ]
      },
      {
       "output_type": "stream",
       "stream": "stdout",
       "text": [
        " AR3LLO61187FB4BBCF\n",
        "Jin Choi"
       ]
      },
      {
       "output_type": "stream",
       "stream": "stdout",
       "text": [
        " ARZPL3F1187B9B21F9\n",
        "The Mountain People"
       ]
      },
      {
       "output_type": "stream",
       "stream": "stdout",
       "text": [
        " AR6VAR71187FB5CE81\n",
        "Ch\u00e2teau Flight"
       ]
      },
      {
       "output_type": "stream",
       "stream": "stdout",
       "text": [
        " AR5PG7K1187FB4E0A6\n",
        "Havantepe"
       ]
      },
      {
       "output_type": "stream",
       "stream": "stdout",
       "text": [
        " ARWOTCH123526A0F43\n",
        "Tomas Jirku"
       ]
      },
      {
       "output_type": "stream",
       "stream": "stdout",
       "text": [
        " ARMNBNR1187B9B1B54\n",
        "Lima\u00e7on"
       ]
      },
      {
       "output_type": "stream",
       "stream": "stdout",
       "text": [
        " AR5WADS1187B9B73B5\n",
        "Redshape"
       ]
      },
      {
       "output_type": "stream",
       "stream": "stdout",
       "text": [
        " ARVH0FS1187B996447\n",
        "Mike Huckaby"
       ]
      },
      {
       "output_type": "stream",
       "stream": "stdout",
       "text": [
        " AR9MS421187B99106A\n",
        "Taylor Deupree"
       ]
      },
      {
       "output_type": "stream",
       "stream": "stdout",
       "text": [
        " AR226CG1187B9B1748\n",
        "Substance & Vainqueur"
       ]
      },
      {
       "output_type": "stream",
       "stream": "stdout",
       "text": [
        " ARVUK8D1187FB4C0A6\n",
        "Photek"
       ]
      },
      {
       "output_type": "stream",
       "stream": "stdout",
       "text": [
        " ARKQ6QN1187B9B016D\n",
        "Zomby"
       ]
      },
      {
       "output_type": "stream",
       "stream": "stdout",
       "text": [
        " ARGGXTD11C8A42D729\n",
        "Kode9"
       ]
      },
      {
       "output_type": "stream",
       "stream": "stdout",
       "text": [
        " ARJDPS41187FB3E84A\n",
        "Vex'd"
       ]
      },
      {
       "output_type": "stream",
       "stream": "stdout",
       "text": [
        " ARXAHU31187B9B1520\n",
        "Plastician"
       ]
      },
      {
       "output_type": "stream",
       "stream": "stdout",
       "text": [
        " ARC2C0O1187B9A9869\n",
        "Joy Orbison"
       ]
      },
      {
       "output_type": "stream",
       "stream": "stdout",
       "text": [
        " ARLBHBE12472CE2A35\n",
        "Eskmo"
       ]
      },
      {
       "output_type": "stream",
       "stream": "stdout",
       "text": [
        " ARMXXTP12086C118B8\n",
        "Tes La Rok"
       ]
      },
      {
       "output_type": "stream",
       "stream": "stdout",
       "text": [
        " AR54F671187FB507B4\n",
        "DFRNT"
       ]
      },
      {
       "output_type": "stream",
       "stream": "stdout",
       "text": [
        " ARHMRGY1241B9C7E9E\n",
        "Africa HiTech"
       ]
      },
      {
       "output_type": "stream",
       "stream": "stdout",
       "text": [
        " ARWONCX12592CD91AB\n",
        "King Midas Sound"
       ]
      },
      {
       "output_type": "stream",
       "stream": "stdout",
       "text": [
        " ARBAND51187FB50C7F\n",
        "Skream"
       ]
      },
      {
       "output_type": "stream",
       "stream": "stdout",
       "text": [
        " ARNXHP01187FB585FE\n",
        "Djunya"
       ]
      },
      {
       "output_type": "stream",
       "stream": "stdout",
       "text": [
        " ARSZKFN12086C11883\n",
        "2562"
       ]
      },
      {
       "output_type": "stream",
       "stream": "stdout",
       "text": [
        " AR8Y3UG1187B9A3468\n",
        "Fantastic Mr. Fox"
       ]
      },
      {
       "output_type": "stream",
       "stream": "stdout",
       "text": [
        " ARFQXHA12086C131AB\n",
        "Ikonika"
       ]
      },
      {
       "output_type": "stream",
       "stream": "stdout",
       "text": [
        " ARH9FYH11A348F0D1D\n",
        "Timeblind"
       ]
      },
      {
       "output_type": "stream",
       "stream": "stdout",
       "text": [
        " AR5K6AA1187B994927\n",
        "Mark Pritchard"
       ]
      },
      {
       "output_type": "stream",
       "stream": "stdout",
       "text": [
        " AR6OVD21187B9A62F9\n",
        "Appleblim"
       ]
      },
      {
       "output_type": "stream",
       "stream": "stdout",
       "text": [
        " ARCG0KG1187FB50B9A\n",
        "Ramadanman"
       ]
      },
      {
       "output_type": "stream",
       "stream": "stdout",
       "text": [
        " ARXGTYM1187FB5613A\n",
        "D1"
       ]
      },
      {
       "output_type": "stream",
       "stream": "stdout",
       "text": [
        " ARZDIO01187B98EDA3\n",
        "Matty G"
       ]
      },
      {
       "output_type": "stream",
       "stream": "stdout",
       "text": [
        " ARR77TQ1187FB507C2\n",
        "Peverelist"
       ]
      },
      {
       "output_type": "stream",
       "stream": "stdout",
       "text": [
        " AR7EAKO11A348F0D21\n",
        "Untold"
       ]
      },
      {
       "output_type": "stream",
       "stream": "stdout",
       "text": [
        " ARDNHTQ11C8A4153C2\n",
        "Roska"
       ]
      },
      {
       "output_type": "stream",
       "stream": "stdout",
       "text": [
        " ARNSHBI123E29C2853\n",
        "El-B"
       ]
      },
      {
       "output_type": "stream",
       "stream": "stdout",
       "text": [
        " AROMBZC1187B988FEA\n",
        "Mala"
       ]
      },
      {
       "output_type": "stream",
       "stream": "stdout",
       "text": [
        " ARZ4G1D1187FB4643B\n",
        "Coki"
       ]
      },
      {
       "output_type": "stream",
       "stream": "stdout",
       "text": [
        " ARFELYQ1187FB5830C\n",
        "Hijak"
       ]
      },
      {
       "output_type": "stream",
       "stream": "stdout",
       "text": [
        " ARTPLNM1187FB507C4\n",
        "Mount Kimbie"
       ]
      },
      {
       "output_type": "stream",
       "stream": "stdout",
       "text": [
        " ARHDFGD12472CE34AC\n",
        "Chrissy Murderbot"
       ]
      },
      {
       "output_type": "stream",
       "stream": "stdout",
       "text": [
        " AR53LQT1187B9B4ADC\n",
        "Scuba"
       ]
      },
      {
       "output_type": "stream",
       "stream": "stdout",
       "text": [
        " AR26LAR1187FB4846B\n",
        "Kush Arora"
       ]
      },
      {
       "output_type": "stream",
       "stream": "stdout",
       "text": [
        " AR91M1O119B340318B\n",
        "Meesha"
       ]
      },
      {
       "output_type": "stream",
       "stream": "stdout",
       "text": [
        " ARTUHCW1242078044A\n",
        "Bj\u00f6rk"
       ]
      },
      {
       "output_type": "stream",
       "stream": "stdout",
       "text": [
        " ARAOQ5T1187FB435AB\n",
        "Kraftwerk"
       ]
      },
      {
       "output_type": "stream",
       "stream": "stdout",
       "text": [
        " AR1ZKBE1187FB53629\n",
        "DJ Shadow"
       ]
      },
      {
       "output_type": "stream",
       "stream": "stdout",
       "text": [
        " ARME7101187FB3ECDD\n",
        "Radiohead"
       ]
      },
      {
       "output_type": "stream",
       "stream": "stdout",
       "text": [
        " ARH6W4X1187B99274F\n",
        "The Orb"
       ]
      },
      {
       "output_type": "stream",
       "stream": "stdout",
       "text": [
        " AR414I51187B99D330\n",
        "Jean Michel Jarre"
       ]
      },
      {
       "output_type": "stream",
       "stream": "stdout",
       "text": [
        " ARGCQH71187B9B6921\n",
        "Aphex Twin"
       ]
      },
      {
       "output_type": "stream",
       "stream": "stdout",
       "text": [
        " ARYPTWE1187FB49D64\n",
        "Tangerine Dream"
       ]
      },
      {
       "output_type": "stream",
       "stream": "stdout",
       "text": [
        " AR2L9A61187B9ADDBC\n",
        "Boards of Canada"
       ]
      },
      {
       "output_type": "stream",
       "stream": "stdout",
       "text": [
        " AROG07L1187FB4C826\n",
        "Amon Tobin"
       ]
      },
      {
       "output_type": "stream",
       "stream": "stdout",
       "text": [
        " AR2AVSC1187B991634\n",
        "Ratatat"
       ]
      },
      {
       "output_type": "stream",
       "stream": "stdout",
       "text": [
        " AREPZK61187B990670\n",
        "Massive Attack"
       ]
      },
      {
       "output_type": "stream",
       "stream": "stdout",
       "text": [
        " ARNF13I1187FB562A5\n",
        "R\u00f6yksopp"
       ]
      },
      {
       "output_type": "stream",
       "stream": "stdout",
       "text": [
        " ARDA9NZ1187FB3A825\n",
        "LCD Soundsystem"
       ]
      },
      {
       "output_type": "stream",
       "stream": "stdout",
       "text": [
        " ARFIU2R1187B9927F9\n",
        "Gotan Project"
       ]
      },
      {
       "output_type": "stream",
       "stream": "stdout",
       "text": [
        " ARBYYT61187FB37B64\n",
        "Layo & Bushwacka!"
       ]
      },
      {
       "output_type": "stream",
       "stream": "stdout",
       "text": [
        " AR4YO4A1187B9A35F6\n",
        "GusGus"
       ]
      },
      {
       "output_type": "stream",
       "stream": "stdout",
       "text": [
        " ARDKBAV1187FB4AF61\n",
        "Everything but the Girl"
       ]
      },
      {
       "output_type": "stream",
       "stream": "stdout",
       "text": [
        " ARTMP681187B9B77CD\n",
        "Ursula 1000"
       ]
      },
      {
       "output_type": "stream",
       "stream": "stdout",
       "text": [
        " ARHMH7Q1187B988F38\n",
        "Llorca"
       ]
      },
      {
       "output_type": "stream",
       "stream": "stdout",
       "text": [
        " ARRRORY1187B9A139D\n",
        "UNKLE"
       ]
      },
      {
       "output_type": "stream",
       "stream": "stdout",
       "text": [
        " ARQG2JT1187B99F211\n",
        "The Future Sound of London"
       ]
      },
      {
       "output_type": "stream",
       "stream": "stdout",
       "text": [
        " ARUMQ5P1187B9AC811\n",
        "The Avalanches"
       ]
      },
      {
       "output_type": "stream",
       "stream": "stdout",
       "text": [
        " ARKTCFU1187FB57FA4\n",
        "Laika"
       ]
      },
      {
       "output_type": "stream",
       "stream": "stdout",
       "text": [
        " ARI8GYL1187B98EB12\n",
        "Thievery Corporation"
       ]
      },
      {
       "output_type": "stream",
       "stream": "stdout",
       "text": [
        " ARVTCS91187FB44DF6\n",
        "Groove Armada"
       ]
      },
      {
       "output_type": "stream",
       "stream": "stdout",
       "text": [
        " ARWRMUE1187B9AC2CB\n",
        "Bonobo"
       ]
      },
      {
       "output_type": "stream",
       "stream": "stdout",
       "text": [
        " ARRB71R1187FB5751C\n",
        "DJ Food"
       ]
      },
      {
       "output_type": "stream",
       "stream": "stdout",
       "text": [
        " ARM9UI31187B99D115\n",
        "Tricky"
       ]
      },
      {
       "output_type": "stream",
       "stream": "stdout",
       "text": [
        " AR065TW1187FB4C3A5\n",
        "Dirty Vegas"
       ]
      },
      {
       "output_type": "stream",
       "stream": "stdout",
       "text": [
        " ARV86KJ1187B9AE6D7\n",
        "T\u00e9l\u00e9popmusik"
       ]
      },
      {
       "output_type": "stream",
       "stream": "stdout",
       "text": [
        " ARQ5CQ21187B9B855B\n",
        "Hooverphonic"
       ]
      },
      {
       "output_type": "stream",
       "stream": "stdout",
       "text": [
        " AR6GPHG1187FB5608B\n",
        "dZihan & Kamien"
       ]
      },
      {
       "output_type": "stream",
       "stream": "stdout",
       "text": [
        " ARUD8TE1187FB5B489\n",
        "Talvin Singh"
       ]
      },
      {
       "output_type": "stream",
       "stream": "stdout",
       "text": [
        " AR0N0DX1187FB41327\n",
        "DJ Vadim"
       ]
      },
      {
       "output_type": "stream",
       "stream": "stdout",
       "text": [
        " AR58HSY1187FB3E218\n",
        "Cibo Matto"
       ]
      },
      {
       "output_type": "stream",
       "stream": "stdout",
       "text": [
        " ARPOXHP1187B9B8112\n",
        "Esthero"
       ]
      },
      {
       "output_type": "stream",
       "stream": "stdout",
       "text": [
        " ARR1EM41187B98D816\n",
        "Martina Topley-Bird"
       ]
      },
      {
       "output_type": "stream",
       "stream": "stdout",
       "text": [
        " ARUS5MJ1187B9B0A5D\n",
        "Dimitri From Paris"
       ]
      },
      {
       "output_type": "stream",
       "stream": "stdout",
       "text": [
        " ARVNR9N1187B9B88A7\n",
        "Coldcut"
       ]
      },
      {
       "output_type": "stream",
       "stream": "stdout",
       "text": [
        " ARM7LTM1187B9B7EA3\n",
        "Death in Vegas"
       ]
      },
      {
       "output_type": "stream",
       "stream": "stdout",
       "text": [
        " ARSY3S31187B9AFA0E\n",
        "R\u00f3is\u00edn Murphy"
       ]
      },
      {
       "output_type": "stream",
       "stream": "stdout",
       "text": [
        " ARF799P1187B9A97D5\n",
        "Nitin Sawhney"
       ]
      },
      {
       "output_type": "stream",
       "stream": "stdout",
       "text": [
        " AR0V19Y1187FB5A73C\n",
        "Jos\u00e9 Padilla"
       ]
      },
      {
       "output_type": "stream",
       "stream": "stdout",
       "text": [
        " ARI8BV61187B9B2993\n",
        "Jimi Tenor"
       ]
      },
      {
       "output_type": "stream",
       "stream": "stdout",
       "text": [
        " AR0G6AY1187B990CD8\n",
        "Mr. Scruff"
       ]
      },
      {
       "output_type": "stream",
       "stream": "stdout",
       "text": [
        " AR74WCA1187FB555D7\n",
        "Dub Pistols"
       ]
      },
      {
       "output_type": "stream",
       "stream": "stdout",
       "text": [
        " ARXK4YK1187FB4D0C4\n",
        "Morcheeba"
       ]
      },
      {
       "output_type": "stream",
       "stream": "stdout",
       "text": [
        " ARU3C671187FB3F71B\n",
        "Supreme Beings of Leisure"
       ]
      },
      {
       "output_type": "stream",
       "stream": "stdout",
       "text": [
        " AR20YMY1187B990B28\n",
        "Air"
       ]
      },
      {
       "output_type": "stream",
       "stream": "stdout",
       "text": [
        " ARZZ5ZR1187FB4D149\n",
        "DJ Krush"
       ]
      },
      {
       "output_type": "stream",
       "stream": "stdout",
       "text": [
        " ARH7O4C1187B9A5837\n",
        "RJD2"
       ]
      },
      {
       "output_type": "stream",
       "stream": "stdout",
       "text": [
        " ARQG4O41187B98A03B\n",
        "Underworld"
       ]
      },
      {
       "output_type": "stream",
       "stream": "stdout",
       "text": [
        " ARQ985T1187FB48640\n",
        "jenn mierau"
       ]
      },
      {
       "output_type": "stream",
       "stream": "stdout",
       "text": [
        " ARBKBKK11EB9C81612\n",
        "King Tubby"
       ]
      },
      {
       "output_type": "stream",
       "stream": "stdout",
       "text": [
        " ARA4Y4F1187FB4275C\n",
        "Scientist"
       ]
      },
      {
       "output_type": "stream",
       "stream": "stdout",
       "text": [
        " AR4Q5ZA1187FB598A6\n",
        "Lee \"Scratch\" Perry"
       ]
      },
      {
       "output_type": "stream",
       "stream": "stdout",
       "text": [
        " ARS5NKR1187FB4EE96\n",
        "Augustus Pablo"
       ]
      },
      {
       "output_type": "stream",
       "stream": "stdout",
       "text": [
        " AR1D1ES1187FB57228\n",
        "Prince Jammy"
       ]
      },
      {
       "output_type": "stream",
       "stream": "stdout",
       "text": [
        " ARZ87AU1187FB4A24D\n",
        "Mad Professor"
       ]
      },
      {
       "output_type": "stream",
       "stream": "stdout",
       "text": [
        " ARD2GXE1187B9A2E26\n",
        "Roots Radics"
       ]
      },
      {
       "output_type": "stream",
       "stream": "stdout",
       "text": [
        " ARS9WQL1187FB3FCE5\n",
        "The Upsetters"
       ]
      },
      {
       "output_type": "stream",
       "stream": "stdout",
       "text": [
        " ARXCYYI1187FB51D67\n",
        "Sly Dunbar"
       ]
      },
      {
       "output_type": "stream",
       "stream": "stdout",
       "text": [
        " ARGBVEY11F4C84226B\n",
        "Robbie Shakespeare"
       ]
      },
      {
       "output_type": "stream",
       "stream": "stdout",
       "text": [
        " ARG8FT21187B9B8579\n",
        "Keith Hudson"
       ]
      },
      {
       "output_type": "stream",
       "stream": "stdout",
       "text": [
        " ART02IC1187B994301\n",
        "Tappa Zukie"
       ]
      },
      {
       "output_type": "stream",
       "stream": "stdout",
       "text": [
        " AR2ELJW1187FB4AEAC\n",
        "Big Youth"
       ]
      },
      {
       "output_type": "stream",
       "stream": "stdout",
       "text": [
        " AR6BZPG1187FB59B8D\n",
        "The Aggrovators"
       ]
      },
      {
       "output_type": "stream",
       "stream": "stdout",
       "text": [
        " ARZIXW21187B9B7174\n",
        "U-Roy"
       ]
      },
      {
       "output_type": "stream",
       "stream": "stdout",
       "text": [
        " ARCETNJ11F4C83C829\n",
        "Prince Far I"
       ]
      },
      {
       "output_type": "stream",
       "stream": "stdout",
       "text": [
        " ARBZCLP1187B99C35B\n",
        "Black Uhuru"
       ]
      },
      {
       "output_type": "stream",
       "stream": "stdout",
       "text": [
        " ARMDWND1187B9AEBE2\n",
        "Horace Andy"
       ]
      },
      {
       "output_type": "stream",
       "stream": "stdout",
       "text": [
        " AR3PN3R1187FB4CEBD\n",
        "I-Roy"
       ]
      },
      {
       "output_type": "stream",
       "stream": "stdout",
       "text": [
        " ARRQVWY11F4C83CD57\n",
        "The Abyssinians"
       ]
      },
      {
       "output_type": "stream",
       "stream": "stdout",
       "text": [
        " ARVY5HZ1187B9B3815\n",
        "Pablo Moses"
       ]
      },
      {
       "output_type": "stream",
       "stream": "stdout",
       "text": [
        " ARRA7K41187FB45DAB\n",
        "Max Romeo"
       ]
      },
      {
       "output_type": "stream",
       "stream": "stdout",
       "text": [
        " ARYCUWT1187B98AFF4\n",
        "The Heptones"
       ]
      },
      {
       "output_type": "stream",
       "stream": "stdout",
       "text": [
        " ARQT15C1187FB401DD\n",
        "Burning Spear"
       ]
      },
      {
       "output_type": "stream",
       "stream": "stdout",
       "text": [
        " ARJ2PMY1187FB5B563\n",
        "Dennis Brown"
       ]
      },
      {
       "output_type": "stream",
       "stream": "stdout",
       "text": [
        " ARSTA431187B9A3599\n",
        "Jacob Miller"
       ]
      },
      {
       "output_type": "stream",
       "stream": "stdout",
       "text": [
        " ARJEAL11187B9A876B\n",
        "Barrington Levy"
       ]
      },
      {
       "output_type": "stream",
       "stream": "stdout",
       "text": [
        " AR1SUNB1187FB41BC8\n",
        "Sugar Minnot"
       ]
      },
      {
       "output_type": "stream",
       "stream": "stdout",
       "text": [
        " ARNDZAG11F4C8408ED\n",
        "Yellowman"
       ]
      },
      {
       "output_type": "stream",
       "stream": "stdout",
       "text": [
        " ARZKNHT1187FB4F5FD\n",
        "Gregory Isaacs"
       ]
      },
      {
       "output_type": "stream",
       "stream": "stdout",
       "text": [
        " AR57Z841187B9B7D7D\n",
        "John Holt"
       ]
      },
      {
       "output_type": "stream",
       "stream": "stdout",
       "text": [
        " ARJPZSG1187FB3E985\n",
        "Alton Ellis"
       ]
      },
      {
       "output_type": "stream",
       "stream": "stdout",
       "text": [
        " AR7DNHO1187B992B0B\n",
        "Ken Boothe"
       ]
      },
      {
       "output_type": "stream",
       "stream": "stdout",
       "text": [
        " ARL53RS1187B9B19AD\n",
        "The Ethiopians"
       ]
      },
      {
       "output_type": "stream",
       "stream": "stdout",
       "text": [
        " ARHKFR71187FB3AFAC\n",
        "Joe Higgs"
       ]
      },
      {
       "output_type": "stream",
       "stream": "stdout",
       "text": [
        " ARLYGIM1187FB4376E\n",
        "Tommy McCook"
       ]
      },
      {
       "output_type": "stream",
       "stream": "stdout",
       "text": [
        " ARLXRDN1187FB567C1\n",
        "The Melodians"
       ]
      },
      {
       "output_type": "stream",
       "stream": "stdout",
       "text": [
        " ARVODOV1187B9AE0CC\n",
        "Delroy Wilson"
       ]
      },
      {
       "output_type": "stream",
       "stream": "stdout",
       "text": [
        " ARZZRK91187B9A5CA5\n",
        "Isaac Haile Selassie"
       ]
      },
      {
       "output_type": "stream",
       "stream": "stdout",
       "text": [
        " ARFQOGS122988EF5E6\n",
        "Polycubist"
       ]
      },
      {
       "output_type": "stream",
       "stream": "stdout",
       "text": [
        " ARWTXMS12AF7D98C10\n",
        "Fela Kuti"
       ]
      },
      {
       "output_type": "stream",
       "stream": "stdout",
       "text": [
        " ARRN6CE1187B989B40\n",
        "Seun Kuti"
       ]
      },
      {
       "output_type": "stream",
       "stream": "stdout",
       "text": [
        " ARLYXBQ122BCFCB68D\n",
        "Femi Kuti"
       ]
      },
      {
       "output_type": "stream",
       "stream": "stdout",
       "text": [
        " ARRXD651187B9A3358\n",
        "Manu Dibango"
       ]
      },
      {
       "output_type": "stream",
       "stream": "stdout",
       "text": [
        " ARKA5831187FB41206\n",
        "Baaba Maal"
       ]
      },
      {
       "output_type": "stream",
       "stream": "stdout",
       "text": [
        " ARZ1F401187FB5B0A3\n",
        "Antibalas Afrobeat Orchestra"
       ]
      },
      {
       "output_type": "stream",
       "stream": "stdout",
       "text": [
        " ARBYLYM1187FB4D3B0\n",
        "Orlando Julius"
       ]
      },
      {
       "output_type": "stream",
       "stream": "stdout",
       "text": [
        " ARA872I1187B997CFF\n",
        "William Onyeabor"
       ]
      },
      {
       "output_type": "stream",
       "stream": "stdout",
       "text": [
        " ARQASDQ1187B99CFDF\n",
        "T.P. Orchestre Poly-Rythmo"
       ]
      },
      {
       "output_type": "stream",
       "stream": "stdout",
       "text": [
        " AR26BKT1187B9BA52E\n",
        "Sir Victor Uwaifo & His Melody Maestroes"
       ]
      },
      {
       "output_type": "stream",
       "stream": "stdout",
       "text": [
        " AR7KUBL1187B99CFDD\n",
        "Tony Allen & His Afro Messengers"
       ]
      },
      {
       "output_type": "stream",
       "stream": "stdout",
       "text": [
        " ARK8PJE1187FB36150\n",
        "Sahara All Stars Band Jos"
       ]
      },
      {
       "output_type": "stream",
       "stream": "stdout",
       "text": [
        " ARWQ4CL1187B99CFD1\n",
        "Lijadu Sisters"
       ]
      },
      {
       "output_type": "stream",
       "stream": "stdout",
       "text": [
        " ARDNMGK1187B99CFD5\n",
        "King Sunny Ade & His African Beats"
       ]
      },
      {
       "output_type": "stream",
       "stream": "stdout",
       "text": [
        " ARRG9ET1187B996E89\n",
        "Ebo Taylor"
       ]
      },
      {
       "output_type": "stream",
       "stream": "stdout",
       "text": [
        " AR8R0C81187B9A5781\n",
        "Gasper Lawal"
       ]
      },
      {
       "output_type": "stream",
       "stream": "stdout",
       "text": [
        " ARS6NR51187FB48FFF\n",
        "Tunji Oyelana and the Benders"
       ]
      },
      {
       "output_type": "stream",
       "stream": "stdout",
       "text": [
        " ARQR7011187B9AF92C\n",
        "2 Face"
       ]
      },
      {
       "output_type": "stream",
       "stream": "stdout",
       "text": [
        " ARSDY741187B9B86AC\n",
        "P Square"
       ]
      },
      {
       "output_type": "stream",
       "stream": "stdout",
       "text": [
        " ARLSNYJ11F4C83E14B\n",
        "Shina Williams & His African Percussionists"
       ]
      },
      {
       "output_type": "stream",
       "stream": "stdout",
       "text": [
        " ARG2I9K1187B99CFD6\n",
        "Weird MC"
       ]
      },
      {
       "output_type": "stream",
       "stream": "stdout",
       "text": [
        " ARCXBWS1187B9A82E2\n",
        "Plantashun Boiz"
       ]
      },
      {
       "output_type": "stream",
       "stream": "stdout",
       "text": [
        " ARRLXGD124207807B3\n",
        "Paul I.K. Dairo"
       ]
      },
      {
       "output_type": "stream",
       "stream": "stdout",
       "text": [
        " ARCCS8O1187B999691\n",
        "D'banj"
       ]
      },
      {
       "output_type": "stream",
       "stream": "stdout",
       "text": [
        " AR9KOTY11C8A414BAD\n",
        "Ruggedman"
       ]
      },
      {
       "output_type": "stream",
       "stream": "stdout",
       "text": [
        " ARDSOKW11C8A41514F\n",
        "Eedris Abdulkareem"
       ]
      },
      {
       "output_type": "stream",
       "stream": "stdout",
       "text": [
        " ARPGTO81187FB38710\n",
        "Styl-Plus"
       ]
      },
      {
       "output_type": "stream",
       "stream": "stdout",
       "text": [
        " ARGXGVN1187FB45B3D\n",
        "Tony Tetuila"
       ]
      },
      {
       "output_type": "stream",
       "stream": "stdout",
       "text": [
        " ARWPTRZ11F4C8471B4\n",
        "JJC & 419 Squad"
       ]
      },
      {
       "output_type": "stream",
       "stream": "stdout",
       "text": [
        " AR1W84A1187B990C4D\n",
        "Ebenezer Obey"
       ]
      },
      {
       "output_type": "stream",
       "stream": "stdout",
       "text": [
        " ARNT1LI1187B99EB6E\n",
        "Haruna Ishola"
       ]
      },
      {
       "output_type": "stream",
       "stream": "stdout",
       "text": [
        " ARHVMHO122988F06F6\n",
        "L\u00e1gb\u00e1j\u00e1"
       ]
      },
      {
       "output_type": "stream",
       "stream": "stdout",
       "text": [
        " AR3F3SG1187B98EED5\n",
        "Prince Nico Mbarga"
       ]
      },
      {
       "output_type": "stream",
       "stream": "stdout",
       "text": [
        " AR4ZHA51187B9B92B4\n",
        "West African Highlife Band"
       ]
      },
      {
       "output_type": "stream",
       "stream": "stdout",
       "text": [
        " ARLIG1S1187FB4BD2F\n",
        "Modenine"
       ]
      },
      {
       "output_type": "stream",
       "stream": "stdout",
       "text": [
        " AROGIKF1242077FBEF\n",
        "Terry tha Rapman"
       ]
      },
      {
       "output_type": "stream",
       "stream": "stdout",
       "text": [
        " AR95CBB11C8A414A12\n",
        "Olu Maintain"
       ]
      },
      {
       "output_type": "stream",
       "stream": "stdout",
       "text": [
        " ARPRORY12D5CD7AD71\n",
        "Majek Fashek"
       ]
      },
      {
       "output_type": "stream",
       "stream": "stdout",
       "text": [
        " ARLSD651187FB4A01E\n",
        "Konono N\u00b01"
       ]
      },
      {
       "output_type": "stream",
       "stream": "stdout",
       "text": [
        " ARB5P5G1187FB5C33D\n",
        "Koffi Olomid\u00e9"
       ]
      },
      {
       "output_type": "stream",
       "stream": "stdout",
       "text": [
        " ARCQ3LZ1187FB49B42\n",
        "Les Bantous de la Capitale"
       ]
      },
      {
       "output_type": "stream",
       "stream": "stdout",
       "text": [
        " AR7LN7G1187FB395BB\n",
        "Thomas Mapfumo"
       ]
      },
      {
       "output_type": "stream",
       "stream": "stdout",
       "text": [
        " ARQ7KGD1187B989CE4\n",
        "Oliver Mtukudzi"
       ]
      },
      {
       "output_type": "stream",
       "stream": "stdout",
       "text": [
        " ARS79SF1187FB5BB6D\n",
        "Chiwoniso Maraire"
       ]
      },
      {
       "output_type": "stream",
       "stream": "stdout",
       "text": [
        " ARIXGNA1269FCD1352\n",
        "Thomas Mapfumo & The Blacks Unlimited"
       ]
      },
      {
       "output_type": "stream",
       "stream": "stdout",
       "text": [
        " AR43NC91187FB3852A\n",
        "Ang\u00e9lique Kidjo"
       ]
      },
      {
       "output_type": "stream",
       "stream": "stdout",
       "text": [
        " ARJTAX61187FB40B19\n",
        "Oumou Sangare"
       ]
      },
      {
       "output_type": "stream",
       "stream": "stdout",
       "text": [
        " ARKDRUN1187B9B8A4D\n",
        "Isma\u00ebl L\u00f4"
       ]
      },
      {
       "output_type": "stream",
       "stream": "stdout",
       "text": [
        " ARTM6SK1187B9B804D\n",
        "Geoffrey Oryema"
       ]
      },
      {
       "output_type": "stream",
       "stream": "stdout",
       "text": [
        " ARAENMM1187FB4064C\n",
        "Salif Keita"
       ]
      },
      {
       "output_type": "stream",
       "stream": "stdout",
       "text": [
        " ARC1WKD1187FB5A532\n",
        "Amadou & Mariam"
       ]
      },
      {
       "output_type": "stream",
       "stream": "stdout",
       "text": [
        " AREXOET1187B9B80A3\n",
        "Orchestra Baobab"
       ]
      },
      {
       "output_type": "stream",
       "stream": "stdout",
       "text": [
        " AROCST41187FB53EE3\n",
        "Bembeya Jazz National"
       ]
      },
      {
       "output_type": "stream",
       "stream": "stdout",
       "text": [
        " AR7TGNH1187B9999C2\n",
        "\n",
        "Fini - writeArtistsCaches"
       ]
      },
      {
       "output_type": "stream",
       "stream": "stdout",
       "text": [
        "\n"
       ]
      }
     ],
     "prompt_number": 1
    },
    {
     "cell_type": "code",
     "collapsed": false,
     "input": [],
     "language": "python",
     "metadata": {},
     "outputs": []
    }
   ],
   "metadata": {}
  }
 ]
}