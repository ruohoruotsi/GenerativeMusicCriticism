{
 "metadata": {
  "name": "",
  "signature": "sha256:54dfdaa1697affc5dbe92d72e79b555919be28f9ccae8e71c7578af92e74da8b"
 },
 "nbformat": 3,
 "nbformat_minor": 0,
 "worksheets": [
  {
   "cells": [
    {
     "cell_type": "code",
     "collapsed": false,
     "input": [
      "###################################\n",
      "# Test cell, pyechonest - IO HAVOC\n",
      "###################################\n",
      "\n",
      "from pyechonest import artist\n",
      "from pyechonest import song\n",
      "\n",
      "def get_tempo(artist):\n",
      "    \"gets the tempo for a song\"\n",
      "    results = song.search(artist=artist, results=1, buckets=['audio_summary'])\n",
      "    if len(results) > 0:\n",
      "        return results[0].audio_summary['tempo']\n",
      "    else:\n",
      "        return None\n",
      "\n",
      "for hottt_artist in artist.top_hottt(results=1):\n",
      "    # print hottt_artist.name, hottt_artist.id, hottt_artist.hotttnesss\n",
      "    print hottt_artist.name, get_tempo(hottt_artist.name)\n",
      "    a = artist.Artist(hottt_artist.name)\n",
      "    images = a.get_images(results=1)\n",
      "    print images[0]['url']"
     ],
     "language": "python",
     "metadata": {},
     "outputs": [
      {
       "output_type": "stream",
       "stream": "stdout",
       "text": [
        "Taylor Swift "
       ]
      },
      {
       "output_type": "stream",
       "stream": "stdout",
       "text": [
        "121.047\n",
        "http://userserve-ak.last.fm/serve/_/3620283.jpg"
       ]
      },
      {
       "output_type": "stream",
       "stream": "stdout",
       "text": [
        "\n"
       ]
      }
     ],
     "prompt_number": 5
    },
    {
     "cell_type": "code",
     "collapsed": false,
     "input": [
      "###################################\n",
      "# Generate new pyechonest cache\n",
      "###################################\n",
      "\n",
      "import time\n",
      "import json\n",
      "from pyechonest import config\n",
      "from pyechonest import artist\n",
      "\n",
      "config.ECHO_NEST_API_KEY=\"2VN1LKJEQUBPUKXEC\"\n",
      "hotttArtistsCache = []\n",
      "\n",
      "fave4x4ArtistsList = [\n",
      "    'Juan Atkins','Faithless', 'Ruoho Ruotsi', 'Maurice Fulton',\n",
      "    'Leftfield', 'Frivolous', 'Basement Jaxx','Glitch Mob', \n",
      "    'Hollis P. Monroe', 'Frankie Knuckles', 'Francois K',\n",
      "    'Trentem\u00f8ller', 'Chelonis R. Jones', 'Steve Bug', \n",
      "    'Jimpster', 'Jeff Samuel', 'Ian Pooley',\n",
      "    'Omar-S', 'Luomo', 'Kerri Chandler', 'Charles Webster',\n",
      "    'Roy Davis Jr.', 'Robert Owens',\n",
      "    'Black Science Orchestra', 'Mr. Fingers', 'Saint Etienne',\n",
      "    'Masters at Work', 'Theo Parrish', 'Moodymann', \n",
      "    'Basic Channel', 'Rhythm & Sound', 'Roman Fl\u00fcgel', \n",
      "    'Joe Lewis', 'DJ Said', 'Recloose', 'Kate Simko', 'Aschka', \n",
      "    'Maya Jane Coles', 'Gys', 'Deadbeat', 'Soultek',\n",
      "    'DeepChord', 'Vladislav Delay', 'Andy Stott', 'Intrusion', \n",
      "    'Rod Modell', 'Kassem Mosse', 'Murcof', 'Marc Leclair',\n",
      "    'Fax', 'Monolake', 'Kit Clayton', 'Bvdub', 'Swayzak', \n",
      "    'Wookie', 'Artful Dodger', 'MJ Cole',\n",
      "    'Les Rythmes Digitales', 'Fischerspooner', 'Cassius',\n",
      "    'Miguel Migs', 'Osunlade', 'Metro Area', 'Dennis Ferrer',\n",
      "    'Ron Trent', 'Larry Heard', 'Alton Miller', 'King Britt',\n",
      "    'Bougie Soliterre', 'Todd Terry', 'Black Coffee', \n",
      "    'Richie Hawtin', 'Speedy J', 'Kenny Larkin', 'Laurent Garnier',\n",
      "    'Carl Craig', 'Robert Hood', 'John Tejada', 'Thomas P. Heckmann',\n",
      "    'Aril Brikha', 'Tiefschwarz', 'Funk D\\'Void', 'A Guy Called Gerald',\n",
      "    'Jeff Mills', 'Aaron Carl', 'Josh Wink', 'Derrick May', \n",
      "    'Frankie Bones',  'DJ Assault', 'AUX 88', 'Fumiya Tanaka',\n",
      "    'The Lady Blacktronika', 'Junior Lopez', 'Someone Else', 'Noah Pred',\n",
      "    'Danny Tenaglia', 'Pete Tong', 'Booka Shade', 'Paul Kalkbrenner',\n",
      "    'Dapayk & Padberg', 'Igor O. Vlasov', 'Dreem Teem', 'Todd Edwards',\n",
      "    '187 Lockdown',  'Serious Danger', 'Deep Dish', 'Ellen Allien',\n",
      "    'Matias Aguayo', 'Alex Smoke', 'Modeselektor', 'Mike Shannon', \n",
      "    'Radio Slave', 'Jonas Bering', 'Glitterbug', 'Justus K\u00f6hncke',\n",
      "    'Wolfgang Voigt', 'Ripperton', 'Pantytec', 'Isol\u00e9e', 'Alex Under',\n",
      "    'Phonique', 'James Holden', 'Minilogue', 'Michael Mayer', \n",
      "    'Pantha Du Prince', 'H\u00e5kan Lidbo', 'Lusine', 'Kalabrese', \n",
      "    'Matthew Herbert', 'Jan Jelinek', 'Lucien-N-Luciano', 'Closer Musik',\n",
      "    'Apparat', 'Guillaume & The Coutu Dumonts', 'Thomas Brinkmann',\n",
      "    'The Soft Pink Truth', 'Ada', 'Wighnomy Brothers', 'Ricardo Villalobos',\n",
      "    'Jesse Somfay','Falko Brocksieper', 'Damian Lazarus', 'Superpitcher',\n",
      "    'Catz N\\' Dogz', 'Pan/Tone', 'Broker/Dealer', 'Dinky', 'T.Raumschmiere',\n",
      "    'Stephen Beaupr\u00e9', 'Konrad Black', 'Claude VonStroke', 'DJ Koze',\n",
      "    'Cobblestone Jazz', 'Robag Wruhme', 'Seth Troxler', 'Stewart Walker', \n",
      "    'Farben', 'Pier Bucci', 'Mathew Jonson', 'LoSoul', 'Safety Scissors',\n",
      "    'Anja Schneider', 'Markus Guentner', 'Fuckpony', 'Onur \u00d6zer', 'Mossa',\n",
      "    'Kenneth James Gibson', 'Butane', 'Mikael Stav\u00f6strand', 'Franklin de Costa',\n",
      "    'Quantec', 'Jin Choi', 'The Mountain People', 'Ch\u00e2teau Flight', 'Havantepe',\n",
      "    'Tomas Jirku', 'Lima\u00e7on', 'Redshape', 'Mike Huckaby',  'Taylor Deupree', \n",
      "    'Substance & Vainqueur'\n",
      "    ]\n",
      "\n",
      "faveBassArtistsList = [ \n",
      "    'Photek', 'Zomby', 'Kode9', 'Vex\\'d', 'Plastician', 'Joy Orbison', \n",
      "    'Eskmo', 'Tes La Rok', 'DFRNT', 'Africa HiTech', 'King Midas Sound',\n",
      "    'Skream', 'Djunya', '2562', 'Fantastic Mr. Fox', 'Ikonika', \n",
      "    'Timeblind', 'Mark Pritchard', 'Appleblim', 'Ramadanman', 'D1', \n",
      "    'Matty G',  'Peverelist', 'Untold',  'Roska',  'El-B',  'Mala', \n",
      "    'Coki',' Hijak', 'Mount Kimbie',  'Chrissy Murderbot', 'Scuba',\n",
      "    'Kush Arora', 'Meesha', 'Martyn'\n",
      "    ]\n",
      "\n",
      "faveClassicArtistsList = [\n",
      "    'Bj\u00f6rk', 'Kraftwerk', 'DJ Shadow', 'Radiohead', 'The Orb', \n",
      "    'Jean-Michel Jarre', 'Aphex Twin', 'Tangerine Dream', \n",
      "    'Boards of Canada', 'Amon Tobin', 'Ratatat', 'Massive Attack',\n",
      "    'R\u00f6yksopp', 'LCD Soundsystem', 'Gotan Project', \n",
      "    'Gus-Gus', 'Everything but the Girl', 'Ursula 1000', 'Llorca',\n",
      "    'UNKLE', 'The Future Sound of London', 'The Avalanches', \n",
      "    'Laika', 'Thievery Corporation', 'Groove Armada', 'Bonobo', \n",
      "    'DJ Food','Tricky', 'Dirty Vegas', 'T\u00e9l\u00e9popmusik', 'Hooverphonic', \n",
      "    'dZihan & Kamien', 'Talvin Singh', 'DJ Vadim', 'Cibo Matto', \n",
      "    'Esthero', 'Martina Topley-Bird', 'Dimitri From Paris', \n",
      "    'Coldcut', 'Death in Vegas', 'R\u00f3is\u00edn Murphy', 'Nitin Sawhney',\n",
      "    'Jos\u00e9 Padilla', 'Jimi Tenor', 'Mr. Scruff', 'Dub Pistols', \n",
      "    'Morcheeba', 'Supreme Beings of Leisure', 'Air', 'DJ Krush', 'RJD2',\n",
      "    'Underworld', 'jenn mierau', 'Terre Thaemlitz', 'Einst\u00fcrzende Neubauten',\n",
      "    'Nurse with Wound', 'The Legendary Pink Dots', 'Skinny Puppy', \n",
      "    'Atari Teenage Riot', 'Venetian Snares', '\u00b5-Ziq', 'Richard Devine',\n",
      "    'Squarepusher', 'Autechre', 'Le Tigre', 'Queens of the Stone Age',\n",
      "    'Xiu Xiu', 'Baby Dee', 'Alastair Galbraith', '\u4e0d\u5931\u8005', 'I Am Robot and Proud',\n",
      "    'Meg Baird'\n",
      "    ]\n",
      "\n",
      "faveElectroacousticArtistsList = [\n",
      "    'Arthur Russell', 'Jon Appleton', 'Charles Dodge', 'Morton Subotnick', \n",
      "    'James Tenney', 'David Tudor', 'Vladimir Ussachevsky', 'Gottfried Michael Koenig', \n",
      "    'Pauline Oliveros', 'Robert Ashley', 'Nam June Paik', 'La Monte Young', \n",
      "    'Phill Niblock', 'Fran\u00e7ois Bayle', 'James Tenney', 'Tim Hecker', 'Pamela Z',\n",
      "    'Christian Wolff', 'Jean-Claude Risset', 'Paul Lansky', 'Laurie Spiegel',\n",
      "    'Antye Greie', 'Ryoji Ikeda', 'alva.noto', 'Ryuichi Sakamoto', 'Lawrence English',\n",
      "    'Tujiko Noriko', 'Arvo P\u00e4rt', 'Fennesz', 'Christopher Willits', 'Colleen',\n",
      "    'Ben Frost', 'J\u00f3hann J\u00f3hannsson', 'Sylvain Chauveau'\n",
      "    ]\n",
      "\n",
      "favedubArtistsList = [\n",
      "    'King Tubby', 'Scientist', 'Lee \"Scratch\" Perry', 'Augustus Pablo', \n",
      "    'Prince Jammy', 'Mad Professor', 'Roots Radics', 'The Upsetters', \n",
      "    'Sly Dunbar', 'Robbie Shakespeare', 'Keith Hudson', 'Tappa Zukie', 'Big Youth', \n",
      "    'The Aggrovators', 'U-Roy', 'Prince Far I', \n",
      "    'Black Uhuru', 'Horace Andy', 'I-Roy', 'The Abyssinians', \n",
      "    'Pablo Moses', 'Max Romeo', 'The Heptones', 'Burning Spear',\n",
      "    'Dennis Brown', 'Jacob Miller', 'Barrington Levy', 'Sugar Minnot',\n",
      "    'Yellowman', 'Gregory Isaacs', 'John Holt', 'Alton Ellis',\n",
      "    'Ken Boothe', 'The Ethiopians', 'Joe Higgs', 'Tommy McCook', \n",
      "    'The Melodians', 'Delroy Wilson', 'Isaac Haile Selassie', 'Polycubist'\n",
      "    ]\n",
      "\n",
      "faveAfricanArtistsList = [\n",
      "    'Manu Dibango', 'Baaba Maal',\n",
      "    'Antibalas Afrobeat Orchestra', 'Orlando Julius', 'William Onyeabor', \n",
      "    'T.P. Orchestre Poly-Rythmo', 'Sir Victor Uwaifo & His Melody Maestroes', \n",
      "    'Tony Allen & His Afro Messengers', 'Sahara All Stars Band Jos', \n",
      "    'Lijadu Sisters', 'King Sunny Ade & His African Beats', 'Ebo Taylor', \n",
      "    'Gasper Lawal', 'Tunji Oyelana and the Benders', '2 Face', 'P Square',\n",
      "    'Shina Williams & His African Percussionists', 'Weird MC', 'Plantashun Boiz',\n",
      "    'Paul I.K. Dairo', 'D\\'banj', 'Ruggedman', 'Eedris Abdulkareem', \n",
      "    'Styl-Plus', 'Tony Tetuila', 'JJC & 419 Squad', 'Ebenezer Obey', \n",
      "    'Haruna Ishola', 'L\u00e1gb\u00e1j\u00e1', 'Prince Nico Mbarga', 'West African Highlife Band',\n",
      "    'Modenine', 'Terry tha Rapman', 'Olu Maintain', 'Majek Fashek', 'Konono N\u00b01',\n",
      "    'Koffi Olomid\u00e9', 'Les Bantous de la Capitale', 'Thomas Mapfumo', 'Oliver Mtukudzi',\n",
      "    'Chiwoniso Maraire', 'Thomas Mapfumo & The Blacks Unlimited', 'Ang\u00e9lique Kidjo',\n",
      "    'Oumou Sangare', 'Isma\u00ebl L\u00f4', 'Geoffrey Oryema', 'Salif Keita', 'Amadou & Mariam',\n",
      "    'Orchestra Baobab', 'Bembeya Jazz National'\n",
      "    ]\n",
      "\n",
      "\n",
      "def addArtist(artist):\n",
      "        print artist.name, artist.id\n",
      "        artistToAdd = { \"name\": artist.name,\n",
      "                        \"id\": artist.id,\n",
      "                        \"images\": artist.get_images(results=5), \n",
      "                        \"URLs\": artist.urls,\n",
      "                        \"genres\": artist.terms,\n",
      "                        \"twitter_id\": artist.get_twitter_id()\n",
      "                        }\n",
      "        \n",
      "        hotttArtistsCache.append(artistToAdd)\n",
      "        time.sleep(10) # delays for 20 seconds\n",
      "\n",
      "        \n",
      "def addFaveArtistList(artistList):\n",
      "    for fave_artist in artistList:\n",
      "        a = artist.Artist(fave_artist, buckets=['images', 'urls', 'terms'])\n",
      "        addArtist(a)\n",
      "        \n",
      "        \n",
      "def writeArtistsCaches():\n",
      "    \n",
      "    # HOTTT artists\n",
      "    for hottt_artist in artist.top_hottt(results=300):\n",
      "        a = artist.Artist(hottt_artist.id, buckets=['images', 'urls', 'terms'])\n",
      "        addArtist(a)\n",
      "\n",
      "    # FAVE 4x4 artists\n",
      "    addFaveArtistList(fave4x4ArtistsList)\n",
      "\n",
      "    # FAVE Bass artists\n",
      "    addFaveArtistList(faveBassArtistsList)\n",
      "        \n",
      "    # FAVE Classic artists\n",
      "    addFaveArtistList(faveClassicArtistsList)\n",
      "    \n",
      "    # FAVE Electroacoustic artists\n",
      "    addFaveArtistList(faveElectroacousticArtistsList)\n",
      "\n",
      "    # FAVE Dub artists\n",
      "    addFaveArtistList(favedubArtistsList)\n",
      "        \n",
      "    # FAVE African artists\n",
      "    addFaveArtistList(faveAfricanArtistsList)\n",
      "\n",
      "    \n",
      "    with open('artistMetaData.js', 'w') as outfile:\n",
      "        outfile.write(\"var hotttArtistsCache = \")\n",
      "        json.dump(hotttArtistsCache, outfile)\n",
      "        outfile.write(\";\")\n",
      "        outfile.close()\n",
      "\n",
      "    print \"\\n\" + \"Fini - writeArtistsCaches\"    \n",
      "    \n",
      "\n",
      "######################    \n",
      "print 'fave4x4ArtistsList: ' + str(len(fave4x4ArtistsList))\n",
      "print 'faveBassArtistsList: ' + str(len(faveBassArtistsList))\n",
      "print 'faveClassicArtistsList: ' + str(len(faveClassicArtistsList))\n",
      "print 'faveElectroacousticArtistsList: ' + str(len(faveElectroacousticArtistsList))\n",
      "print 'favedubArtistsList: ' + str(len(favedubArtistsList))\n",
      "print 'faveAfricanArtistsList: ' + str(len(faveAfricanArtistsList))\n",
      "print '\\n\\n'\n",
      "\n",
      "writeArtistsCaches()    "
     ],
     "language": "python",
     "metadata": {},
     "outputs": [
      {
       "output_type": "stream",
       "stream": "stdout",
       "text": [
        "fave4x4ArtistsList: 181\n",
        "faveBassArtistsList: 35\n",
        "faveClassicArtistsList: 72\n",
        "faveElectroacousticArtistsList: 34\n",
        "favedubArtistsList: 40\n",
        "faveAfricanArtistsList: 50\n",
        "\n",
        "\n",
        "\n",
        "Taylor Swift"
       ]
      },
      {
       "output_type": "stream",
       "stream": "stdout",
       "text": [
        " ARS54I31187FB46721\n",
        "Ed Sheeran"
       ]
      },
      {
       "output_type": "stream",
       "stream": "stdout",
       "text": [
        " ARSDWSZ122ECCB706A\n",
        "Sam Smith"
       ]
      },
      {
       "output_type": "stream",
       "stream": "stdout",
       "text": [
        " ARUZM8A11C8A41519C\n",
        "Sia"
       ]
      },
      {
       "output_type": "stream",
       "stream": "stdout",
       "text": [
        " AR6ENUY1187B994158\n",
        "Calvin Harris"
       ]
      },
      {
       "output_type": "stream",
       "stream": "stdout",
       "text": [
        " ARJRB241187FB556A3\n",
        "Meghan Trainor"
       ]
      },
      {
       "output_type": "stream",
       "stream": "stdout",
       "text": [
        " ARGUQXQ12D5CD78CB1\n",
        "Maroon 5"
       ]
      },
      {
       "output_type": "stream",
       "stream": "stdout",
       "text": [
        " ARF5M7Q1187FB501E8\n",
        "Imagine Dragons"
       ]
      },
      {
       "output_type": "stream",
       "stream": "stdout",
       "text": [
        " ARRVRFP126FE025327\n",
        "Avicii"
       ]
      },
      {
       "output_type": "stream",
       "stream": "stdout",
       "text": [
        " ARWLAEE122BCFCA245\n",
        "David Guetta"
       ]
      },
      {
       "output_type": "stream",
       "stream": "stdout",
       "text": [
        " ARH2QI91187FB3788D\n",
        "Ariana Grande"
       ]
      },
      {
       "output_type": "stream",
       "stream": "stdout",
       "text": [
        " AROHQCR13244CF7152\n",
        "Drake"
       ]
      },
      {
       "output_type": "stream",
       "stream": "stdout",
       "text": [
        " ARODZUF11F4C841E1F\n",
        "Hozier"
       ]
      },
      {
       "output_type": "stream",
       "stream": "stdout",
       "text": [
        " ARKLCET1407EC5357C\n",
        "Ellie Goulding"
       ]
      },
      {
       "output_type": "stream",
       "stream": "stdout",
       "text": [
        " ARKTTJV12592CDA07F\n",
        "Mark Ronson"
       ]
      },
      {
       "output_type": "stream",
       "stream": "stdout",
       "text": [
        " ARPM1O31187B9A0ECD\n",
        "Madonna"
       ]
      },
      {
       "output_type": "stream",
       "stream": "stdout",
       "text": [
        " ARBEOHF1187B9B044D\n",
        "John Legend"
       ]
      },
      {
       "output_type": "stream",
       "stream": "stdout",
       "text": [
        " ARHDI7O1187B9B6850\n",
        "Charli XCX"
       ]
      },
      {
       "output_type": "stream",
       "stream": "stdout",
       "text": [
        " ARMWDYO11F50C49B36\n",
        "One Direction"
       ]
      },
      {
       "output_type": "stream",
       "stream": "stdout",
       "text": [
        " ARZHFAY130708EE366\n",
        "The Weeknd"
       ]
      },
      {
       "output_type": "stream",
       "stream": "stdout",
       "text": [
        " ARYUDWF12F2B89BB33\n",
        "Rihanna"
       ]
      },
      {
       "output_type": "stream",
       "stream": "stdout",
       "text": [
        " ARKU3Z61187FB51DCA\n",
        "Coldplay"
       ]
      },
      {
       "output_type": "stream",
       "stream": "stdout",
       "text": [
        " ARJ7KF01187B98D717\n",
        "Beyonc\u00e9"
       ]
      },
      {
       "output_type": "stream",
       "stream": "stdout",
       "text": [
        " AR65K7A1187FB4DAA4\n",
        "George Ezra"
       ]
      },
      {
       "output_type": "stream",
       "stream": "stdout",
       "text": [
        " ARKCGJK141A92CD71D\n",
        "Alesso"
       ]
      },
      {
       "output_type": "stream",
       "stream": "stdout",
       "text": [
        " ARFBFYB12C60E4E610\n",
        "Pitbull"
       ]
      },
      {
       "output_type": "stream",
       "stream": "stdout",
       "text": [
        " ARK9BHE1187FB3AC9D\n",
        "Jessie J"
       ]
      },
      {
       "output_type": "stream",
       "stream": "stdout",
       "text": [
        " ARWWTYW11F4C842642\n",
        "Tove Lo"
       ]
      },
      {
       "output_type": "stream",
       "stream": "stdout",
       "text": [
        " ARBUIGY13A709C567F\n",
        "Echosmith"
       ]
      },
      {
       "output_type": "stream",
       "stream": "stdout",
       "text": [
        " ARXDZWY137E74B02FB\n",
        "Clean Bandit"
       ]
      },
      {
       "output_type": "stream",
       "stream": "stdout",
       "text": [
        " ARIRBAA133D0D26D78\n",
        "Katy Perry"
       ]
      },
      {
       "output_type": "stream",
       "stream": "stdout",
       "text": [
        " AR0IVTL1187B9AD520\n",
        "Big Sean"
       ]
      },
      {
       "output_type": "stream",
       "stream": "stdout",
       "text": [
        " ARGG7S81187FB511E9\n",
        "Enrique Iglesias"
       ]
      },
      {
       "output_type": "stream",
       "stream": "stdout",
       "text": [
        " ARDCFNZ1187FB3DDB0\n",
        "Kygo"
       ]
      },
      {
       "output_type": "stream",
       "stream": "stdout",
       "text": [
        " ARTZYQN13EEEF973E7\n",
        "OneRepublic"
       ]
      },
      {
       "output_type": "stream",
       "stream": "stdout",
       "text": [
        " AR73S4G1187B9A03C2\n",
        "Robin Schulz"
       ]
      },
      {
       "output_type": "stream",
       "stream": "stdout",
       "text": [
        " ARYQOAT1359C24C8BB\n",
        "Nicki Minaj"
       ]
      },
      {
       "output_type": "stream",
       "stream": "stdout",
       "text": [
        " ARDYVEQ122BCFCC19E\n",
        "Pharrell Williams"
       ]
      },
      {
       "output_type": "stream",
       "stream": "stdout",
       "text": [
        " ARLIWDY1456895A560\n",
        "Kanye West"
       ]
      },
      {
       "output_type": "stream",
       "stream": "stdout",
       "text": [
        " ARRH63Y1187FB47783\n",
        "Mr. Probz"
       ]
      },
      {
       "output_type": "stream",
       "stream": "stdout",
       "text": [
        " ARMTPRF1269FCD5C94\n",
        "Iggy Azalea"
       ]
      },
      {
       "output_type": "stream",
       "stream": "stdout",
       "text": [
        " ARBJMMW136E570FA06\n",
        "The Avener"
       ]
      },
      {
       "output_type": "stream",
       "stream": "stdout",
       "text": [
        " ARHNOTL141EC88437C\n",
        "James Bay"
       ]
      },
      {
       "output_type": "stream",
       "stream": "stdout",
       "text": [
        " ARHEQXN13EB4582BB9\n",
        "Fall Out Boy"
       ]
      },
      {
       "output_type": "stream",
       "stream": "stdout",
       "text": [
        " ARSG7NQ1187FB57482\n",
        "Chris Brown"
       ]
      },
      {
       "output_type": "stream",
       "stream": "stdout",
       "text": [
        " ARXOTQH1187FB57084\n",
        "Selena Gomez"
       ]
      },
      {
       "output_type": "stream",
       "stream": "stdout",
       "text": [
        " ARZ5NER11A348F0B33\n",
        "Magic!"
       ]
      },
      {
       "output_type": "stream",
       "stream": "stdout",
       "text": [
        " ARYUWLF1473F667067\n",
        "Olly Murs"
       ]
      },
      {
       "output_type": "stream",
       "stream": "stdout",
       "text": [
        " ARGLFXO12592CDB6B4\n",
        "The Script"
       ]
      },
      {
       "output_type": "stream",
       "stream": "stdout",
       "text": [
        " ARKMQ0K11C8A4224DF\n",
        "Vance Joy"
       ]
      },
      {
       "output_type": "stream",
       "stream": "stdout",
       "text": [
        " ARXGKXE13CABFC507C\n",
        "Sheppard"
       ]
      },
      {
       "output_type": "stream",
       "stream": "stdout",
       "text": [
        " ARFX8DG11C8A42B1D2\n",
        "Nick Jonas"
       ]
      },
      {
       "output_type": "stream",
       "stream": "stdout",
       "text": [
        " AR0SJVA11C8A414FDE\n",
        "Kelly Clarkson"
       ]
      },
      {
       "output_type": "stream",
       "stream": "stdout",
       "text": [
        " ARJGIOD1187B9AE920\n",
        "Fifth Harmony"
       ]
      },
      {
       "output_type": "stream",
       "stream": "stdout",
       "text": [
        " ARJMGRN13F3ABCE000\n",
        "Ella Henderson"
       ]
      },
      {
       "output_type": "stream",
       "stream": "stdout",
       "text": [
        " ARLOKIS141565AA4C9\n",
        "Hardwell"
       ]
      },
      {
       "output_type": "stream",
       "stream": "stdout",
       "text": [
        " ARTARKC1241B9C4789\n",
        "Flo Rida"
       ]
      },
      {
       "output_type": "stream",
       "stream": "stdout",
       "text": [
        " AR1IJ1Z11C8A41500D\n",
        "Lorde"
       ]
      },
      {
       "output_type": "stream",
       "stream": "stdout",
       "text": [
        " ARUXAKW13D610B0A9B\n",
        "Galantis"
       ]
      },
      {
       "output_type": "stream",
       "stream": "stdout",
       "text": [
        " ARFKZRQ1391FF1B17F\n",
        "AronChupa"
       ]
      },
      {
       "output_type": "stream",
       "stream": "stdout",
       "text": [
        " ARGYKIB142EE80AF67\n",
        "Milky Chance"
       ]
      },
      {
       "output_type": "stream",
       "stream": "stdout",
       "text": [
        " ARMDNNP13D610B088F\n",
        "Eminem"
       ]
      },
      {
       "output_type": "stream",
       "stream": "stdout",
       "text": [
        " ARTH9041187FB43E1F\n",
        "Zhu"
       ]
      },
      {
       "output_type": "stream",
       "stream": "stdout",
       "text": [
        " ARZLHMW12AF7DABF36\n",
        "Black M"
       ]
      },
      {
       "output_type": "stream",
       "stream": "stdout",
       "text": [
        " ARYUCME13C1C299823\n",
        "Bruno Mars"
       ]
      },
      {
       "output_type": "stream",
       "stream": "stdout",
       "text": [
        " ARJHCSL123E29C21E8\n",
        "Lana Del Rey"
       ]
      },
      {
       "output_type": "stream",
       "stream": "stdout",
       "text": [
        " ARICLSK131AAE25F5E\n",
        "Adele"
       ]
      },
      {
       "output_type": "stream",
       "stream": "stdout",
       "text": [
        " AR7J9AP1187FB5BD64\n",
        "Nico & Vinz"
       ]
      },
      {
       "output_type": "stream",
       "stream": "stdout",
       "text": [
        " ARPYLSV143823E2416\n",
        "Martin Garrix"
       ]
      },
      {
       "output_type": "stream",
       "stream": "stdout",
       "text": [
        " ARAGGUA136E57105F8\n",
        "Timmy Trumpet"
       ]
      },
      {
       "output_type": "stream",
       "stream": "stdout",
       "text": [
        " ARBMNAO1269FCD5E36\n",
        "Romeo Santos"
       ]
      },
      {
       "output_type": "stream",
       "stream": "stdout",
       "text": [
        " AREUJEI12FE0876ED5\n",
        "Shawn Mendes"
       ]
      },
      {
       "output_type": "stream",
       "stream": "stdout",
       "text": [
        " ARPPLQX146B59A9035\n",
        "Ne-Yo"
       ]
      },
      {
       "output_type": "stream",
       "stream": "stdout",
       "text": [
        " ARAWOLW1187FB3AB70\n",
        "Kid Ink"
       ]
      },
      {
       "output_type": "stream",
       "stream": "stdout",
       "text": [
        " ARFJXBN12F0DAC3E88\n",
        "Kwabs"
       ]
      },
      {
       "output_type": "stream",
       "stream": "stdout",
       "text": [
        " ARACFYF143393707B2\n",
        "G.R.L."
       ]
      },
      {
       "output_type": "stream",
       "stream": "stdout",
       "text": [
        " ARBLXJW13F52C83D55\n",
        "Omi"
       ]
      },
      {
       "output_type": "stream",
       "stream": "stdout",
       "text": [
        " ARZ2B1F1187FB3EAAD\n",
        "Florence + The Machine"
       ]
      },
      {
       "output_type": "stream",
       "stream": "stdout",
       "text": [
        " ARNCHOP121318C56B8\n",
        "Nickelback"
       ]
      },
      {
       "output_type": "stream",
       "stream": "stdout",
       "text": [
        " ARPAAHK1187B9ABB00\n",
        "Chet Faker"
       ]
      },
      {
       "output_type": "stream",
       "stream": "stdout",
       "text": [
        " ARVSUYH1369F265FED\n",
        "Kiesza"
       ]
      },
      {
       "output_type": "stream",
       "stream": "stdout",
       "text": [
        " ARHJSZQ11EBCD7BE27\n",
        "Passenger"
       ]
      },
      {
       "output_type": "stream",
       "stream": "stdout",
       "text": [
        " ARMTZR11187B9AD0C2\n",
        "Arctic Monkeys"
       ]
      },
      {
       "output_type": "stream",
       "stream": "stdout",
       "text": [
        " ARM0P6Z1187FB4D466\n",
        "James Newton Howard"
       ]
      },
      {
       "output_type": "stream",
       "stream": "stdout",
       "text": [
        " ARSZIBW1187B994053\n",
        "Kendji Girac"
       ]
      },
      {
       "output_type": "stream",
       "stream": "stdout",
       "text": [
        " ARUMBXB1469BE6C175\n",
        "Usher"
       ]
      },
      {
       "output_type": "stream",
       "stream": "stdout",
       "text": [
        " ARPDVPJ1187B9ADBE9\n",
        "Jason Der\u00fclo"
       ]
      },
      {
       "output_type": "stream",
       "stream": "stdout",
       "text": [
        " ARICFET123E29C2452\n",
        "Lost Frequencies"
       ]
      },
      {
       "output_type": "stream",
       "stream": "stdout",
       "text": [
        " ARDAMPQ14681604720\n",
        "Skylar Grey"
       ]
      },
      {
       "output_type": "stream",
       "stream": "stdout",
       "text": [
        " ARYBVSR12E778A79E1\n",
        "Becky G"
       ]
      },
      {
       "output_type": "stream",
       "stream": "stdout",
       "text": [
        " ARMOWSI13997899FD6\n",
        "Fritz Kalkbrenner"
       ]
      },
      {
       "output_type": "stream",
       "stream": "stdout",
       "text": [
        " ARRQFTJ12086C13BEB\n",
        "ALTJ"
       ]
      },
      {
       "output_type": "stream",
       "stream": "stdout",
       "text": [
        " ARDLXKN122ECCB85EC\n",
        "Lilly Wood & The Prick"
       ]
      },
      {
       "output_type": "stream",
       "stream": "stdout",
       "text": [
        " AREOJFX12B364E9FD1\n",
        "Zedd"
       ]
      },
      {
       "output_type": "stream",
       "stream": "stdout",
       "text": [
        " ARTQFNZ12E2A671BBF\n",
        "Kodaline"
       ]
      },
      {
       "output_type": "stream",
       "stream": "stdout",
       "text": [
        " ARNYDEE138BF7CCD76\n",
        "Walk the Moon"
       ]
      },
      {
       "output_type": "stream",
       "stream": "stdout",
       "text": [
        " ARAZEGJ11E905798ED\n",
        "Fergie"
       ]
      },
      {
       "output_type": "stream",
       "stream": "stdout",
       "text": [
        " ARMRCET1187FB52049\n",
        "Sigma"
       ]
      },
      {
       "output_type": "stream",
       "stream": "stdout",
       "text": [
        " ARMM06Q1187FB37202\n",
        "U2"
       ]
      },
      {
       "output_type": "stream",
       "stream": "stdout",
       "text": [
        " ARUJ5A41187FB3F5F1\n",
        "Foo Fighters"
       ]
      },
      {
       "output_type": "stream",
       "stream": "stdout",
       "text": [
        " AR6XPWV1187B9ADAEB\n",
        "Daft Punk"
       ]
      },
      {
       "output_type": "stream",
       "stream": "stdout",
       "text": [
        " ARF8HTQ1187B9AE693\n",
        "Disclosure"
       ]
      },
      {
       "output_type": "stream",
       "stream": "stdout",
       "text": [
        " ARPCATO12B3B3540E2\n",
        "Christine and the Queens"
       ]
      },
      {
       "output_type": "stream",
       "stream": "stdout",
       "text": [
        " ARFJRXE13559201595\n",
        "Demi Lovato"
       ]
      },
      {
       "output_type": "stream",
       "stream": "stdout",
       "text": [
        " ARUCF6P11A348F0B17\n",
        "Mark Forster"
       ]
      },
      {
       "output_type": "stream",
       "stream": "stdout",
       "text": [
        " ARKMCGL13586C70E3E\n",
        "Oliver Heldens"
       ]
      },
      {
       "output_type": "stream",
       "stream": "stdout",
       "text": [
        " ARSWVFF13F2EC8D3F6\n",
        "Nicky Jam"
       ]
      },
      {
       "output_type": "stream",
       "stream": "stdout",
       "text": [
        " ARSTQ2A1187B99CF14\n",
        "Jeremih"
       ]
      },
      {
       "output_type": "stream",
       "stream": "stdout",
       "text": [
        " ARQFENL121318C58A6\n",
        "Ricky Martin"
       ]
      },
      {
       "output_type": "stream",
       "stream": "stdout",
       "text": [
        " AR2FSX31187B98E3EF\n",
        "Adam Levine"
       ]
      },
      {
       "output_type": "stream",
       "stream": "stdout",
       "text": [
        " ARSVDDS1187FB36855\n",
        "Prince Royce"
       ]
      },
      {
       "output_type": "stream",
       "stream": "stdout",
       "text": [
        " ARASIMV1257509D792\n",
        "P!nk"
       ]
      },
      {
       "output_type": "stream",
       "stream": "stdout",
       "text": [
        " ARZRYXF1187FB555CC\n",
        "Led Zeppelin"
       ]
      },
      {
       "output_type": "stream",
       "stream": "stdout",
       "text": [
        " ARDIBRT1187B9AF176\n",
        "Indila"
       ]
      },
      {
       "output_type": "stream",
       "stream": "stdout",
       "text": [
        " ARTQSWQ135592042DC\n",
        "J Balvin"
       ]
      },
      {
       "output_type": "stream",
       "stream": "stdout",
       "text": [
        " ARMVSKH130DCC6F6D7\n",
        "Bakermat"
       ]
      },
      {
       "output_type": "stream",
       "stream": "stdout",
       "text": [
        " ARZHOMO13A1DC8A72B\n",
        "\u5468\u6770\u502b"
       ]
      },
      {
       "output_type": "stream",
       "stream": "stdout",
       "text": [
        " AR9ZP1S1187FB52513\n",
        "Soprano"
       ]
      },
      {
       "output_type": "stream",
       "stream": "stdout",
       "text": [
        " ARI9DDK1187FB4FD68\n",
        "Andreas Bourani"
       ]
      },
      {
       "output_type": "stream",
       "stream": "stdout",
       "text": [
        " ARUDDNT130708ED1B1\n",
        "Jos\u00e9 Gonz\u00e1lez"
       ]
      },
      {
       "output_type": "stream",
       "stream": "stdout",
       "text": [
        " ARJTUSK1187B99A4B3\n",
        "Father John Misty"
       ]
      },
      {
       "output_type": "stream",
       "stream": "stdout",
       "text": [
        " ARZLGWG13559201D49\n",
        "Ti\u00ebsto"
       ]
      },
      {
       "output_type": "stream",
       "stream": "stdout",
       "text": [
        " ARIW30O1187FB5A29A\n",
        "Bastille"
       ]
      },
      {
       "output_type": "stream",
       "stream": "stdout",
       "text": [
        " ARZT6MQ1187FB56487\n",
        "Linkin Park"
       ]
      },
      {
       "output_type": "stream",
       "stream": "stdout",
       "text": [
        " ARQUMH41187B9AF699\n",
        "Beck"
       ]
      },
      {
       "output_type": "stream",
       "stream": "stdout",
       "text": [
        " ARC2XR11187FB5CC95\n",
        "Lady Gaga"
       ]
      },
      {
       "output_type": "stream",
       "stream": "stdout",
       "text": [
        " ARX6TAQ11C8A415850\n",
        "Gwen Stefani"
       ]
      },
      {
       "output_type": "stream",
       "stream": "stdout",
       "text": [
        " ARVBRGZ1187FB4675A\n",
        "Sam Hunt"
       ]
      },
      {
       "output_type": "stream",
       "stream": "stdout",
       "text": [
        " AR0IVTI1187B9B47ED\n",
        "Dimitri Vegas"
       ]
      },
      {
       "output_type": "stream",
       "stream": "stdout",
       "text": [
        " ARPMQIO1241B9C506A\n",
        "Queen"
       ]
      },
      {
       "output_type": "stream",
       "stream": "stdout",
       "text": [
        " ARL4TII1187B9B46E1\n",
        "Labrinth"
       ]
      },
      {
       "output_type": "stream",
       "stream": "stdout",
       "text": [
        " ARANUHH12A57A06AEF\n",
        "Josef Salvat"
       ]
      },
      {
       "output_type": "stream",
       "stream": "stdout",
       "text": [
        " ARCZTBF13CD5136547\n",
        "Martin Tungevaag"
       ]
      },
      {
       "output_type": "stream",
       "stream": "stdout",
       "text": [
        " AREHXNW13833B91819\n",
        "Kendrick Lamar"
       ]
      },
      {
       "output_type": "stream",
       "stream": "stdout",
       "text": [
        " AREJQVO12C1DF51FFE\n",
        "Diana Krall"
       ]
      },
      {
       "output_type": "stream",
       "stream": "stdout",
       "text": [
        " ARCXKY91187B9ACA99\n",
        "Pablo Alboran"
       ]
      },
      {
       "output_type": "stream",
       "stream": "stdout",
       "text": [
        " AROOLMX12AF7DA3659\n",
        "J. Cole"
       ]
      },
      {
       "output_type": "stream",
       "stream": "stdout",
       "text": [
        " ARFIDHF12496DAB7E1\n",
        "AWOLNATION"
       ]
      },
      {
       "output_type": "stream",
       "stream": "stdout",
       "text": [
        " ARJVYUI12AA0D8C20C\n",
        "Annie Lennox"
       ]
      },
      {
       "output_type": "stream",
       "stream": "stdout",
       "text": [
        " ARW9FP41187B98C2A7\n",
        "James Blunt"
       ]
      },
      {
       "output_type": "stream",
       "stream": "stdout",
       "text": [
        " ARS57XV1187B9B8535\n",
        "Childish Gambino"
       ]
      },
      {
       "output_type": "stream",
       "stream": "stdout",
       "text": [
        " ARYVZHB1271F573F3F\n",
        "Deorro"
       ]
      },
      {
       "output_type": "stream",
       "stream": "stdout",
       "text": [
        " ARSVRID139A2DB2C5B\n",
        "AC/DC"
       ]
      },
      {
       "output_type": "stream",
       "stream": "stdout",
       "text": [
        " ARWR05M1187B9951A2\n",
        "Skrillex"
       ]
      },
      {
       "output_type": "stream",
       "stream": "stdout",
       "text": [
        " ARUAMGA123E29C15AD\n",
        "Lenny Kravitz"
       ]
      },
      {
       "output_type": "stream",
       "stream": "stdout",
       "text": [
        " ARFA4301187B9AD04A\n",
        "Luke Bryan"
       ]
      },
      {
       "output_type": "stream",
       "stream": "stdout",
       "text": [
        " ARNNM56119B86686EA\n",
        "Marina and The Diamonds"
       ]
      },
      {
       "output_type": "stream",
       "stream": "stdout",
       "text": [
        " ARUBJMV12086C16C1E\n",
        "Jessie Ware"
       ]
      },
      {
       "output_type": "stream",
       "stream": "stdout",
       "text": [
        " ARBLKBV12E597F01FC\n",
        "Shakira"
       ]
      },
      {
       "output_type": "stream",
       "stream": "stdout",
       "text": [
        " AR6PJ8R1187FB5AD70\n",
        "Lil Jon"
       ]
      },
      {
       "output_type": "stream",
       "stream": "stdout",
       "text": [
        " ARHLGDG11F4C846A37\n",
        "Carrie Underwood"
       ]
      },
      {
       "output_type": "stream",
       "stream": "stdout",
       "text": [
        " ARLE2071187FB3A270\n",
        "Jason Mraz"
       ]
      },
      {
       "output_type": "stream",
       "stream": "stdout",
       "text": [
        " ARML3X41187FB35F2E\n",
        "Justin Timberlake"
       ]
      },
      {
       "output_type": "stream",
       "stream": "stdout",
       "text": [
        " ARWK5QH1187B9A9B7F\n",
        "Bob Dylan"
       ]
      },
      {
       "output_type": "stream",
       "stream": "stdout",
       "text": [
        " AR5FP401187FB523C9\n",
        "Jovanotti"
       ]
      },
      {
       "output_type": "stream",
       "stream": "stdout",
       "text": [
        " ARB5ODF1187B98C204\n",
        "Peking Duk"
       ]
      },
      {
       "output_type": "stream",
       "stream": "stdout",
       "text": [
        " ARRKWWY13848EE74D6\n",
        "Hilltop Hoods"
       ]
      },
      {
       "output_type": "stream",
       "stream": "stdout",
       "text": [
        " ARC5BL01187FB3DF69\n",
        "Klingande"
       ]
      },
      {
       "output_type": "stream",
       "stream": "stdout",
       "text": [
        " ARFRFJX13DFF684D25\n",
        "Deichkind"
       ]
      },
      {
       "output_type": "stream",
       "stream": "stdout",
       "text": [
        " ARRKXY81187FB4C6EC\n",
        "Take That"
       ]
      },
      {
       "output_type": "stream",
       "stream": "stdout",
       "text": [
        " AR3MMZH1187B9B55D0\n",
        "Stromae"
       ]
      },
      {
       "output_type": "stream",
       "stream": "stdout",
       "text": [
        " ARLGNCZ1269FCD4F62\n",
        "Eric Church"
       ]
      },
      {
       "output_type": "stream",
       "stream": "stdout",
       "text": [
        " AROED381187B99AE76\n",
        "Kid Rock"
       ]
      },
      {
       "output_type": "stream",
       "stream": "stdout",
       "text": [
        " AR4JOEZ1187B9AE99A\n",
        "Blake Shelton"
       ]
      },
      {
       "output_type": "stream",
       "stream": "stdout",
       "text": [
        " ARV9LSS1187B98C471\n",
        "Sofia Karlberg"
       ]
      },
      {
       "output_type": "stream",
       "stream": "stdout",
       "text": [
        " ARSXROT1445E814143\n",
        "Tom Odell"
       ]
      },
      {
       "output_type": "stream",
       "stream": "stdout",
       "text": [
        " ARZXLZX13ADD34AAD1\n",
        "5 Seconds Of Summer"
       ]
      },
      {
       "output_type": "stream",
       "stream": "stdout",
       "text": [
        " AREXQVQ13B20C75202\n",
        "Nirvana"
       ]
      },
      {
       "output_type": "stream",
       "stream": "stdout",
       "text": [
        " ARH3S5S1187FB4F76B\n",
        "Florida Georgia Line"
       ]
      },
      {
       "output_type": "stream",
       "stream": "stdout",
       "text": [
        " ARIUOBQ12BE4890CD5\n",
        "Man\u00e1"
       ]
      },
      {
       "output_type": "stream",
       "stream": "stdout",
       "text": [
        " ARX2F7M1187B9A5563\n",
        "Wyclef Jean"
       ]
      },
      {
       "output_type": "stream",
       "stream": "stdout",
       "text": [
        " ARRJ3UC1187FB579D7\n",
        "Wiz Khalifa"
       ]
      },
      {
       "output_type": "stream",
       "stream": "stdout",
       "text": [
        " ARN0GFV1187FB508CC\n",
        "Dvbbs"
       ]
      },
      {
       "output_type": "stream",
       "stream": "stdout",
       "text": [
        " ARUXSAC136E570E79A\n",
        "Pink Floyd"
       ]
      },
      {
       "output_type": "stream",
       "stream": "stdout",
       "text": [
        " ARD4C1I1187FB4B0C3\n",
        "Justin Bieber"
       ]
      },
      {
       "output_type": "stream",
       "stream": "stdout",
       "text": [
        " ARFCWSZ123526A0AFD\n",
        "Tiziano Ferro"
       ]
      },
      {
       "output_type": "stream",
       "stream": "stdout",
       "text": [
        " ARXF40D1187B9A3FB3\n",
        "Juan Magan"
       ]
      },
      {
       "output_type": "stream",
       "stream": "stdout",
       "text": [
        " AR912GD1187B9B9B0F\n",
        "Christina Perri"
       ]
      },
      {
       "output_type": "stream",
       "stream": "stdout",
       "text": [
        " ARFDKIH129F1DDFB09\n",
        "Capital Cities"
       ]
      },
      {
       "output_type": "stream",
       "stream": "stdout",
       "text": [
        " ARGBGCB12CF58F79BE\n",
        "Idina Menzel"
       ]
      },
      {
       "output_type": "stream",
       "stream": "stdout",
       "text": [
        " AR83LT51187FB3E073\n",
        "Cro"
       ]
      },
      {
       "output_type": "stream",
       "stream": "stdout",
       "text": [
        " ARIGDMX1269FCD4CFB\n",
        "London Grammar"
       ]
      },
      {
       "output_type": "stream",
       "stream": "stdout",
       "text": [
        " ARNKHIF13D3E92728E\n",
        "Blur"
       ]
      },
      {
       "output_type": "stream",
       "stream": "stdout",
       "text": [
        " ARKVITV1187B9AE854\n",
        "Broiler"
       ]
      },
      {
       "output_type": "stream",
       "stream": "stdout",
       "text": [
        " ARZKBBX141FF85960E\n",
        "Tim McGraw"
       ]
      },
      {
       "output_type": "stream",
       "stream": "stdout",
       "text": [
        " ARDR3K91187B9B04EB\n",
        "Yellow Claw"
       ]
      },
      {
       "output_type": "stream",
       "stream": "stdout",
       "text": [
        " ARSWPLI138257457AE\n",
        "Helene Fischer"
       ]
      },
      {
       "output_type": "stream",
       "stream": "stdout",
       "text": [
        " ARAWDKF1187FB4563A\n",
        "DJ Snake"
       ]
      },
      {
       "output_type": "stream",
       "stream": "stdout",
       "text": [
        " AR22ZMN1187B9B6203\n",
        "Colbie Caillat"
       ]
      },
      {
       "output_type": "stream",
       "stream": "stdout",
       "text": [
        " ARQ2I6K1187FB59949\n",
        "Bj\u00f6rk"
       ]
      },
      {
       "output_type": "stream",
       "stream": "stdout",
       "text": [
        " ARAOQ5T1187FB435AB\n",
        "Marco Mengoni"
       ]
      },
      {
       "output_type": "stream",
       "stream": "stdout",
       "text": [
        " ARATWKK1271F576926\n",
        "Afrojack"
       ]
      },
      {
       "output_type": "stream",
       "stream": "stdout",
       "text": [
        " ARX6MR511C8A42C159\n",
        "Noel Gallagher's High Flying Birds"
       ]
      },
      {
       "output_type": "stream",
       "stream": "stdout",
       "text": [
        " ARXXAPJ131529ED7B2\n",
        "Armin van Buuren"
       ]
      },
      {
       "output_type": "stream",
       "stream": "stdout",
       "text": [
        " AR0W7561187FB57131\n",
        "Marc Anthony"
       ]
      },
      {
       "output_type": "stream",
       "stream": "stdout",
       "text": [
        " ARXM0CX1187B98FD56\n",
        "Melendi"
       ]
      },
      {
       "output_type": "stream",
       "stream": "stdout",
       "text": [
        " AROLBIR1187B9B37B7\n",
        "Michael Jackson"
       ]
      },
      {
       "output_type": "stream",
       "stream": "stdout",
       "text": [
        " ARXPPEY1187FB51DF4\n",
        "Wisin"
       ]
      },
      {
       "output_type": "stream",
       "stream": "stdout",
       "text": [
        " ARCON5N1187B99EE79\n",
        "Birdy"
       ]
      },
      {
       "output_type": "stream",
       "stream": "stdout",
       "text": [
        " ARRJRIS1187B9AD39C\n",
        "Common"
       ]
      },
      {
       "output_type": "stream",
       "stream": "stdout",
       "text": [
        " AR54RGR1187FB51D10\n",
        "Will Sparks"
       ]
      },
      {
       "output_type": "stream",
       "stream": "stdout",
       "text": [
        " ARMFUUA1373E16FA28\n",
        "Sebastian Ingrosso"
       ]
      },
      {
       "output_type": "stream",
       "stream": "stdout",
       "text": [
        " ARDS6LH1187FB3A7CC\n",
        "Miley Cyrus"
       ]
      },
      {
       "output_type": "stream",
       "stream": "stdout",
       "text": [
        " ARYAVBS1187FB5B46C\n",
        "DJ Fresh"
       ]
      },
      {
       "output_type": "stream",
       "stream": "stdout",
       "text": [
        " ARVLQBQ1187FB40FB4\n",
        "Gotye"
       ]
      },
      {
       "output_type": "stream",
       "stream": "stdout",
       "text": [
        " ARKBXMX1187B9AA807\n",
        "Radiohead"
       ]
      },
      {
       "output_type": "stream",
       "stream": "stdout",
       "text": [
        " ARH6W4X1187B99274F\n",
        "Vigiland"
       ]
      },
      {
       "output_type": "stream",
       "stream": "stdout",
       "text": [
        " ARFSXOZ14185A12FF9\n",
        "Years & Years"
       ]
      },
      {
       "output_type": "stream",
       "stream": "stdout",
       "text": [
        " ARPDYVR13A6C15570C\n",
        "Rae Sremmurd"
       ]
      },
      {
       "output_type": "stream",
       "stream": "stdout",
       "text": [
        " AROVIDL144862CEC08\n",
        "Metallica"
       ]
      },
      {
       "output_type": "stream",
       "stream": "stdout",
       "text": [
        " ART5MUE1187B98C961\n",
        "Steve Aoki"
       ]
      },
      {
       "output_type": "stream",
       "stream": "stdout",
       "text": [
        " ARG420G1187FB5B636\n",
        "The Prodigy"
       ]
      },
      {
       "output_type": "stream",
       "stream": "stdout",
       "text": [
        " AR4L4WQ1187FB51996\n",
        "Jason Aldean"
       ]
      },
      {
       "output_type": "stream",
       "stream": "stdout",
       "text": [
        " ARH6BN71187B990C51\n",
        "Modest Mouse"
       ]
      },
      {
       "output_type": "stream",
       "stream": "stdout",
       "text": [
        " AR6AY7W1187B9AC569\n",
        "O.T. Genasis"
       ]
      },
      {
       "output_type": "stream",
       "stream": "stdout",
       "text": [
        " ARQAJXZ143F8875A18\n",
        "Marlon Roudette"
       ]
      },
      {
       "output_type": "stream",
       "stream": "stdout",
       "text": [
        " ARZA97I11C8A415724\n",
        "Fedez"
       ]
      },
      {
       "output_type": "stream",
       "stream": "stdout",
       "text": [
        " ARXARGE1269FB357A8\n",
        "Giorgio Moroder"
       ]
      },
      {
       "output_type": "stream",
       "stream": "stdout",
       "text": [
        " ARXI28B1187B98F65C\n",
        "The XX"
       ]
      },
      {
       "output_type": "stream",
       "stream": "stdout",
       "text": [
        " ARNDRBI122BCFCC2E3\n",
        "Fleetwood Mac"
       ]
      },
      {
       "output_type": "stream",
       "stream": "stdout",
       "text": [
        " AR6BJ1V1187B9AE3B7\n",
        "Gorgon City"
       ]
      },
      {
       "output_type": "stream",
       "stream": "stdout",
       "text": [
        " ARCJPWR136658E907C\n",
        "Juan Gabriel"
       ]
      },
      {
       "output_type": "stream",
       "stream": "stdout",
       "text": [
        " ARGOKH21187B992800\n",
        "ONE OK ROCK"
       ]
      },
      {
       "output_type": "stream",
       "stream": "stdout",
       "text": [
        " ARYAV5U1187FB57AAC\n",
        "Marilyn Manson"
       ]
      },
      {
       "output_type": "stream",
       "stream": "stdout",
       "text": [
        " ARC4K2E1187B9B6FDA\n",
        "Jay-Z"
       ]
      },
      {
       "output_type": "stream",
       "stream": "stdout",
       "text": [
        " ARLGIX31187B9AE9A0\n",
        "R3hab"
       ]
      },
      {
       "output_type": "stream",
       "stream": "stdout",
       "text": [
        " ARRMSJN1269FB3383C\n",
        "Trey Songz"
       ]
      },
      {
       "output_type": "stream",
       "stream": "stdout",
       "text": [
        " ARL60FF1187B9AE52D\n",
        "Sunrise Avenue"
       ]
      },
      {
       "output_type": "stream",
       "stream": "stdout",
       "text": [
        " ARTUD3U1187FB41695\n",
        "Mariah Carey"
       ]
      },
      {
       "output_type": "stream",
       "stream": "stdout",
       "text": [
        " ARKSZW81187B9B695D\n",
        "Guy Sebastian"
       ]
      },
      {
       "output_type": "stream",
       "stream": "stdout",
       "text": [
        " ARJIK321187FB4A34E\n",
        "The 1975"
       ]
      },
      {
       "output_type": "stream",
       "stream": "stdout",
       "text": [
        " AROJAOG1391FF1AFE1\n",
        "Lady Antebellum"
       ]
      },
      {
       "output_type": "stream",
       "stream": "stdout",
       "text": [
        " ARFJXKQ119B86694AF\n",
        "Belle and Sebastian"
       ]
      },
      {
       "output_type": "stream",
       "stream": "stdout",
       "text": [
        " AR8BUVM1187FB4D94D\n",
        "Lykke Li"
       ]
      },
      {
       "output_type": "stream",
       "stream": "stdout",
       "text": [
        " ARGHEC01187FB597B0\n",
        "Calogero"
       ]
      },
      {
       "output_type": "stream",
       "stream": "stdout",
       "text": [
        " ARKOP291187FB41271\n",
        "R\u00f6yksopp"
       ]
      },
      {
       "output_type": "stream",
       "stream": "stdout",
       "text": [
        " ARDA9NZ1187FB3A825\n",
        "Kenny Chesney"
       ]
      },
      {
       "output_type": "stream",
       "stream": "stdout",
       "text": [
        " ARZ9S861187B9B5B0A\n",
        "Yandel"
       ]
      },
      {
       "output_type": "stream",
       "stream": "stdout",
       "text": [
        " AR5E1IJ1187B99C0C7\n",
        "The Black Keys"
       ]
      },
      {
       "output_type": "stream",
       "stream": "stdout",
       "text": [
        " ARS8GNX1187B9B5141\n",
        "Keith Urban"
       ]
      },
      {
       "output_type": "stream",
       "stream": "stdout",
       "text": [
        " AR95IYB1187FB3FE0B\n",
        "Mike Mago"
       ]
      },
      {
       "output_type": "stream",
       "stream": "stdout",
       "text": [
        " ARZYKKB1257509EA7F\n",
        "Eagles"
       ]
      },
      {
       "output_type": "stream",
       "stream": "stdout",
       "text": [
        " AR16GSC1187B9A6291\n",
        "Red Hot Chili Peppers"
       ]
      },
      {
       "output_type": "stream",
       "stream": "stdout",
       "text": [
        " ARE8GLF1187FB52532\n",
        "Dillon Francis"
       ]
      },
      {
       "output_type": "stream",
       "stream": "stdout",
       "text": [
        " ARYHZBN12E7C5F3265\n",
        "Fr\u00e9ro Delavega"
       ]
      },
      {
       "output_type": "stream",
       "stream": "stdout",
       "text": [
        " ARUTYVT13DA2EF94FB\n",
        "Gorillaz"
       ]
      },
      {
       "output_type": "stream",
       "stream": "stdout",
       "text": [
        " ARAXU5Z1187B98FECD\n",
        "B.o.B"
       ]
      },
      {
       "output_type": "stream",
       "stream": "stdout",
       "text": [
        " ARKQQZA12086C116FC\n",
        "Brad Paisley"
       ]
      },
      {
       "output_type": "stream",
       "stream": "stdout",
       "text": [
        " ARKHGQA1187B9B7AD5\n",
        "Alicia Keys"
       ]
      },
      {
       "output_type": "stream",
       "stream": "stdout",
       "text": [
        " AR52EZT1187B9900BF\n",
        "The Decemberists"
       ]
      },
      {
       "output_type": "stream",
       "stream": "stdout",
       "text": [
        " ARHWR8B1187FB557D3\n",
        "CHVRCHES"
       ]
      },
      {
       "output_type": "stream",
       "stream": "stdout",
       "text": [
        " ARCZOJQ13A5B8886AB\n",
        "SEKAI NO OWARI"
       ]
      },
      {
       "output_type": "stream",
       "stream": "stdout",
       "text": [
        " ARVBXLX131FEA9FFCC\n",
        "John Newman"
       ]
      },
      {
       "output_type": "stream",
       "stream": "stdout",
       "text": [
        " ARNWGMK1241B9C9CE2\n",
        "Philip George"
       ]
      },
      {
       "output_type": "stream",
       "stream": "stdout",
       "text": [
        " ARSFLOH14A5237CDB8\n",
        "Aphex Twin"
       ]
      },
      {
       "output_type": "stream",
       "stream": "stdout",
       "text": [
        " ARYPTWE1187FB49D64\n",
        "Foster the People"
       ]
      },
      {
       "output_type": "stream",
       "stream": "stdout",
       "text": [
        " ARQEQMV129CDD179D8\n",
        "Death Cab for Cutie"
       ]
      },
      {
       "output_type": "stream",
       "stream": "stdout",
       "text": [
        " ARSPUJF1187B9A14B8\n",
        "Calibre 50"
       ]
      },
      {
       "output_type": "stream",
       "stream": "stdout",
       "text": [
        " ARPAUWX12BEF24F888\n",
        "Inna"
       ]
      },
      {
       "output_type": "stream",
       "stream": "stdout",
       "text": [
        " AROPZVY11E2835D3D3\n",
        "Anitta"
       ]
      },
      {
       "output_type": "stream",
       "stream": "stdout",
       "text": [
        " AROIOQH13CDB8274B6\n",
        "Dierks Bentley"
       ]
      },
      {
       "output_type": "stream",
       "stream": "stdout",
       "text": [
        " AR3FYKL1187FB44945\n",
        "Emma Louise"
       ]
      },
      {
       "output_type": "stream",
       "stream": "stdout",
       "text": [
        " ARTUXIJ132F422D481\n",
        "Showtek"
       ]
      },
      {
       "output_type": "stream",
       "stream": "stdout",
       "text": [
        " ARVQ9FE1187FB419A9\n",
        "Zac Brown Band"
       ]
      },
      {
       "output_type": "stream",
       "stream": "stdout",
       "text": [
        " AR478R21187FB42BC4\n",
        "Juanes"
       ]
      },
      {
       "output_type": "stream",
       "stream": "stdout",
       "text": [
        " ARYN2M61187B995BD6\n",
        "Carlos Vives"
       ]
      },
      {
       "output_type": "stream",
       "stream": "stdout",
       "text": [
        " ARLAWDD1187FB48367\n",
        "Chayanne"
       ]
      },
      {
       "output_type": "stream",
       "stream": "stdout",
       "text": [
        " AR8B79N1187B98FB4A\n",
        "Muse"
       ]
      },
      {
       "output_type": "stream",
       "stream": "stdout",
       "text": [
        " ARR3ONV1187B9A2F59\n",
        "The Vamps"
       ]
      },
      {
       "output_type": "stream",
       "stream": "stdout",
       "text": [
        " AROSSCZ148A8DE9F11\n",
        "M. Pokora"
       ]
      },
      {
       "output_type": "stream",
       "stream": "stdout",
       "text": [
        " ARCUAFJ122BCFCC42A\n",
        "Seinabo Sey"
       ]
      },
      {
       "output_type": "stream",
       "stream": "stdout",
       "text": [
        " ARMQBSA136AD6DF7D9\n",
        "Carly Rae Jepsen"
       ]
      },
      {
       "output_type": "stream",
       "stream": "stdout",
       "text": [
        " ARRWGYU12086C17800\n",
        "Jennifer Lopez"
       ]
      },
      {
       "output_type": "stream",
       "stream": "stdout",
       "text": [
        " AR7C6G11187B9B4C1E\n",
        "Mary J. Blige"
       ]
      },
      {
       "output_type": "stream",
       "stream": "stdout",
       "text": [
        " AR5DC8S1187B9958BE\n",
        "Julien Dor\u00e9"
       ]
      },
      {
       "output_type": "stream",
       "stream": "stdout",
       "text": [
        " ARF2VXV1187B98E54B\n",
        "Imany"
       ]
      },
      {
       "output_type": "stream",
       "stream": "stdout",
       "text": [
        " ARJATFR130708ED2D0\n",
        "Dotan"
       ]
      },
      {
       "output_type": "stream",
       "stream": "stdout",
       "text": [
        " ARQYMFC1269FCD686A\n",
        "Purity Ring"
       ]
      },
      {
       "output_type": "stream",
       "stream": "stdout",
       "text": [
        " ARIIMDK12F793546CE\n",
        "The Rolling Stones"
       ]
      },
      {
       "output_type": "stream",
       "stream": "stdout",
       "text": [
        " ARFCUN31187B9AD578\n",
        "Julion Alvarez y Su Norteno Banda"
       ]
      },
      {
       "output_type": "stream",
       "stream": "stdout",
       "text": [
        " ARXFFTB122988FD1A5\n",
        "Hoodie Allen"
       ]
      },
      {
       "output_type": "stream",
       "stream": "stdout",
       "text": [
        " ARRCNUI12A57A0685C\n",
        "Winner"
       ]
      },
      {
       "output_type": "stream",
       "stream": "stdout",
       "text": [
        " ARNN95J1187B99296D\n",
        "Missy Elliott"
       ]
      },
      {
       "output_type": "stream",
       "stream": "stdout",
       "text": [
        " ARXFB7K1187B9B1E54\n",
        "Paolo Nutini"
       ]
      },
      {
       "output_type": "stream",
       "stream": "stdout",
       "text": [
        " ARZS3RD1187FB457CE\n",
        "Tchami"
       ]
      },
      {
       "output_type": "stream",
       "stream": "stdout",
       "text": [
        " ARQENHG141040307E6\n",
        "Parra for Cuva"
       ]
      },
      {
       "output_type": "stream",
       "stream": "stdout",
       "text": [
        " ARKSZNI13E9BDE68EF\n",
        "will.i.am"
       ]
      },
      {
       "output_type": "stream",
       "stream": "stdout",
       "text": [
        " ARCLAF01187FB39AA6\n",
        "Kensington"
       ]
      },
      {
       "output_type": "stream",
       "stream": "stdout",
       "text": [
        " ARJKJKP11E2835E6D3\n",
        "Don Omar"
       ]
      },
      {
       "output_type": "stream",
       "stream": "stdout",
       "text": [
        " ARGV26H1187FB4BAF4\n",
        "A Great Big World"
       ]
      },
      {
       "output_type": "stream",
       "stream": "stdout",
       "text": [
        " ARGPAWB13B0169D793\n",
        "Icona Pop"
       ]
      },
      {
       "output_type": "stream",
       "stream": "stdout",
       "text": [
        " ARMXUUI12E9676D850\n",
        "Broods"
       ]
      },
      {
       "output_type": "stream",
       "stream": "stdout",
       "text": [
        " ARYDKFJ141C2787EEE\n",
        "Gabriel Rios"
       ]
      },
      {
       "output_type": "stream",
       "stream": "stdout",
       "text": [
        " AR3GMEL1187B9B2BB9\n",
        "The Veronicas"
       ]
      },
      {
       "output_type": "stream",
       "stream": "stdout",
       "text": [
        " AR0FFYE1187FB3B00A\n",
        "Lee Brice"
       ]
      },
      {
       "output_type": "stream",
       "stream": "stdout",
       "text": [
        " ARSOSSS11C8A415813\n",
        "Henrique & Juliano"
       ]
      },
      {
       "output_type": "stream",
       "stream": "stdout",
       "text": [
        " ARLZKAF13D8AAAC3B4\n",
        "FKA twigs"
       ]
      },
      {
       "output_type": "stream",
       "stream": "stdout",
       "text": [
        " ARVDUQU14035F197BB\n",
        "John Mayer"
       ]
      },
      {
       "output_type": "stream",
       "stream": "stdout",
       "text": [
        " ARZENOX1187B98A645\n",
        "Thalia"
       ]
      },
      {
       "output_type": "stream",
       "stream": "stdout",
       "text": [
        " AR6VHEC1187FB5AC0D\n",
        "Paloma Faith"
       ]
      },
      {
       "output_type": "stream",
       "stream": "stdout",
       "text": [
        " ARLIPXI122BCFCB320\n",
        "Juan Atkins"
       ]
      },
      {
       "output_type": "stream",
       "stream": "stdout",
       "text": [
        " ARFEZLZ1187B9AEEED\n",
        "Faithless"
       ]
      },
      {
       "output_type": "stream",
       "stream": "stdout",
       "text": [
        " ARXDQJB1187FB57154\n",
        "Ruoho Ruotsi"
       ]
      },
      {
       "output_type": "stream",
       "stream": "stdout",
       "text": [
        " ARPYOHF1257509B5C7\n",
        "Maurice Fulton"
       ]
      },
      {
       "output_type": "stream",
       "stream": "stdout",
       "text": [
        " ARRWMKN1187FB43F91\n",
        "Leftfield"
       ]
      },
      {
       "output_type": "stream",
       "stream": "stdout",
       "text": [
        " ARQLGB41187FB4F7EB\n",
        "Frivolous"
       ]
      },
      {
       "output_type": "stream",
       "stream": "stdout",
       "text": [
        " ARN1TD11187B9A38EB\n",
        "Basement Jaxx"
       ]
      },
      {
       "output_type": "stream",
       "stream": "stdout",
       "text": [
        " ARFSPOV1187B9B2363\n",
        "The Glitch Mob"
       ]
      },
      {
       "output_type": "stream",
       "stream": "stdout",
       "text": [
        " ARBBFJR126FE02537E\n",
        "Hollis P. Monroe"
       ]
      },
      {
       "output_type": "stream",
       "stream": "stdout",
       "text": [
        " AR5S2ZK1187B9B4C8F\n",
        "Frankie Knuckles"
       ]
      },
      {
       "output_type": "stream",
       "stream": "stdout",
       "text": [
        " AR3X0GS1187FB3F714\n",
        "Fran\u00e7ois K"
       ]
      },
      {
       "output_type": "stream",
       "stream": "stdout",
       "text": [
        " AREJDX21187FB42421\n",
        "Trentem\u00f8ller"
       ]
      },
      {
       "output_type": "stream",
       "stream": "stdout",
       "text": [
        " AR9S8551187FB3EA81\n",
        "Chelonis R. Jones"
       ]
      },
      {
       "output_type": "stream",
       "stream": "stdout",
       "text": [
        " ARNJWA01187FB4276C\n",
        "Steve Bug"
       ]
      },
      {
       "output_type": "stream",
       "stream": "stdout",
       "text": [
        " ARFJHZU1187B98ACA1\n",
        "Jimpster"
       ]
      },
      {
       "output_type": "stream",
       "stream": "stdout",
       "text": [
        " AR5ZHV81187FB501C5\n",
        "Jeff Samuel"
       ]
      },
      {
       "output_type": "stream",
       "stream": "stdout",
       "text": [
        " AR9M3K01187FB381B2\n",
        "Ian Pooley"
       ]
      },
      {
       "output_type": "stream",
       "stream": "stdout",
       "text": [
        " AR7OO5F1187B9B84A3\n",
        "Omar S."
       ]
      },
      {
       "output_type": "stream",
       "stream": "stdout",
       "text": [
        " ARHWQTH11F50C4E648\n",
        "Luomo"
       ]
      },
      {
       "output_type": "stream",
       "stream": "stdout",
       "text": [
        " AREKQXQ1187FB45D0E\n",
        "Kerri Chandler"
       ]
      },
      {
       "output_type": "stream",
       "stream": "stdout",
       "text": [
        " ARK0N891187B99BBC7\n",
        "Charles Webster"
       ]
      },
      {
       "output_type": "stream",
       "stream": "stdout",
       "text": [
        " AROM3UD1187FB37B35\n",
        "Roy Davis Jr."
       ]
      },
      {
       "output_type": "stream",
       "stream": "stdout",
       "text": [
        " AR9C5VS1187FB377FE\n",
        "Robert Owens"
       ]
      },
      {
       "output_type": "stream",
       "stream": "stdout",
       "text": [
        " ARZ2XLT1187B995BAE\n",
        "Black Science Orchestra"
       ]
      },
      {
       "output_type": "stream",
       "stream": "stdout",
       "text": [
        " ARAFW1Q1187FB49A74\n",
        "Mr. Fingers"
       ]
      },
      {
       "output_type": "stream",
       "stream": "stdout",
       "text": [
        " ARVNGQW1187FB4B235\n",
        "Saint Etienne"
       ]
      },
      {
       "output_type": "stream",
       "stream": "stdout",
       "text": [
        " ARJFNSC1187B9939BD\n",
        "Masters at Work"
       ]
      },
      {
       "output_type": "stream",
       "stream": "stdout",
       "text": [
        " ARFLL2D1187FB52A62\n",
        "Theo Parrish"
       ]
      },
      {
       "output_type": "stream",
       "stream": "stdout",
       "text": [
        " AR9ZGZK1187FB47228\n",
        "Moodymann"
       ]
      },
      {
       "output_type": "stream",
       "stream": "stdout",
       "text": [
        " ARYP9WB1187B98C639\n",
        "Basic Channel"
       ]
      },
      {
       "output_type": "stream",
       "stream": "stdout",
       "text": [
        " AR2CM6U1187B999EB7\n",
        "Rhythm & Sound"
       ]
      },
      {
       "output_type": "stream",
       "stream": "stdout",
       "text": [
        " AR8UPM11187FB3B707\n",
        "Roman Fl\u00fcgel"
       ]
      },
      {
       "output_type": "stream",
       "stream": "stdout",
       "text": [
        " AR78FOI1187FB43573\n",
        "Joe Lewis"
       ]
      },
      {
       "output_type": "stream",
       "stream": "stdout",
       "text": [
        " ARXLXHL1187B9967D0\n",
        "Dj Said"
       ]
      },
      {
       "output_type": "stream",
       "stream": "stdout",
       "text": [
        " ARKDABZ11F4C83F271\n",
        "Recloose"
       ]
      },
      {
       "output_type": "stream",
       "stream": "stdout",
       "text": [
        " AR7300X1187B99ABFD\n",
        "Kate Simko"
       ]
      },
      {
       "output_type": "stream",
       "stream": "stdout",
       "text": [
        " ARI799Z1187FB4AC71\n",
        "Aschka"
       ]
      },
      {
       "output_type": "stream",
       "stream": "stdout",
       "text": [
        " ARQFAJV11F4C8410C2\n",
        "Maya Jane Coles"
       ]
      },
      {
       "output_type": "stream",
       "stream": "stdout",
       "text": [
        " ARYVDGE123526A0EC0\n",
        "Gys"
       ]
      },
      {
       "output_type": "stream",
       "stream": "stdout",
       "text": [
        " AR75CQ71187B991C70\n",
        "Deadbeat"
       ]
      },
      {
       "output_type": "stream",
       "stream": "stdout",
       "text": [
        " ARB3JMR1187FB4227B\n",
        "Soultek"
       ]
      },
      {
       "output_type": "stream",
       "stream": "stdout",
       "text": [
        " ARU6K871187B9962B7\n",
        "DeepChord"
       ]
      },
      {
       "output_type": "stream",
       "stream": "stdout",
       "text": [
        " ARP0AFR1187FB4BBB9\n",
        "Vladislav Delay"
       ]
      },
      {
       "output_type": "stream",
       "stream": "stdout",
       "text": [
        " ARRKV0P1187B98D4FE\n",
        "Andy Stott"
       ]
      },
      {
       "output_type": "stream",
       "stream": "stdout",
       "text": [
        " AROEOHN1187B9B2736\n",
        "Intrusion"
       ]
      },
      {
       "output_type": "stream",
       "stream": "stdout",
       "text": [
        " ARAIQJH11C8A421D75\n",
        "Rod Modell"
       ]
      },
      {
       "output_type": "stream",
       "stream": "stdout",
       "text": [
        " ARHM80M1187FB3713C\n",
        "Kassem Mosse"
       ]
      },
      {
       "output_type": "stream",
       "stream": "stdout",
       "text": [
        " AR6PAIJ119B8667EEB\n",
        "Murcof"
       ]
      },
      {
       "output_type": "stream",
       "stream": "stdout",
       "text": [
        " AR6RHW31187B9A9698\n",
        "Marc Leclair"
       ]
      },
      {
       "output_type": "stream",
       "stream": "stdout",
       "text": [
        " ARU1WAP1187B9AA0FA\n",
        "Fax"
       ]
      },
      {
       "output_type": "stream",
       "stream": "stdout",
       "text": [
        " AR13E8A1187FB3931D\n",
        "Monolake"
       ]
      },
      {
       "output_type": "stream",
       "stream": "stdout",
       "text": [
        " AROVIZH1187FB37B1A\n",
        "Kit Clayton"
       ]
      },
      {
       "output_type": "stream",
       "stream": "stdout",
       "text": [
        " AROI7W91187B9AFD08\n",
        "Bvdub"
       ]
      },
      {
       "output_type": "stream",
       "stream": "stdout",
       "text": [
        " ARZLWJ21187FB57513\n",
        "Swayzak"
       ]
      },
      {
       "output_type": "stream",
       "stream": "stdout",
       "text": [
        " AR36ITB1187B9A636D\n",
        "Wookie"
       ]
      },
      {
       "output_type": "stream",
       "stream": "stdout",
       "text": [
        " AR7SVON1187B9A7FEC\n",
        "Artful Dodger"
       ]
      },
      {
       "output_type": "stream",
       "stream": "stdout",
       "text": [
        " AR18XYZ1187FB4CD22\n",
        "MJ Cole"
       ]
      },
      {
       "output_type": "stream",
       "stream": "stdout",
       "text": [
        " ARK5MMZ1187FB466D1\n",
        "Les Rythmes Digitales"
       ]
      },
      {
       "output_type": "stream",
       "stream": "stdout",
       "text": [
        " AR3NPVS1187FB5108F\n",
        "Fischerspooner"
       ]
      },
      {
       "output_type": "stream",
       "stream": "stdout",
       "text": [
        " AR9Z2O31187B9B49F9\n",
        "Cassius"
       ]
      },
      {
       "output_type": "stream",
       "stream": "stdout",
       "text": [
        " ARCGHBU1187FB4B637\n",
        "Miguel Migs"
       ]
      },
      {
       "output_type": "stream",
       "stream": "stdout",
       "text": [
        " ARY2ZUX1187B9A266C\n",
        "Osunlade"
       ]
      },
      {
       "output_type": "stream",
       "stream": "stdout",
       "text": [
        " ARM29941187FB42945\n",
        "Metro Area"
       ]
      },
      {
       "output_type": "stream",
       "stream": "stdout",
       "text": [
        " ARXX2TR1187FB5B420\n",
        "Dennis Ferrer"
       ]
      },
      {
       "output_type": "stream",
       "stream": "stdout",
       "text": [
        " AR31Y6Y1187B99A541\n",
        "Ron Trent"
       ]
      },
      {
       "output_type": "stream",
       "stream": "stdout",
       "text": [
        " AR62SFY1187FB49528\n",
        "Larry Heard"
       ]
      },
      {
       "output_type": "stream",
       "stream": "stdout",
       "text": [
        " ARA1SZ31187FB3F149\n",
        "Alton Miller"
       ]
      },
      {
       "output_type": "stream",
       "stream": "stdout",
       "text": [
        " ARM625W1187FB53403\n",
        "King Britt"
       ]
      },
      {
       "output_type": "stream",
       "stream": "stdout",
       "text": [
        " ARCKUD71187FB3BC0A\n",
        "Bougie Soliterre"
       ]
      },
      {
       "output_type": "stream",
       "stream": "stdout",
       "text": [
        " ARA52PX1187B9971A0\n",
        "Todd Terry"
       ]
      },
      {
       "output_type": "stream",
       "stream": "stdout",
       "text": [
        " ARERYQ81187FB46B0C\n",
        "Black Coffee"
       ]
      },
      {
       "output_type": "stream",
       "stream": "stdout",
       "text": [
        " AREQQCV12472CE3116\n",
        "Richie Hawtin"
       ]
      },
      {
       "output_type": "stream",
       "stream": "stdout",
       "text": [
        " AR2LV0Q1187B9AA3B1\n",
        "Speedy J"
       ]
      },
      {
       "output_type": "stream",
       "stream": "stdout",
       "text": [
        " ARJZX6S1187B9927C6\n",
        "Kenny Larkin"
       ]
      },
      {
       "output_type": "stream",
       "stream": "stdout",
       "text": [
        " ARKRUMS1187B9BA1B6\n",
        "Laurent Garnier"
       ]
      },
      {
       "output_type": "stream",
       "stream": "stdout",
       "text": [
        " ARRYBYF1187FB3929E\n",
        "Carl Craig"
       ]
      },
      {
       "output_type": "stream",
       "stream": "stdout",
       "text": [
        " ARQ3EJL1187B98BF06\n",
        "Robert Hood"
       ]
      },
      {
       "output_type": "stream",
       "stream": "stdout",
       "text": [
        " ARDNSXI1187B993545\n",
        "John Tejada"
       ]
      },
      {
       "output_type": "stream",
       "stream": "stdout",
       "text": [
        " ARFO65E1187B9ACA27\n",
        "Thomas P. Heckmann"
       ]
      },
      {
       "output_type": "stream",
       "stream": "stdout",
       "text": [
        " ARON6EK1187B9AEE57\n",
        "Aril Brikha"
       ]
      },
      {
       "output_type": "stream",
       "stream": "stdout",
       "text": [
        " ARX0RMO1187B99425D\n",
        "Tiefschwarz"
       ]
      },
      {
       "output_type": "stream",
       "stream": "stdout",
       "text": [
        " ARBSSV01187FB3A0C4\n",
        "Funk D'Void"
       ]
      },
      {
       "output_type": "stream",
       "stream": "stdout",
       "text": [
        " ARJH2B61187B9B9465\n",
        "A Guy Called Gerald"
       ]
      },
      {
       "output_type": "stream",
       "stream": "stdout",
       "text": [
        " AR3V8ZM1187FB4CFA5\n",
        "Jeff Mills"
       ]
      },
      {
       "output_type": "stream",
       "stream": "stdout",
       "text": [
        " ARVLHYF1187B9BA2DA\n",
        "Aaron Carl"
       ]
      },
      {
       "output_type": "stream",
       "stream": "stdout",
       "text": [
        " ARIMXIP11F4C8425C0\n",
        "Josh Wink"
       ]
      },
      {
       "output_type": "stream",
       "stream": "stdout",
       "text": [
        " ARAAZN9119B86688D9\n",
        "Derrick May"
       ]
      },
      {
       "output_type": "stream",
       "stream": "stdout",
       "text": [
        " AR08VFK1187FB505A3\n",
        "Frankie Bones"
       ]
      },
      {
       "output_type": "stream",
       "stream": "stdout",
       "text": [
        " ARZ4DLQ1187B9B9106\n",
        "DJ Assault"
       ]
      },
      {
       "output_type": "stream",
       "stream": "stdout",
       "text": [
        " ARHODHZ1187B9AF76A\n",
        "AUX 88"
       ]
      },
      {
       "output_type": "stream",
       "stream": "stdout",
       "text": [
        " ARE7BYR1187FB4CCB3\n",
        "Fumiya Tanaka"
       ]
      },
      {
       "output_type": "stream",
       "stream": "stdout",
       "text": [
        " ARE7QZJ1187FB560DA\n",
        "The Lady Blacktronika"
       ]
      },
      {
       "output_type": "stream",
       "stream": "stdout",
       "text": [
        " ARDTRSA1269FB32C51\n",
        "Junior Lopez"
       ]
      },
      {
       "output_type": "stream",
       "stream": "stdout",
       "text": [
        " ARZFYWS1241B9C8AE5\n",
        "Someone Else"
       ]
      },
      {
       "output_type": "stream",
       "stream": "stdout",
       "text": [
        " ARMQJOP1187B98CFD6\n",
        "Noah Pred"
       ]
      },
      {
       "output_type": "stream",
       "stream": "stdout",
       "text": [
        " AR7YZ221187FB3B9A3\n",
        "Danny Tenaglia"
       ]
      },
      {
       "output_type": "stream",
       "stream": "stdout",
       "text": [
        " ARYSPFJ1187B99B6F1\n",
        "Pete Tong"
       ]
      },
      {
       "output_type": "stream",
       "stream": "stdout",
       "text": [
        " ARIDID61187B99B31A\n",
        "Booka Shade"
       ]
      },
      {
       "output_type": "stream",
       "stream": "stdout",
       "text": [
        " ARAPRD01187FB52527\n",
        "Paul Kalkbrenner"
       ]
      },
      {
       "output_type": "stream",
       "stream": "stdout",
       "text": [
        " ARH33CP1187FB3836B\n",
        "Dapayk & Padberg"
       ]
      },
      {
       "output_type": "stream",
       "stream": "stdout",
       "text": [
        " ARK4U291187FB3A297\n",
        "Igor O. Vlasov"
       ]
      },
      {
       "output_type": "stream",
       "stream": "stdout",
       "text": [
        " AR9VKG21187B9B7492\n",
        "Dreem Teem"
       ]
      },
      {
       "output_type": "stream",
       "stream": "stdout",
       "text": [
        " ARSLFJI1187B9B344D\n",
        "Todd Edwards"
       ]
      },
      {
       "output_type": "stream",
       "stream": "stdout",
       "text": [
        " ARZ6G0I1187FB47969\n",
        "187 Lockdown"
       ]
      },
      {
       "output_type": "stream",
       "stream": "stdout",
       "text": [
        " ARYH88P1187FB4D19E\n",
        "Serious Danger"
       ]
      },
      {
       "output_type": "stream",
       "stream": "stdout",
       "text": [
        " ARXZPGN1187B9959A3\n",
        "Deep Dish"
       ]
      },
      {
       "output_type": "stream",
       "stream": "stdout",
       "text": [
        " ARVPLEV1187B9AEBF1\n",
        "Ellen Allien"
       ]
      },
      {
       "output_type": "stream",
       "stream": "stdout",
       "text": [
        " AR5HM7D1187FB4D2B7\n",
        "Matias Aguayo"
       ]
      },
      {
       "output_type": "stream",
       "stream": "stdout",
       "text": [
        " ARXDV6O1187B9B635F\n",
        "Alex Smoke"
       ]
      },
      {
       "output_type": "stream",
       "stream": "stdout",
       "text": [
        " AR1WEZI1187B9AA902\n",
        "Modeselektor"
       ]
      },
      {
       "output_type": "stream",
       "stream": "stdout",
       "text": [
        " ARA6BH81187B98F3AF\n",
        "Mike Shannon"
       ]
      },
      {
       "output_type": "stream",
       "stream": "stdout",
       "text": [
        " ARUTPVX1187B9B15A2\n",
        "Radio Slave"
       ]
      },
      {
       "output_type": "stream",
       "stream": "stdout",
       "text": [
        " ARKVKKG1187FB3B49A\n",
        "Jonas Bering"
       ]
      },
      {
       "output_type": "stream",
       "stream": "stdout",
       "text": [
        " ARUIVWJ1187B99C325\n",
        "Glitterbug"
       ]
      },
      {
       "output_type": "stream",
       "stream": "stdout",
       "text": [
        " ARJYWGI12086C14F6F\n",
        "Justus K\u00f6hncke"
       ]
      },
      {
       "output_type": "stream",
       "stream": "stdout",
       "text": [
        " ARDZXJ01187FB4FA1C\n",
        "Wolfgang Voigt"
       ]
      },
      {
       "output_type": "stream",
       "stream": "stdout",
       "text": [
        " ARO6SRC1187FB4DC59\n",
        "Ripperton"
       ]
      },
      {
       "output_type": "stream",
       "stream": "stdout",
       "text": [
        " AR82IDY1187FB4979A\n",
        "Pantytec"
       ]
      },
      {
       "output_type": "stream",
       "stream": "stdout",
       "text": [
        " ARS2UFD1187FB42CDF\n",
        "Isol\u00e9e"
       ]
      },
      {
       "output_type": "stream",
       "stream": "stdout",
       "text": [
        " ARVYGJF1187B9A9555\n",
        "Alex Under"
       ]
      },
      {
       "output_type": "stream",
       "stream": "stdout",
       "text": [
        " ARR8ZE31187FB381C6\n",
        "Phonique"
       ]
      },
      {
       "output_type": "stream",
       "stream": "stdout",
       "text": [
        " ARJPEOF1187B998D00\n",
        "James Holden"
       ]
      },
      {
       "output_type": "stream",
       "stream": "stdout",
       "text": [
        " ARCU5PR1187B995F02\n",
        "Minilogue"
       ]
      },
      {
       "output_type": "stream",
       "stream": "stdout",
       "text": [
        " ARO9FTG1187FB49832\n",
        "Michael Mayer"
       ]
      },
      {
       "output_type": "stream",
       "stream": "stdout",
       "text": [
        " ARNNUFY1187FB58880\n",
        "Pantha Du Prince"
       ]
      },
      {
       "output_type": "stream",
       "stream": "stdout",
       "text": [
        " ARFDPOU1187FB36386\n",
        "H\u00e5kan Lidbo"
       ]
      },
      {
       "output_type": "stream",
       "stream": "stdout",
       "text": [
        " ARPLEU11187FB5ABF8\n",
        "Lusine"
       ]
      },
      {
       "output_type": "stream",
       "stream": "stdout",
       "text": [
        " ARBERAU1187FB45567\n",
        "Kalabrese"
       ]
      },
      {
       "output_type": "stream",
       "stream": "stdout",
       "text": [
        " AROM0O71187FB425D7\n",
        "Matthew Herbert"
       ]
      },
      {
       "output_type": "stream",
       "stream": "stdout",
       "text": [
        " ARG6SK51187B99A03C\n",
        "Jan Jelinek"
       ]
      },
      {
       "output_type": "stream",
       "stream": "stdout",
       "text": [
        " ARDPRO11187B9B0C61\n",
        "Lucien-N-Luciano"
       ]
      },
      {
       "output_type": "stream",
       "stream": "stdout",
       "text": [
        " ARGNUTA1187FB397C6\n",
        "Closer Musik"
       ]
      },
      {
       "output_type": "stream",
       "stream": "stdout",
       "text": [
        " ARAUI561187FB3CE99\n",
        "Apparat"
       ]
      },
      {
       "output_type": "stream",
       "stream": "stdout",
       "text": [
        " ARAKSQE1187B9AFE6C\n",
        "Guillaume & The Coutu Dumonts"
       ]
      },
      {
       "output_type": "stream",
       "stream": "stdout",
       "text": [
        " AR7QN2J1187FB4BE2D\n",
        "Thomas Brinkmann"
       ]
      },
      {
       "output_type": "stream",
       "stream": "stdout",
       "text": [
        " ARDD6EI1187B9AFC4E\n",
        "The Soft Pink Truth"
       ]
      },
      {
       "output_type": "stream",
       "stream": "stdout",
       "text": [
        " ARRGBU11187B98A7A3\n",
        "Ada"
       ]
      },
      {
       "output_type": "stream",
       "stream": "stdout",
       "text": [
        " ARWL02J1187FB38DA8\n",
        "Wighnomy Brothers"
       ]
      },
      {
       "output_type": "stream",
       "stream": "stdout",
       "text": [
        " ARB6R5V1187B9B65AD\n",
        "Ricardo Villalobos"
       ]
      },
      {
       "output_type": "stream",
       "stream": "stdout",
       "text": [
        " AR0LB821187B9B90F1\n",
        "Jesse Somfay"
       ]
      },
      {
       "output_type": "stream",
       "stream": "stdout",
       "text": [
        " ARUTCX41187FB43DF8\n",
        "Falko Brocksieper"
       ]
      },
      {
       "output_type": "stream",
       "stream": "stdout",
       "text": [
        " ARXT4DN1187FB389C1\n",
        "Damian Lazarus"
       ]
      },
      {
       "output_type": "stream",
       "stream": "stdout",
       "text": [
        " ARLDECI1187B9B89E1\n",
        "Superpitcher"
       ]
      },
      {
       "output_type": "stream",
       "stream": "stdout",
       "text": [
        " ARB4AWX1187B9B0563\n",
        "Catz N' Dogz"
       ]
      },
      {
       "output_type": "stream",
       "stream": "stdout",
       "text": [
        " AR5YPV81187FB5B7E4\n",
        "Pan/Tone"
       ]
      },
      {
       "output_type": "stream",
       "stream": "stdout",
       "text": [
        " ARTRD4D1187FB38CBD\n",
        "Broker/Dealer"
       ]
      },
      {
       "output_type": "stream",
       "stream": "stdout",
       "text": [
        " ARTE3YT1187FB42D1A\n",
        "Dinky"
       ]
      },
      {
       "output_type": "stream",
       "stream": "stdout",
       "text": [
        " ARVL7X81187B989EED\n",
        "T.Raumschmiere"
       ]
      },
      {
       "output_type": "stream",
       "stream": "stdout",
       "text": [
        " ARIW0KX1187FB5BA38\n",
        "Stephen Beaupr\u00e9"
       ]
      },
      {
       "output_type": "stream",
       "stream": "stdout",
       "text": [
        " AR942TI1187FB43470\n",
        "Konrad Black"
       ]
      },
      {
       "output_type": "stream",
       "stream": "stdout",
       "text": [
        " AR9YBRW1187B99A8DE\n",
        "Claude VonStroke"
       ]
      },
      {
       "output_type": "stream",
       "stream": "stdout",
       "text": [
        " AR7EWST1187FB45890\n",
        "DJ Koze"
       ]
      },
      {
       "output_type": "stream",
       "stream": "stdout",
       "text": [
        " AR3O2UJ1187FB38B8B\n",
        "Cobblestone Jazz"
       ]
      },
      {
       "output_type": "stream",
       "stream": "stdout",
       "text": [
        " AR5NYUD1187B988D9C\n",
        "Robag Wruhme"
       ]
      },
      {
       "output_type": "stream",
       "stream": "stdout",
       "text": [
        " ARW3CB71187B9B69FE\n",
        "Seth Troxler"
       ]
      },
      {
       "output_type": "stream",
       "stream": "stdout",
       "text": [
        " ARKSM3X1187FB4ADDA\n",
        "Stewart Walker"
       ]
      },
      {
       "output_type": "stream",
       "stream": "stdout",
       "text": [
        " ARWTENB1187B99E043\n",
        "Farben"
       ]
      },
      {
       "output_type": "stream",
       "stream": "stdout",
       "text": [
        " ARL1QN11187FB39407\n",
        "Pier Bucci"
       ]
      },
      {
       "output_type": "stream",
       "stream": "stdout",
       "text": [
        " ARM93971187FB42EED\n",
        "Mathew Jonson"
       ]
      },
      {
       "output_type": "stream",
       "stream": "stdout",
       "text": [
        " AR88M7P1187B9B7192\n",
        "LoSoul"
       ]
      },
      {
       "output_type": "stream",
       "stream": "stdout",
       "text": [
        " ARSM0321187FB567B0\n",
        "Safety Scissors"
       ]
      },
      {
       "output_type": "stream",
       "stream": "stdout",
       "text": [
        " ARG1UZV1187FB37E88\n",
        "Anja Schneider"
       ]
      },
      {
       "output_type": "stream",
       "stream": "stdout",
       "text": [
        " ARGRM841187B99D8A0\n",
        "Markus Guentner"
       ]
      },
      {
       "output_type": "stream",
       "stream": "stdout",
       "text": [
        " AR2NMDJ1187FB392B9\n",
        "Fuckpony"
       ]
      },
      {
       "output_type": "stream",
       "stream": "stdout",
       "text": [
        " ARVFCVA1187B992D8A\n",
        "Onur \u00d6zer"
       ]
      },
      {
       "output_type": "stream",
       "stream": "stdout",
       "text": [
        " AR07YJO1187FB3EA2F\n",
        "Mossa"
       ]
      },
      {
       "output_type": "stream",
       "stream": "stdout",
       "text": [
        " ARS68LC1187B9A3443\n",
        "Kenneth James Gibson"
       ]
      },
      {
       "output_type": "stream",
       "stream": "stdout",
       "text": [
        " ARUUNI81187FB51C80\n",
        "Butane"
       ]
      },
      {
       "output_type": "stream",
       "stream": "stdout",
       "text": [
        " ARC8SY01187FB49FC7\n",
        "Mikael Stav\u00f6strand"
       ]
      },
      {
       "output_type": "stream",
       "stream": "stdout",
       "text": [
        " ARIGP6W1187B99AF87\n",
        "Franklin de Costa"
       ]
      },
      {
       "output_type": "stream",
       "stream": "stdout",
       "text": [
        " ARUSA7K1187FB38211\n",
        "Quantec"
       ]
      },
      {
       "output_type": "stream",
       "stream": "stdout",
       "text": [
        " AR3LLO61187FB4BBCF\n",
        "Jin Choi"
       ]
      },
      {
       "output_type": "stream",
       "stream": "stdout",
       "text": [
        " ARZPL3F1187B9B21F9\n",
        "The Mountain People"
       ]
      },
      {
       "output_type": "stream",
       "stream": "stdout",
       "text": [
        " AR6VAR71187FB5CE81\n",
        "Ch\u00e2teau Flight"
       ]
      },
      {
       "output_type": "stream",
       "stream": "stdout",
       "text": [
        " AR5PG7K1187FB4E0A6\n",
        "Havantepe"
       ]
      },
      {
       "output_type": "stream",
       "stream": "stdout",
       "text": [
        " ARWOTCH123526A0F43\n",
        "Tomas Jirku"
       ]
      },
      {
       "output_type": "stream",
       "stream": "stdout",
       "text": [
        " ARMNBNR1187B9B1B54\n",
        "Lima\u00e7on"
       ]
      },
      {
       "output_type": "stream",
       "stream": "stdout",
       "text": [
        " AR5WADS1187B9B73B5\n",
        "Redshape"
       ]
      },
      {
       "output_type": "stream",
       "stream": "stdout",
       "text": [
        " ARVH0FS1187B996447\n",
        "Mike Huckaby"
       ]
      },
      {
       "output_type": "stream",
       "stream": "stdout",
       "text": [
        " AR9MS421187B99106A\n",
        "Taylor Deupree"
       ]
      },
      {
       "output_type": "stream",
       "stream": "stdout",
       "text": [
        " AR226CG1187B9B1748\n",
        "Substance & Vainqueur"
       ]
      },
      {
       "output_type": "stream",
       "stream": "stdout",
       "text": [
        " ARVUK8D1187FB4C0A6\n",
        "Photek"
       ]
      },
      {
       "output_type": "stream",
       "stream": "stdout",
       "text": [
        " ARKQ6QN1187B9B016D\n",
        "Zomby"
       ]
      },
      {
       "output_type": "stream",
       "stream": "stdout",
       "text": [
        " ARGGXTD11C8A42D729\n",
        "Kode9"
       ]
      },
      {
       "output_type": "stream",
       "stream": "stdout",
       "text": [
        " ARJDPS41187FB3E84A\n",
        "Vex'd"
       ]
      },
      {
       "output_type": "stream",
       "stream": "stdout",
       "text": [
        " ARXAHU31187B9B1520\n",
        "Plastician"
       ]
      },
      {
       "output_type": "stream",
       "stream": "stdout",
       "text": [
        " ARC2C0O1187B9A9869\n",
        "Joy Orbison"
       ]
      },
      {
       "output_type": "stream",
       "stream": "stdout",
       "text": [
        " ARLBHBE12472CE2A35\n",
        "Eskmo"
       ]
      },
      {
       "output_type": "stream",
       "stream": "stdout",
       "text": [
        " ARMXXTP12086C118B8\n",
        "Tes La Rok"
       ]
      },
      {
       "output_type": "stream",
       "stream": "stdout",
       "text": [
        " AR54F671187FB507B4\n",
        "DFRNT"
       ]
      },
      {
       "output_type": "stream",
       "stream": "stdout",
       "text": [
        " ARHMRGY1241B9C7E9E\n",
        "Africa HiTech"
       ]
      },
      {
       "output_type": "stream",
       "stream": "stdout",
       "text": [
        " ARWONCX12592CD91AB\n",
        "King Midas Sound"
       ]
      },
      {
       "output_type": "stream",
       "stream": "stdout",
       "text": [
        " ARBAND51187FB50C7F\n",
        "Skream"
       ]
      },
      {
       "output_type": "stream",
       "stream": "stdout",
       "text": [
        " ARNXHP01187FB585FE\n",
        "Djunya"
       ]
      },
      {
       "output_type": "stream",
       "stream": "stdout",
       "text": [
        " ARSZKFN12086C11883\n",
        "2562"
       ]
      },
      {
       "output_type": "stream",
       "stream": "stdout",
       "text": [
        " AR8Y3UG1187B9A3468\n",
        "Fantastic Mr. Fox"
       ]
      },
      {
       "output_type": "stream",
       "stream": "stdout",
       "text": [
        " ARFQXHA12086C131AB\n",
        "Ikonika"
       ]
      },
      {
       "output_type": "stream",
       "stream": "stdout",
       "text": [
        " ARH9FYH11A348F0D1D\n",
        "Timeblind"
       ]
      },
      {
       "output_type": "stream",
       "stream": "stdout",
       "text": [
        " AR5K6AA1187B994927\n",
        "Mark Pritchard"
       ]
      },
      {
       "output_type": "stream",
       "stream": "stdout",
       "text": [
        " AR6OVD21187B9A62F9\n",
        "Appleblim"
       ]
      },
      {
       "output_type": "stream",
       "stream": "stdout",
       "text": [
        " ARCG0KG1187FB50B9A\n",
        "Ramadanman"
       ]
      },
      {
       "output_type": "stream",
       "stream": "stdout",
       "text": [
        " ARXGTYM1187FB5613A\n",
        "D1"
       ]
      },
      {
       "output_type": "stream",
       "stream": "stdout",
       "text": [
        " ARZDIO01187B98EDA3\n",
        "Matty G"
       ]
      },
      {
       "output_type": "stream",
       "stream": "stdout",
       "text": [
        " ARR77TQ1187FB507C2\n",
        "Peverelist"
       ]
      },
      {
       "output_type": "stream",
       "stream": "stdout",
       "text": [
        " AR7EAKO11A348F0D21\n",
        "Untold"
       ]
      },
      {
       "output_type": "stream",
       "stream": "stdout",
       "text": [
        " ARDNHTQ11C8A4153C2\n",
        "Roska"
       ]
      },
      {
       "output_type": "stream",
       "stream": "stdout",
       "text": [
        " ARNSHBI123E29C2853\n",
        "El-B"
       ]
      },
      {
       "output_type": "stream",
       "stream": "stdout",
       "text": [
        " AROMBZC1187B988FEA\n",
        "Mala"
       ]
      },
      {
       "output_type": "stream",
       "stream": "stdout",
       "text": [
        " ARZ4G1D1187FB4643B\n",
        "Coki"
       ]
      },
      {
       "output_type": "stream",
       "stream": "stdout",
       "text": [
        " ARFELYQ1187FB5830C\n",
        "Hijak"
       ]
      },
      {
       "output_type": "stream",
       "stream": "stdout",
       "text": [
        " ARTPLNM1187FB507C4\n",
        "Mount Kimbie"
       ]
      },
      {
       "output_type": "stream",
       "stream": "stdout",
       "text": [
        " ARHDFGD12472CE34AC\n",
        "Chrissy Murderbot"
       ]
      },
      {
       "output_type": "stream",
       "stream": "stdout",
       "text": [
        " AR53LQT1187B9B4ADC\n",
        "Scuba"
       ]
      },
      {
       "output_type": "stream",
       "stream": "stdout",
       "text": [
        " AR26LAR1187FB4846B\n",
        "Kush Arora"
       ]
      },
      {
       "output_type": "stream",
       "stream": "stdout",
       "text": [
        " AR91M1O119B340318B\n",
        "Meesha"
       ]
      },
      {
       "output_type": "stream",
       "stream": "stdout",
       "text": [
        " ARTUHCW1242078044A\n",
        "Martyn"
       ]
      },
      {
       "output_type": "stream",
       "stream": "stdout",
       "text": [
        " ARMSTWE1187FB3C8EB\n",
        "Bj\u00f6rk"
       ]
      },
      {
       "output_type": "stream",
       "stream": "stdout",
       "text": [
        " ARAOQ5T1187FB435AB\n",
        "Kraftwerk"
       ]
      },
      {
       "output_type": "stream",
       "stream": "stdout",
       "text": [
        " AR1ZKBE1187FB53629\n",
        "DJ Shadow"
       ]
      },
      {
       "output_type": "stream",
       "stream": "stdout",
       "text": [
        " ARME7101187FB3ECDD\n",
        "Radiohead"
       ]
      },
      {
       "output_type": "stream",
       "stream": "stdout",
       "text": [
        " ARH6W4X1187B99274F\n",
        "The Orb"
       ]
      },
      {
       "output_type": "stream",
       "stream": "stdout",
       "text": [
        " AR414I51187B99D330\n",
        "Jean Michel Jarre"
       ]
      },
      {
       "output_type": "stream",
       "stream": "stdout",
       "text": [
        " ARGCQH71187B9B6921\n",
        "Aphex Twin"
       ]
      },
      {
       "output_type": "stream",
       "stream": "stdout",
       "text": [
        " ARYPTWE1187FB49D64\n",
        "Tangerine Dream"
       ]
      },
      {
       "output_type": "stream",
       "stream": "stdout",
       "text": [
        " AR2L9A61187B9ADDBC\n",
        "Boards of Canada"
       ]
      },
      {
       "output_type": "stream",
       "stream": "stdout",
       "text": [
        " AROG07L1187FB4C826\n",
        "Amon Tobin"
       ]
      },
      {
       "output_type": "stream",
       "stream": "stdout",
       "text": [
        " AR2AVSC1187B991634\n",
        "Ratatat"
       ]
      },
      {
       "output_type": "stream",
       "stream": "stdout",
       "text": [
        " AREPZK61187B990670\n",
        "Massive Attack"
       ]
      },
      {
       "output_type": "stream",
       "stream": "stdout",
       "text": [
        " ARNF13I1187FB562A5\n",
        "R\u00f6yksopp"
       ]
      },
      {
       "output_type": "stream",
       "stream": "stdout",
       "text": [
        " ARDA9NZ1187FB3A825\n",
        "LCD Soundsystem"
       ]
      },
      {
       "output_type": "stream",
       "stream": "stdout",
       "text": [
        " ARFIU2R1187B9927F9\n",
        "Gotan Project"
       ]
      },
      {
       "output_type": "stream",
       "stream": "stdout",
       "text": [
        " ARBYYT61187FB37B64\n",
        "GusGus"
       ]
      },
      {
       "output_type": "stream",
       "stream": "stdout",
       "text": [
        " ARDKBAV1187FB4AF61\n",
        "Everything but the Girl"
       ]
      },
      {
       "output_type": "stream",
       "stream": "stdout",
       "text": [
        " ARTMP681187B9B77CD\n",
        "Ursula 1000"
       ]
      },
      {
       "output_type": "stream",
       "stream": "stdout",
       "text": [
        " ARHMH7Q1187B988F38\n",
        "Llorca"
       ]
      },
      {
       "output_type": "stream",
       "stream": "stdout",
       "text": [
        " ARRRORY1187B9A139D\n",
        "UNKLE"
       ]
      },
      {
       "output_type": "stream",
       "stream": "stdout",
       "text": [
        " ARQG2JT1187B99F211\n",
        "The Future Sound of London"
       ]
      },
      {
       "output_type": "stream",
       "stream": "stdout",
       "text": [
        " ARUMQ5P1187B9AC811\n",
        "The Avalanches"
       ]
      },
      {
       "output_type": "stream",
       "stream": "stdout",
       "text": [
        " ARKTCFU1187FB57FA4\n",
        "Laika"
       ]
      },
      {
       "output_type": "stream",
       "stream": "stdout",
       "text": [
        " ARI8GYL1187B98EB12\n",
        "Thievery Corporation"
       ]
      },
      {
       "output_type": "stream",
       "stream": "stdout",
       "text": [
        " ARVTCS91187FB44DF6\n",
        "Groove Armada"
       ]
      },
      {
       "output_type": "stream",
       "stream": "stdout",
       "text": [
        " ARWRMUE1187B9AC2CB\n",
        "Bonobo"
       ]
      },
      {
       "output_type": "stream",
       "stream": "stdout",
       "text": [
        " ARRB71R1187FB5751C\n",
        "DJ Food"
       ]
      },
      {
       "output_type": "stream",
       "stream": "stdout",
       "text": [
        " ARM9UI31187B99D115\n",
        "Tricky"
       ]
      },
      {
       "output_type": "stream",
       "stream": "stdout",
       "text": [
        " AR065TW1187FB4C3A5\n",
        "Dirty Vegas"
       ]
      },
      {
       "output_type": "stream",
       "stream": "stdout",
       "text": [
        " ARV86KJ1187B9AE6D7\n",
        "T\u00e9l\u00e9popmusik"
       ]
      },
      {
       "output_type": "stream",
       "stream": "stdout",
       "text": [
        " ARQ5CQ21187B9B855B\n",
        "Hooverphonic"
       ]
      },
      {
       "output_type": "stream",
       "stream": "stdout",
       "text": [
        " AR6GPHG1187FB5608B\n",
        "dZihan & Kamien"
       ]
      },
      {
       "output_type": "stream",
       "stream": "stdout",
       "text": [
        " ARUD8TE1187FB5B489\n",
        "Talvin Singh"
       ]
      },
      {
       "output_type": "stream",
       "stream": "stdout",
       "text": [
        " AR0N0DX1187FB41327\n",
        "DJ Vadim"
       ]
      },
      {
       "output_type": "stream",
       "stream": "stdout",
       "text": [
        " AR58HSY1187FB3E218\n",
        "Cibo Matto"
       ]
      },
      {
       "output_type": "stream",
       "stream": "stdout",
       "text": [
        " ARPOXHP1187B9B8112\n",
        "Esthero"
       ]
      },
      {
       "output_type": "stream",
       "stream": "stdout",
       "text": [
        " ARR1EM41187B98D816\n",
        "Martina Topley-Bird"
       ]
      },
      {
       "output_type": "stream",
       "stream": "stdout",
       "text": [
        " ARUS5MJ1187B9B0A5D\n",
        "Dimitri From Paris"
       ]
      },
      {
       "output_type": "stream",
       "stream": "stdout",
       "text": [
        " ARVNR9N1187B9B88A7\n",
        "Coldcut"
       ]
      },
      {
       "output_type": "stream",
       "stream": "stdout",
       "text": [
        " ARM7LTM1187B9B7EA3\n",
        "Death in Vegas"
       ]
      },
      {
       "output_type": "stream",
       "stream": "stdout",
       "text": [
        " ARSY3S31187B9AFA0E\n",
        "R\u00f3is\u00edn Murphy"
       ]
      },
      {
       "output_type": "stream",
       "stream": "stdout",
       "text": [
        " ARF799P1187B9A97D5\n",
        "Nitin Sawhney"
       ]
      },
      {
       "output_type": "stream",
       "stream": "stdout",
       "text": [
        " AR0V19Y1187FB5A73C\n",
        "Jos\u00e9 Padilla"
       ]
      },
      {
       "output_type": "stream",
       "stream": "stdout",
       "text": [
        " ARI8BV61187B9B2993\n",
        "Jimi Tenor"
       ]
      },
      {
       "output_type": "stream",
       "stream": "stdout",
       "text": [
        " AR0G6AY1187B990CD8\n",
        "Mr. Scruff"
       ]
      },
      {
       "output_type": "stream",
       "stream": "stdout",
       "text": [
        " AR74WCA1187FB555D7\n",
        "Dub Pistols"
       ]
      },
      {
       "output_type": "stream",
       "stream": "stdout",
       "text": [
        " ARXK4YK1187FB4D0C4\n",
        "Morcheeba"
       ]
      },
      {
       "output_type": "stream",
       "stream": "stdout",
       "text": [
        " ARU3C671187FB3F71B\n",
        "Supreme Beings of Leisure"
       ]
      },
      {
       "output_type": "stream",
       "stream": "stdout",
       "text": [
        " AR20YMY1187B990B28\n",
        "Air"
       ]
      },
      {
       "output_type": "stream",
       "stream": "stdout",
       "text": [
        " ARZZ5ZR1187FB4D149\n",
        "DJ Krush"
       ]
      },
      {
       "output_type": "stream",
       "stream": "stdout",
       "text": [
        " ARH7O4C1187B9A5837\n",
        "RJD2"
       ]
      },
      {
       "output_type": "stream",
       "stream": "stdout",
       "text": [
        " ARQG4O41187B98A03B\n",
        "Underworld"
       ]
      },
      {
       "output_type": "stream",
       "stream": "stdout",
       "text": [
        " ARQ985T1187FB48640\n",
        "jenn mierau"
       ]
      },
      {
       "output_type": "stream",
       "stream": "stdout",
       "text": [
        " ARBKBKK11EB9C81612\n",
        "Terre Thaemlitz"
       ]
      },
      {
       "output_type": "stream",
       "stream": "stdout",
       "text": [
        " ARZ82JD1187FB45B78\n",
        "Einst\u00fcrzende Neubauten"
       ]
      },
      {
       "output_type": "stream",
       "stream": "stdout",
       "text": [
        " ARVQ0YD1187B9BA5B4\n",
        "Nurse With Wound"
       ]
      },
      {
       "output_type": "stream",
       "stream": "stdout",
       "text": [
        " AR5OKRL1187B9B04FC\n",
        "The Legendary Pink Dots"
       ]
      },
      {
       "output_type": "stream",
       "stream": "stdout",
       "text": [
        " AR80D5M1187FB3846F\n",
        "Skinny Puppy"
       ]
      },
      {
       "output_type": "stream",
       "stream": "stdout",
       "text": [
        " ARAXOCH1187B9AD3F3\n",
        "Atari Teenage Riot"
       ]
      },
      {
       "output_type": "stream",
       "stream": "stdout",
       "text": [
        " AR3TG3X1187FB4D577\n",
        "Venetian Snares"
       ]
      },
      {
       "output_type": "stream",
       "stream": "stdout",
       "text": [
        " ARNCTJ91187B98D813\n",
        "\u00b5-Ziq"
       ]
      },
      {
       "output_type": "stream",
       "stream": "stdout",
       "text": [
        " AR3DAT71187FB40CCB\n",
        "Richard Devine"
       ]
      },
      {
       "output_type": "stream",
       "stream": "stdout",
       "text": [
        " ARW81LA1187B9AFA8D\n",
        "Squarepusher"
       ]
      },
      {
       "output_type": "stream",
       "stream": "stdout",
       "text": [
        " ARLIQ281187FB3DC05\n",
        "Autechre"
       ]
      },
      {
       "output_type": "stream",
       "stream": "stdout",
       "text": [
        " AR4GKTH1187FB4C8DE\n",
        "Le Tigre"
       ]
      },
      {
       "output_type": "stream",
       "stream": "stdout",
       "text": [
        " ARZPYZ11187FB4938A\n",
        "Queens of the Stone Age"
       ]
      },
      {
       "output_type": "stream",
       "stream": "stdout",
       "text": [
        " AR6G4V01187B9AD086\n",
        "Xiu Xiu"
       ]
      },
      {
       "output_type": "stream",
       "stream": "stdout",
       "text": [
        " AR2O4CE1187B9B7C7A\n",
        "Baby Dee"
       ]
      },
      {
       "output_type": "stream",
       "stream": "stdout",
       "text": [
        " ARPYH891187B9AA43D\n",
        "Alastair Galbraith"
       ]
      },
      {
       "output_type": "stream",
       "stream": "stdout",
       "text": [
        " ARVVRB51187FB4D305\n",
        "\u4e0d\u5931\u8005"
       ]
      },
      {
       "output_type": "stream",
       "stream": "stdout",
       "text": [
        " AR2FO651187FB3A4AF\n",
        "I Am Robot and Proud"
       ]
      },
      {
       "output_type": "stream",
       "stream": "stdout",
       "text": [
        " ARJDX1G1187FB5C9D7\n",
        "Meg Baird"
       ]
      },
      {
       "output_type": "stream",
       "stream": "stdout",
       "text": [
        " AR8JZZ41187FB4FE0D\n",
        "Arthur Russell"
       ]
      },
      {
       "output_type": "stream",
       "stream": "stdout",
       "text": [
        " ARUNCN01187FB426B7\n",
        "Jon Appleton"
       ]
      },
      {
       "output_type": "stream",
       "stream": "stdout",
       "text": [
        " ARC89TA1187B98A3FC\n",
        "Charles Dodge"
       ]
      },
      {
       "output_type": "stream",
       "stream": "stdout",
       "text": [
        " ARB14C01187B98D49A\n",
        "Morton Subotnick"
       ]
      },
      {
       "output_type": "stream",
       "stream": "stdout",
       "text": [
        " ARKYOJT1187B9A7505\n",
        "James Tenney"
       ]
      },
      {
       "output_type": "stream",
       "stream": "stdout",
       "text": [
        " ARU6IWB1187B993AB5\n",
        "David Tudor"
       ]
      },
      {
       "output_type": "stream",
       "stream": "stdout",
       "text": [
        " ARZ7ME31187B992254\n",
        "Vladimir Ussachevsky"
       ]
      },
      {
       "output_type": "stream",
       "stream": "stdout",
       "text": [
        " ARBWZC31187B9AA211\n",
        "Gottfried Michael Koenig"
       ]
      },
      {
       "output_type": "stream",
       "stream": "stdout",
       "text": [
        " AR27MSH1187FB3D0FE\n",
        "Pauline Oliveros"
       ]
      },
      {
       "output_type": "stream",
       "stream": "stdout",
       "text": [
        " ARV2AKI1187B9A894C\n",
        "Robert Ashley"
       ]
      },
      {
       "output_type": "stream",
       "stream": "stdout",
       "text": [
        " ARDBC241187B9A9F6C\n",
        "Nam June Paik"
       ]
      },
      {
       "output_type": "stream",
       "stream": "stdout",
       "text": [
        " ARX23CK1187B98FA4F\n",
        "La Monte Young"
       ]
      },
      {
       "output_type": "stream",
       "stream": "stdout",
       "text": [
        " ARQR1AI1187B9A9E2F\n",
        "Phill Niblock"
       ]
      },
      {
       "output_type": "stream",
       "stream": "stdout",
       "text": [
        " AREMT0M1187B9B2623\n",
        "Fran\u00e7ois Bayle"
       ]
      },
      {
       "output_type": "stream",
       "stream": "stdout",
       "text": [
        " ARODW4K1187B9AA0B6\n",
        "James Tenney"
       ]
      },
      {
       "output_type": "stream",
       "stream": "stdout",
       "text": [
        " ARU6IWB1187B993AB5\n",
        "Tim Hecker"
       ]
      },
      {
       "output_type": "stream",
       "stream": "stdout",
       "text": [
        " ARRAY5D1187B9AC11C\n",
        "Pamela Z"
       ]
      },
      {
       "output_type": "stream",
       "stream": "stdout",
       "text": [
        " ARRLXDA1187B9B405F\n",
        "Christian Wolff"
       ]
      },
      {
       "output_type": "stream",
       "stream": "stdout",
       "text": [
        " ARR3PFT1187FB4B051\n",
        "Jean-Claude Risset"
       ]
      },
      {
       "output_type": "stream",
       "stream": "stdout",
       "text": [
        " ARVQUVR1187B9A9E0F\n",
        "Paul Lansky"
       ]
      },
      {
       "output_type": "stream",
       "stream": "stdout",
       "text": [
        " ARSFENR1187B9AA1BA\n",
        "Laurie Spiegel"
       ]
      },
      {
       "output_type": "stream",
       "stream": "stdout",
       "text": [
        " ARJVNMF1187B9AA2B7\n",
        "Antye Greie"
       ]
      },
      {
       "output_type": "stream",
       "stream": "stdout",
       "text": [
        " ARBTMZH1269FB2DEFB\n",
        "Ryoji Ikeda"
       ]
      },
      {
       "output_type": "stream",
       "stream": "stdout",
       "text": [
        " AREQSQF11F33DFFFE4\n",
        "alva.noto"
       ]
      },
      {
       "output_type": "stream",
       "stream": "stdout",
       "text": [
        " ARVDSQR11F50C47BC0\n",
        "RYuichi Sakamoto"
       ]
      },
      {
       "output_type": "stream",
       "stream": "stdout",
       "text": [
        " ARXSFIQ14A06F40E63\n",
        "Lawrence English"
       ]
      },
      {
       "output_type": "stream",
       "stream": "stdout",
       "text": [
        " AR6N1NW1187B9ADC26\n",
        "Tujiko Noriko"
       ]
      },
      {
       "output_type": "stream",
       "stream": "stdout",
       "text": [
        " AROYEB51187FB512C7\n",
        "Arvo P\u00e4rt"
       ]
      },
      {
       "output_type": "stream",
       "stream": "stdout",
       "text": [
        " ARSOI001187B9B565A\n",
        "Fennesz"
       ]
      },
      {
       "output_type": "stream",
       "stream": "stdout",
       "text": [
        " ARAEZSI1187B9A8D1E\n",
        "Christopher Willits"
       ]
      },
      {
       "output_type": "stream",
       "stream": "stdout",
       "text": [
        " ARHSHU81187B9AFF15\n",
        "Colleen"
       ]
      },
      {
       "output_type": "stream",
       "stream": "stdout",
       "text": [
        " ARMWIHP1187B98C7D5\n",
        "Ben Frost"
       ]
      },
      {
       "output_type": "stream",
       "stream": "stdout",
       "text": [
        " ARTYO6G1187FB40ABC\n",
        "J\u00f3hann J\u00f3hannsson"
       ]
      },
      {
       "output_type": "stream",
       "stream": "stdout",
       "text": [
        " ARXO7AU1187B9B249F\n",
        "Sylvain Chauveau"
       ]
      },
      {
       "output_type": "stream",
       "stream": "stdout",
       "text": [
        " ARS6V5F1187FB49CE9\n",
        "King Tubby"
       ]
      },
      {
       "output_type": "stream",
       "stream": "stdout",
       "text": [
        " ARA4Y4F1187FB4275C\n",
        "Scientist"
       ]
      },
      {
       "output_type": "stream",
       "stream": "stdout",
       "text": [
        " AR4Q5ZA1187FB598A6\n",
        "Lee \"Scratch\" Perry"
       ]
      },
      {
       "output_type": "stream",
       "stream": "stdout",
       "text": [
        " ARS5NKR1187FB4EE96\n",
        "Augustus Pablo"
       ]
      },
      {
       "output_type": "stream",
       "stream": "stdout",
       "text": [
        " AR1D1ES1187FB57228\n",
        "Prince Jammy"
       ]
      },
      {
       "output_type": "stream",
       "stream": "stdout",
       "text": [
        " ARZ87AU1187FB4A24D\n",
        "Mad Professor"
       ]
      },
      {
       "output_type": "stream",
       "stream": "stdout",
       "text": [
        " ARD2GXE1187B9A2E26\n",
        "Roots Radics"
       ]
      },
      {
       "output_type": "stream",
       "stream": "stdout",
       "text": [
        " ARS9WQL1187FB3FCE5\n",
        "The Upsetters"
       ]
      },
      {
       "output_type": "stream",
       "stream": "stdout",
       "text": [
        " ARXCYYI1187FB51D67\n",
        "Sly Dunbar"
       ]
      },
      {
       "output_type": "stream",
       "stream": "stdout",
       "text": [
        " ARGBVEY11F4C84226B\n",
        "Robbie Shakespeare"
       ]
      },
      {
       "output_type": "stream",
       "stream": "stdout",
       "text": [
        " ARG8FT21187B9B8579\n",
        "Keith Hudson"
       ]
      },
      {
       "output_type": "stream",
       "stream": "stdout",
       "text": [
        " ART02IC1187B994301\n",
        "Tappa Zukie"
       ]
      },
      {
       "output_type": "stream",
       "stream": "stdout",
       "text": [
        " AR2ELJW1187FB4AEAC\n",
        "Big Youth"
       ]
      },
      {
       "output_type": "stream",
       "stream": "stdout",
       "text": [
        " AR6BZPG1187FB59B8D\n",
        "The Aggrovators"
       ]
      },
      {
       "output_type": "stream",
       "stream": "stdout",
       "text": [
        " ARZIXW21187B9B7174\n",
        "U-Roy"
       ]
      },
      {
       "output_type": "stream",
       "stream": "stdout",
       "text": [
        " ARCETNJ11F4C83C829\n",
        "Prince Far I"
       ]
      },
      {
       "output_type": "stream",
       "stream": "stdout",
       "text": [
        " ARBZCLP1187B99C35B\n",
        "Black Uhuru"
       ]
      },
      {
       "output_type": "stream",
       "stream": "stdout",
       "text": [
        " ARMDWND1187B9AEBE2\n",
        "Horace Andy"
       ]
      },
      {
       "output_type": "stream",
       "stream": "stdout",
       "text": [
        " AR3PN3R1187FB4CEBD\n",
        "I-Roy"
       ]
      },
      {
       "output_type": "stream",
       "stream": "stdout",
       "text": [
        " ARRQVWY11F4C83CD57\n",
        "The Abyssinians"
       ]
      },
      {
       "output_type": "stream",
       "stream": "stdout",
       "text": [
        " ARVY5HZ1187B9B3815\n",
        "Pablo Moses"
       ]
      },
      {
       "output_type": "stream",
       "stream": "stdout",
       "text": [
        " ARRA7K41187FB45DAB\n",
        "Max Romeo"
       ]
      },
      {
       "output_type": "stream",
       "stream": "stdout",
       "text": [
        " ARYCUWT1187B98AFF4\n",
        "The Heptones"
       ]
      },
      {
       "output_type": "stream",
       "stream": "stdout",
       "text": [
        " ARQT15C1187FB401DD\n",
        "Burning Spear"
       ]
      },
      {
       "output_type": "stream",
       "stream": "stdout",
       "text": [
        " ARJ2PMY1187FB5B563\n",
        "Dennis Brown"
       ]
      },
      {
       "output_type": "stream",
       "stream": "stdout",
       "text": [
        " ARSTA431187B9A3599\n",
        "Jacob Miller"
       ]
      },
      {
       "output_type": "stream",
       "stream": "stdout",
       "text": [
        " ARJEAL11187B9A876B\n",
        "Barrington Levy"
       ]
      },
      {
       "output_type": "stream",
       "stream": "stdout",
       "text": [
        " AR1SUNB1187FB41BC8\n",
        "Sugar Minnot"
       ]
      },
      {
       "output_type": "stream",
       "stream": "stdout",
       "text": [
        " ARNDZAG11F4C8408ED\n",
        "Yellowman"
       ]
      },
      {
       "output_type": "stream",
       "stream": "stdout",
       "text": [
        " ARZKNHT1187FB4F5FD\n",
        "Gregory Isaacs"
       ]
      },
      {
       "output_type": "stream",
       "stream": "stdout",
       "text": [
        " AR57Z841187B9B7D7D\n",
        "John Holt"
       ]
      },
      {
       "output_type": "stream",
       "stream": "stdout",
       "text": [
        " ARJPZSG1187FB3E985\n",
        "Alton Ellis"
       ]
      },
      {
       "output_type": "stream",
       "stream": "stdout",
       "text": [
        " AR7DNHO1187B992B0B\n",
        "Ken Boothe"
       ]
      },
      {
       "output_type": "stream",
       "stream": "stdout",
       "text": [
        " ARL53RS1187B9B19AD\n",
        "The Ethiopians"
       ]
      },
      {
       "output_type": "stream",
       "stream": "stdout",
       "text": [
        " ARHKFR71187FB3AFAC\n",
        "Joe Higgs"
       ]
      },
      {
       "output_type": "stream",
       "stream": "stdout",
       "text": [
        " ARLYGIM1187FB4376E\n",
        "Tommy McCook"
       ]
      },
      {
       "output_type": "stream",
       "stream": "stdout",
       "text": [
        " ARLXRDN1187FB567C1\n",
        "The Melodians"
       ]
      },
      {
       "output_type": "stream",
       "stream": "stdout",
       "text": [
        " ARVODOV1187B9AE0CC\n",
        "Delroy Wilson"
       ]
      },
      {
       "output_type": "stream",
       "stream": "stdout",
       "text": [
        " ARZZRK91187B9A5CA5\n",
        "Isaac Haile Selassie"
       ]
      },
      {
       "output_type": "stream",
       "stream": "stdout",
       "text": [
        " ARFQOGS122988EF5E6\n",
        "Polycubist"
       ]
      },
      {
       "output_type": "stream",
       "stream": "stdout",
       "text": [
        " ARWTXMS12AF7D98C10\n",
        "Manu Dibango"
       ]
      },
      {
       "output_type": "stream",
       "stream": "stdout",
       "text": [
        " ARKA5831187FB41206\n",
        "Baaba Maal"
       ]
      },
      {
       "output_type": "stream",
       "stream": "stdout",
       "text": [
        " ARZ1F401187FB5B0A3\n",
        "Antibalas"
       ]
      },
      {
       "output_type": "stream",
       "stream": "stdout",
       "text": [
        " ARURJDU12B364EA2DF\n",
        "Orlando Julius"
       ]
      },
      {
       "output_type": "stream",
       "stream": "stdout",
       "text": [
        " ARA872I1187B997CFF\n",
        "William Onyeabor"
       ]
      },
      {
       "output_type": "stream",
       "stream": "stdout",
       "text": [
        " ARQASDQ1187B99CFDF\n",
        "T.P. Orchestre Poly-Rythmo"
       ]
      },
      {
       "output_type": "stream",
       "stream": "stdout",
       "text": [
        " AR26BKT1187B9BA52E\n",
        "Sir Victor Uwaifo & His Melody Maestroes"
       ]
      },
      {
       "output_type": "stream",
       "stream": "stdout",
       "text": [
        " AR7KUBL1187B99CFDD\n",
        "Tony Allen & His Afro Messengers"
       ]
      },
      {
       "output_type": "stream",
       "stream": "stdout",
       "text": [
        " ARK8PJE1187FB36150\n",
        "Sahara All Stars Band Jos"
       ]
      },
      {
       "output_type": "stream",
       "stream": "stdout",
       "text": [
        " ARWQ4CL1187B99CFD1\n",
        "Lijadu Sisters"
       ]
      },
      {
       "output_type": "stream",
       "stream": "stdout",
       "text": [
        " ARDNMGK1187B99CFD5\n",
        "King Sunny Ade & His African Beats"
       ]
      },
      {
       "output_type": "stream",
       "stream": "stdout",
       "text": [
        " ARRG9ET1187B996E89\n",
        "Ebo Taylor"
       ]
      },
      {
       "output_type": "stream",
       "stream": "stdout",
       "text": [
        " AR8R0C81187B9A5781\n",
        "Gasper Lawal"
       ]
      },
      {
       "output_type": "stream",
       "stream": "stdout",
       "text": [
        " ARS6NR51187FB48FFF\n",
        "Tunji Oyelana and the Benders"
       ]
      },
      {
       "output_type": "stream",
       "stream": "stdout",
       "text": [
        " ARQR7011187B9AF92C\n",
        "2 Face"
       ]
      },
      {
       "output_type": "stream",
       "stream": "stdout",
       "text": [
        " ARSDY741187B9B86AC\n",
        "P Square"
       ]
      },
      {
       "output_type": "stream",
       "stream": "stdout",
       "text": [
        " ARLSNYJ11F4C83E14B\n",
        "Shina Williams & His African Percussionists"
       ]
      },
      {
       "output_type": "stream",
       "stream": "stdout",
       "text": [
        " ARG2I9K1187B99CFD6\n",
        "Weird MC"
       ]
      },
      {
       "output_type": "stream",
       "stream": "stdout",
       "text": [
        " ARCXBWS1187B9A82E2\n",
        "Plantashun Boiz"
       ]
      },
      {
       "output_type": "stream",
       "stream": "stdout",
       "text": [
        " ARRLXGD124207807B3\n",
        "Paul I.K. Dairo"
       ]
      },
      {
       "output_type": "stream",
       "stream": "stdout",
       "text": [
        " ARCCS8O1187B999691\n",
        "D'banj"
       ]
      },
      {
       "output_type": "stream",
       "stream": "stdout",
       "text": [
        " AR9KOTY11C8A414BAD\n",
        "Ruggedman"
       ]
      },
      {
       "output_type": "stream",
       "stream": "stdout",
       "text": [
        " ARDSOKW11C8A41514F\n",
        "Eedris Abdulkareem"
       ]
      },
      {
       "output_type": "stream",
       "stream": "stdout",
       "text": [
        " ARPGTO81187FB38710\n",
        "Styl-Plus"
       ]
      },
      {
       "output_type": "stream",
       "stream": "stdout",
       "text": [
        " ARGXGVN1187FB45B3D\n",
        "Tony Tetuila"
       ]
      },
      {
       "output_type": "stream",
       "stream": "stdout",
       "text": [
        " ARWPTRZ11F4C8471B4\n",
        "JJC & 419 Squad"
       ]
      },
      {
       "output_type": "stream",
       "stream": "stdout",
       "text": [
        " AR1W84A1187B990C4D\n",
        "Ebenezer Obey"
       ]
      },
      {
       "output_type": "stream",
       "stream": "stdout",
       "text": [
        " ARNT1LI1187B99EB6E\n",
        "Haruna Ishola"
       ]
      },
      {
       "output_type": "stream",
       "stream": "stdout",
       "text": [
        " ARHVMHO122988F06F6\n",
        "L\u00e1gb\u00e1j\u00e1"
       ]
      },
      {
       "output_type": "stream",
       "stream": "stdout",
       "text": [
        " AR3F3SG1187B98EED5\n",
        "Prince Nico Mbarga"
       ]
      },
      {
       "output_type": "stream",
       "stream": "stdout",
       "text": [
        " AR4ZHA51187B9B92B4\n",
        "West African Highlife Band"
       ]
      },
      {
       "output_type": "stream",
       "stream": "stdout",
       "text": [
        " ARLIG1S1187FB4BD2F\n",
        "Modenine"
       ]
      },
      {
       "output_type": "stream",
       "stream": "stdout",
       "text": [
        " AROGIKF1242077FBEF\n",
        "Terry tha Rapman"
       ]
      },
      {
       "output_type": "stream",
       "stream": "stdout",
       "text": [
        " AR95CBB11C8A414A12\n",
        "Olu Maintain"
       ]
      },
      {
       "output_type": "stream",
       "stream": "stdout",
       "text": [
        " ARPRORY12D5CD7AD71\n",
        "Majek Fashek"
       ]
      },
      {
       "output_type": "stream",
       "stream": "stdout",
       "text": [
        " ARLSD651187FB4A01E\n",
        "Konono N\u00b01"
       ]
      },
      {
       "output_type": "stream",
       "stream": "stdout",
       "text": [
        " ARJAFTG149675A9128\n",
        "Koffi Olomid\u00e9"
       ]
      },
      {
       "output_type": "stream",
       "stream": "stdout",
       "text": [
        " ARCQ3LZ1187FB49B42\n",
        "Les Bantous de la Capitale"
       ]
      },
      {
       "output_type": "stream",
       "stream": "stdout",
       "text": [
        " AR7LN7G1187FB395BB\n",
        "Thomas Mapfumo"
       ]
      },
      {
       "output_type": "stream",
       "stream": "stdout",
       "text": [
        " ARQ7KGD1187B989CE4\n",
        "Oliver Mtukudzi"
       ]
      },
      {
       "output_type": "stream",
       "stream": "stdout",
       "text": [
        " ARS79SF1187FB5BB6D\n",
        "Chiwoniso Maraire"
       ]
      },
      {
       "output_type": "stream",
       "stream": "stdout",
       "text": [
        " ARIXGNA1269FCD1352\n",
        "Thomas Mapfumo & The Blacks Unlimited"
       ]
      },
      {
       "output_type": "stream",
       "stream": "stdout",
       "text": [
        " AR43NC91187FB3852A\n",
        "Ang\u00e9lique Kidjo"
       ]
      },
      {
       "output_type": "stream",
       "stream": "stdout",
       "text": [
        " ARJTAX61187FB40B19\n",
        "Oumou Sangare"
       ]
      },
      {
       "output_type": "stream",
       "stream": "stdout",
       "text": [
        " ARKDRUN1187B9B8A4D\n",
        "Isma\u00ebl L\u00f4"
       ]
      },
      {
       "output_type": "stream",
       "stream": "stdout",
       "text": [
        " ARTM6SK1187B9B804D\n",
        "Geoffrey Oryema"
       ]
      },
      {
       "output_type": "stream",
       "stream": "stdout",
       "text": [
        " ARAENMM1187FB4064C\n",
        "Salif Keita"
       ]
      },
      {
       "output_type": "stream",
       "stream": "stdout",
       "text": [
        " ARC1WKD1187FB5A532\n",
        "Amadou & Mariam"
       ]
      },
      {
       "output_type": "stream",
       "stream": "stdout",
       "text": [
        " AREXOET1187B9B80A3\n",
        "Orchestra Baobab"
       ]
      },
      {
       "output_type": "stream",
       "stream": "stdout",
       "text": [
        " AROCST41187FB53EE3\n",
        "Bembeya Jazz National"
       ]
      },
      {
       "output_type": "stream",
       "stream": "stdout",
       "text": [
        " AR7TGNH1187B9999C2\n",
        "\n",
        "Fini - writeArtistsCaches"
       ]
      },
      {
       "output_type": "stream",
       "stream": "stdout",
       "text": [
        "\n"
       ]
      }
     ],
     "prompt_number": 1
    },
    {
     "cell_type": "code",
     "collapsed": false,
     "input": [],
     "language": "python",
     "metadata": {},
     "outputs": []
    }
   ],
   "metadata": {}
  }
 ]
}